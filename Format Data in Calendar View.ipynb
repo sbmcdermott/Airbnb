{
 "cells": [
  {
   "cell_type": "markdown",
   "metadata": {},
   "source": [
    "## Format Dates to Use in Calendar View"
   ]
  },
  {
   "cell_type": "markdown",
   "metadata": {},
   "source": [
    "### Import packages"
   ]
  },
  {
   "cell_type": "code",
   "execution_count": 96,
   "metadata": {},
   "outputs": [],
   "source": [
    "import pandas as pd\n",
    "from datetime import datetime, timedelta"
   ]
  },
  {
   "cell_type": "markdown",
   "metadata": {},
   "source": [
    "### Read in search result files"
   ]
  },
  {
   "cell_type": "code",
   "execution_count": 97,
   "metadata": {},
   "outputs": [],
   "source": [
    "weekdays = pd.read_csv('data_for_viz/weekdays.csv')\n",
    "weekdays = weekdays.drop(columns = 'Unnamed: 0')\n",
    "#weekdays.head(2)"
   ]
  },
  {
   "cell_type": "markdown",
   "metadata": {},
   "source": [
    "### Duplicate weekday pricing data"
   ]
  },
  {
   "cell_type": "code",
   "execution_count": 98,
   "metadata": {},
   "outputs": [],
   "source": [
    "week1 = weekdays.copy()\n",
    "week1['checkin'] = pd.to_datetime(week1['checkin'])\n",
    "week1['checkin'] = week1['checkin'] + timedelta(days=1)\n",
    "week1['checkin'] = week1['checkin'].dt.strftime('%m/%d/%Y')\n",
    "\n",
    "week2 = weekdays.copy()\n",
    "week2['checkin'] = pd.to_datetime(week2['checkin'])\n",
    "week2['checkin'] = week2['checkin'] + timedelta(days=2)\n",
    "week2['checkin'] = week2['checkin'].dt.strftime('%m/%d/%Y')\n",
    "\n",
    "week3 = weekdays.copy()\n",
    "week3['checkin'] = pd.to_datetime(week3['checkin'])\n",
    "week3['checkin'] = week3['checkin'] + timedelta(days=3)\n",
    "week3['checkin'] = week3['checkin'].dt.strftime('%m/%d/%Y')"
   ]
  },
  {
   "cell_type": "markdown",
   "metadata": {},
   "source": [
    "### Append dataframes"
   ]
  },
  {
   "cell_type": "code",
   "execution_count": 99,
   "metadata": {},
   "outputs": [
    {
     "data": {
      "text/plain": [
       "(249392, 23)"
      ]
     },
     "execution_count": 99,
     "metadata": {},
     "output_type": "execute_result"
    }
   ],
   "source": [
    "weekdays = weekdays.append([week1, week2, week3])\n",
    "weekdays.shape"
   ]
  },
  {
   "cell_type": "markdown",
   "metadata": {},
   "source": [
    "### Repeat for weekends file"
   ]
  },
  {
   "cell_type": "code",
   "execution_count": 100,
   "metadata": {},
   "outputs": [],
   "source": [
    "weekends = pd.read_csv('data_for_viz/weekends.csv')\n",
    "weekends = weekends.drop(columns = 'Unnamed: 0')\n",
    "#weekends.head(2)"
   ]
  },
  {
   "cell_type": "code",
   "execution_count": 101,
   "metadata": {},
   "outputs": [],
   "source": [
    "week1 = weekends.copy()\n",
    "week1['checkin'] = pd.to_datetime(week1['checkin'])\n",
    "week1['checkin'] = week1['checkin'] + timedelta(days=1)\n",
    "week1['checkin'] = week1['checkin'].dt.strftime('%m/%d/%Y')\n",
    "\n",
    "week2 = weekends.copy()\n",
    "week2['checkin'] = pd.to_datetime(week2['checkin'])\n",
    "week2['checkin'] = week2['checkin'] + timedelta(days=2)\n",
    "week2['checkin'] = week2['checkin'].dt.strftime('%m/%d/%Y')"
   ]
  },
  {
   "cell_type": "code",
   "execution_count": 102,
   "metadata": {},
   "outputs": [
    {
     "data": {
      "text/plain": [
       "(176022, 23)"
      ]
     },
     "execution_count": 102,
     "metadata": {},
     "output_type": "execute_result"
    }
   ],
   "source": [
    "weekends = weekends.append([week1, week2])\n",
    "weekends.shape"
   ]
  },
  {
   "cell_type": "markdown",
   "metadata": {},
   "source": [
    "### Append weekend and weekday dataframes"
   ]
  },
  {
   "cell_type": "code",
   "execution_count": 103,
   "metadata": {},
   "outputs": [],
   "source": [
    "date_formatted = weekends.append(weekdays)"
   ]
  },
  {
   "cell_type": "markdown",
   "metadata": {},
   "source": [
    "### Save to csv"
   ]
  },
  {
   "cell_type": "code",
   "execution_count": 104,
   "metadata": {},
   "outputs": [],
   "source": [
    "date_formatted = date_formatted.to_csv('data_for_viz/date_formatted.csv')"
   ]
  },
  {
   "cell_type": "markdown",
   "metadata": {},
   "source": [
    "### Visualize it!"
   ]
  }
 ],
 "metadata": {
  "kernelspec": {
   "display_name": "Python 3",
   "language": "python",
   "name": "python3"
  },
  "language_info": {
   "codemirror_mode": {
    "name": "ipython",
    "version": 3
   },
   "file_extension": ".py",
   "mimetype": "text/x-python",
   "name": "python",
   "nbconvert_exporter": "python",
   "pygments_lexer": "ipython3",
   "version": "3.8.3"
  }
 },
 "nbformat": 4,
 "nbformat_minor": 4
}
