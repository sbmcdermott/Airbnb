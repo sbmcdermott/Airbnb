{
 "cells": [
  {
   "cell_type": "code",
   "execution_count": 1,
   "metadata": {},
   "outputs": [],
   "source": [
    "import requests\n",
    "from bs4 import BeautifulSoup  \n",
    "import pandas as pd"
   ]
  },
  {
   "cell_type": "code",
   "execution_count": 151,
   "metadata": {},
   "outputs": [
    {
     "name": "stdout",
     "output_type": "stream",
     "text": [
      "https://www.airbnb.com/s/Nashville--TN--United-States/homes?tab_id=home_tab&refinement_paths%5B%5D=%2Fhomes&checkin=2021-01-07&checkout=2021-01-10&source=structured_search_input_header&search_type=filter_change&gps_lat=36.097228799999996&gps_lng=-86.74344959999999&place_id=ChIJPZDrEzLsZIgRoNrpodC5P30&price_min=851&price_max=3999\n",
      "3999\n",
      "100\n"
     ]
    }
   ],
   "source": [
    "# Build the website_url\n",
    "\n",
    "checkin = '2021-01-07'\n",
    "checkout = '2021-01-10'\n",
    "price_min = 851\n",
    "price_max = 3998\n",
    "count = ''\n",
    "\n",
    "while (count != '300+') and (price_max < 4000): \n",
    "    \n",
    "    #website_url = 'https://www.airbnb.com/s/Nashville--TN--United-States/homes?refinement_paths%5B%5D=%2Fhomes&tab_id=home_tab&checkin=' + str(checkin) + '&checkout=' + str(checkout) + '&search_type=filter_change&gps_lat=36.1005056&gps_lng=-86.7401728&price_max=' + str(price_max) + '&source=structured_search_input_header&place_id=ChIJPZDrEzLsZIgRoNrpodC5P30'\n",
    "    website_url = 'https://www.airbnb.com/s/Nashville--TN--United-States/homes?tab_id=home_tab&refinement_paths%5B%5D=%2Fhomes&checkin=' + str(checkin) + '&checkout=' + str(checkout) + '&source=structured_search_input_header&search_type=filter_change&gps_lat=36.097228799999996&gps_lng=-86.74344959999999&place_id=ChIJPZDrEzLsZIgRoNrpodC5P30&price_min=' + str(price_min) + '&price_max='+ str(price_max)\n",
    "        \n",
    "    request = requests.get(website_url)\n",
    "    bnb = BeautifulSoup(request.content, 'lxml')\n",
    "\n",
    "    listing_count = bnb.find('div', attrs = {'class': '_1snxcqc'}).text\n",
    "    listing_count\n",
    "    length = listing_count.find(' stays')\n",
    "    \n",
    "    count = listing_count[0:length]\n",
    "    price_max = price_max + 1\n",
    "    \n",
    "print(website_url)\n",
    "print(price_max - 1)    \n",
    "print(count)"
   ]
  },
  {
   "cell_type": "code",
   "execution_count": 152,
   "metadata": {},
   "outputs": [
    {
     "data": {
      "text/plain": [
       "15"
      ]
     },
     "execution_count": 152,
     "metadata": {},
     "output_type": "execute_result"
    }
   ],
   "source": [
    "urls = [website_url]\n",
    "#website_url\n",
    "#urls = urls.append(website_url)\n",
    "names, night_cost, categories, suphost, list_urls, guests, total, reviews = [], [], [], [], [], [], [], []\n",
    "\n",
    "for i in range(1, 15):\n",
    "    url = website_url + '&items_offset=' + str(i * 20) + '&section_offset=3'\n",
    "    urls.append(url)\n",
    "    i = i+1\n",
    "    \n",
    "len(urls)"
   ]
  },
  {
   "cell_type": "code",
   "execution_count": 153,
   "metadata": {},
   "outputs": [],
   "source": [
    "url_len = len(urls) \n",
    "\n",
    "for j in range(0, url_len):\n",
    "    page = urls[j]\n",
    "    response2 = requests.get(page)\n",
    "    bnb2 = BeautifulSoup(response2.content, 'lxml')\n",
    "    listings2 = bnb2.find_all('div', attrs = {'class': '_8ssblpx'})\n",
    "    list_len = len(listings2)\n",
    "    \n",
    "    for num2 in range(0, list_len):\n",
    "        names.append(listings2[num2].find(\"div\", {\"class\":\"_bzh5lkq\"}).text) #name of Airbnb\n",
    "        night_cost.append(listings2[num2].find(\"div\", {\"class\":\"_1fwiw8gv\"}).text) # cost per night stay\n",
    "        categories.append(listings2[num2].find(\"div\", {\"class\":\"_1tanv1h\"}).text) # what type of rental is this (i.e. 'Entire Home in Nashville')\n",
    "        suphost.append(listings2[num2].find(\"div\", {\"class\":\"_1nz9l7j\"}).text) # Superhost status\n",
    "        list_urls.append(listings2[num2].find(\"div\", {\"class\":\"_1048zci\"}).find('a')['href']) # url for the listing\n",
    "        guests.append(listings2[num2].find(\"div\", {\"class\":\"_kqh46o\"}).text) # guests and BR/BA\n",
    "        reviews.append(listings2[num2].find(\"div\", {\"class\":\"_1bbeetd\"}).text) # review count and avg star rating\n",
    "        total.append(listings2[num2].find(\"div\", {\"class\":\"_vsjqit\"}).text) # total cost for trip \n",
    "\n",
    "dictionary = {'name': names, 'nightly cost': night_cost, 'category': categories, 'superhost': suphost, 'url': list_urls, 'guests_rental': guests, 'total cost': total, 'reviews': reviews}\n",
    "search_data = pd.DataFrame(dictionary)\n",
    "\n",
    "\n",
    "search_data.to_csv('search/ci0107co0110.csv', mode='a', index=False, header=False)"
   ]
  },
  {
   "cell_type": "code",
   "execution_count": null,
   "metadata": {},
   "outputs": [],
   "source": []
  }
 ],
 "metadata": {
  "kernelspec": {
   "display_name": "Python 3",
   "language": "python",
   "name": "python3"
  },
  "language_info": {
   "codemirror_mode": {
    "name": "ipython",
    "version": 3
   },
   "file_extension": ".py",
   "mimetype": "text/x-python",
   "name": "python",
   "nbconvert_exporter": "python",
   "pygments_lexer": "ipython3",
   "version": "3.8.3"
  }
 },
 "nbformat": 4,
 "nbformat_minor": 4
}
