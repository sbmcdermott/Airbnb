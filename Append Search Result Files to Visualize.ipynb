{
 "cells": [
  {
   "cell_type": "markdown",
   "metadata": {},
   "source": [
    "## Append Weekend and Weekday Files"
   ]
  },
  {
   "cell_type": "markdown",
   "metadata": {},
   "source": [
    "### Let's import packages"
   ]
  },
  {
   "cell_type": "code",
   "execution_count": 43,
   "metadata": {},
   "outputs": [],
   "source": [
    "import pandas as pd"
   ]
  },
  {
   "cell_type": "markdown",
   "metadata": {},
   "source": [
    "### Let's read in the weekend and weekday search result files"
   ]
  },
  {
   "cell_type": "code",
   "execution_count": 44,
   "metadata": {},
   "outputs": [],
   "source": [
    "weekends = pd.read_csv('data_for_viz/weekends.csv')\n",
    "weekdays = pd.read_csv('data_for_viz/weekdays.csv')"
   ]
  },
  {
   "cell_type": "markdown",
   "metadata": {},
   "source": [
    "### Merge the files to calculate a total occupancy rate for each listing"
   ]
  },
  {
   "cell_type": "code",
   "execution_count": 45,
   "metadata": {},
   "outputs": [],
   "source": [
    "weekends = pd.merge(weekends, weekdays[['ID', 'occupancy count']], on = 'ID', how = 'left')"
   ]
  },
  {
   "cell_type": "code",
   "execution_count": 46,
   "metadata": {},
   "outputs": [
    {
     "data": {
      "text/html": [
       "<div>\n",
       "<style scoped>\n",
       "    .dataframe tbody tr th:only-of-type {\n",
       "        vertical-align: middle;\n",
       "    }\n",
       "\n",
       "    .dataframe tbody tr th {\n",
       "        vertical-align: top;\n",
       "    }\n",
       "\n",
       "    .dataframe thead th {\n",
       "        text-align: right;\n",
       "    }\n",
       "</style>\n",
       "<table border=\"1\" class=\"dataframe\">\n",
       "  <thead>\n",
       "    <tr style=\"text-align: right;\">\n",
       "      <th></th>\n",
       "      <th>Unnamed: 0</th>\n",
       "      <th>ID</th>\n",
       "      <th>name</th>\n",
       "      <th>category</th>\n",
       "      <th>privacy</th>\n",
       "      <th>superhost</th>\n",
       "      <th>url</th>\n",
       "      <th>avg_stars</th>\n",
       "      <th>review_count</th>\n",
       "      <th>guests</th>\n",
       "      <th>...</th>\n",
       "      <th>not_discounted</th>\n",
       "      <th>current_nightly</th>\n",
       "      <th>total cost</th>\n",
       "      <th>room_fee</th>\n",
       "      <th>taxes_fees_cleaning</th>\n",
       "      <th>weekend occ</th>\n",
       "      <th>weekend occ rate</th>\n",
       "      <th>weekday occ</th>\n",
       "      <th>total occ</th>\n",
       "      <th>total occ rate</th>\n",
       "    </tr>\n",
       "  </thead>\n",
       "  <tbody>\n",
       "    <tr>\n",
       "      <th>0</th>\n",
       "      <td>0</td>\n",
       "      <td>46779266</td>\n",
       "      <td>NC5 The Joint!!  Downtown Nashville Studio!</td>\n",
       "      <td>Entire apartment in Nashville</td>\n",
       "      <td>Entire</td>\n",
       "      <td>NaN</td>\n",
       "      <td>/rooms/46779266?check_in=2020-12-17&amp;check_out=...</td>\n",
       "      <td>NaN</td>\n",
       "      <td>NaN</td>\n",
       "      <td>6</td>\n",
       "      <td>...</td>\n",
       "      <td>55</td>\n",
       "      <td>55</td>\n",
       "      <td>245</td>\n",
       "      <td>165</td>\n",
       "      <td>80</td>\n",
       "      <td>12</td>\n",
       "      <td>0.538462</td>\n",
       "      <td>10.0</td>\n",
       "      <td>22.0</td>\n",
       "      <td>0.58</td>\n",
       "    </tr>\n",
       "    <tr>\n",
       "      <th>10</th>\n",
       "      <td>1</td>\n",
       "      <td>35440277</td>\n",
       "      <td>Brand-New Condo, 2 Blocks to Centennial Park</td>\n",
       "      <td>Entire apartment in Nashville</td>\n",
       "      <td>Entire</td>\n",
       "      <td>NaN</td>\n",
       "      <td>/rooms/35440277?check_in=2020-12-17&amp;check_out=...</td>\n",
       "      <td>4.64</td>\n",
       "      <td>14.0</td>\n",
       "      <td>4</td>\n",
       "      <td>...</td>\n",
       "      <td>NaN</td>\n",
       "      <td>58</td>\n",
       "      <td>329</td>\n",
       "      <td>174</td>\n",
       "      <td>155</td>\n",
       "      <td>23</td>\n",
       "      <td>0.115385</td>\n",
       "      <td>26.0</td>\n",
       "      <td>49.0</td>\n",
       "      <td>0.06</td>\n",
       "    </tr>\n",
       "    <tr>\n",
       "      <th>36</th>\n",
       "      <td>2</td>\n",
       "      <td>29543248</td>\n",
       "      <td>DOWNTOWN NASHVILLE - COMFY &amp; COZY (C)</td>\n",
       "      <td>Entire apartment in Nashville</td>\n",
       "      <td>Entire</td>\n",
       "      <td>SUPERHOST</td>\n",
       "      <td>/rooms/29543248?check_in=2020-12-17&amp;check_out=...</td>\n",
       "      <td>4.93</td>\n",
       "      <td>76.0</td>\n",
       "      <td>6</td>\n",
       "      <td>...</td>\n",
       "      <td>63</td>\n",
       "      <td>63</td>\n",
       "      <td>302</td>\n",
       "      <td>189</td>\n",
       "      <td>113</td>\n",
       "      <td>10</td>\n",
       "      <td>0.615385</td>\n",
       "      <td>8.0</td>\n",
       "      <td>18.0</td>\n",
       "      <td>0.65</td>\n",
       "    </tr>\n",
       "    <tr>\n",
       "      <th>44</th>\n",
       "      <td>3</td>\n",
       "      <td>20137844</td>\n",
       "      <td>Tiny haven</td>\n",
       "      <td>Entire apartment in Nashville</td>\n",
       "      <td>Entire</td>\n",
       "      <td>SUPERHOST</td>\n",
       "      <td>/rooms/20137844?check_in=2020-12-17&amp;check_out=...</td>\n",
       "      <td>4.93</td>\n",
       "      <td>193.0</td>\n",
       "      <td>4</td>\n",
       "      <td>...</td>\n",
       "      <td>54</td>\n",
       "      <td>54</td>\n",
       "      <td>259</td>\n",
       "      <td>162</td>\n",
       "      <td>97</td>\n",
       "      <td>9</td>\n",
       "      <td>0.653846</td>\n",
       "      <td>14.0</td>\n",
       "      <td>23.0</td>\n",
       "      <td>0.56</td>\n",
       "    </tr>\n",
       "    <tr>\n",
       "      <th>58</th>\n",
       "      <td>4</td>\n",
       "      <td>44064578</td>\n",
       "      <td>1 BR Apartment!! Just 2 miles to Downtown!</td>\n",
       "      <td>Entire apartment in Nashville</td>\n",
       "      <td>Entire</td>\n",
       "      <td>NaN</td>\n",
       "      <td>/rooms/44064578?check_in=2020-12-17&amp;check_out=...</td>\n",
       "      <td>4.00</td>\n",
       "      <td>10.0</td>\n",
       "      <td>4</td>\n",
       "      <td>...</td>\n",
       "      <td>NaN</td>\n",
       "      <td>62</td>\n",
       "      <td>257</td>\n",
       "      <td>186</td>\n",
       "      <td>71</td>\n",
       "      <td>25</td>\n",
       "      <td>0.038462</td>\n",
       "      <td>17.0</td>\n",
       "      <td>42.0</td>\n",
       "      <td>0.19</td>\n",
       "    </tr>\n",
       "  </tbody>\n",
       "</table>\n",
       "<p>5 rows × 27 columns</p>\n",
       "</div>"
      ],
      "text/plain": [
       "    Unnamed: 0        ID                                          name  \\\n",
       "0            0  46779266   NC5 The Joint!!  Downtown Nashville Studio!   \n",
       "10           1  35440277  Brand-New Condo, 2 Blocks to Centennial Park   \n",
       "36           2  29543248         DOWNTOWN NASHVILLE - COMFY & COZY (C)   \n",
       "44           3  20137844                                    Tiny haven   \n",
       "58           4  44064578    1 BR Apartment!! Just 2 miles to Downtown!   \n",
       "\n",
       "                         category privacy  superhost  \\\n",
       "0   Entire apartment in Nashville  Entire        NaN   \n",
       "10  Entire apartment in Nashville  Entire        NaN   \n",
       "36  Entire apartment in Nashville  Entire  SUPERHOST   \n",
       "44  Entire apartment in Nashville  Entire  SUPERHOST   \n",
       "58  Entire apartment in Nashville  Entire        NaN   \n",
       "\n",
       "                                                  url  avg_stars  \\\n",
       "0   /rooms/46779266?check_in=2020-12-17&check_out=...        NaN   \n",
       "10  /rooms/35440277?check_in=2020-12-17&check_out=...       4.64   \n",
       "36  /rooms/29543248?check_in=2020-12-17&check_out=...       4.93   \n",
       "44  /rooms/20137844?check_in=2020-12-17&check_out=...       4.93   \n",
       "58  /rooms/44064578?check_in=2020-12-17&check_out=...       4.00   \n",
       "\n",
       "    review_count  guests  ... not_discounted current_nightly total cost  \\\n",
       "0            NaN       6  ...             55              55        245   \n",
       "10          14.0       4  ...            NaN              58        329   \n",
       "36          76.0       6  ...             63              63        302   \n",
       "44         193.0       4  ...             54              54        259   \n",
       "58          10.0       4  ...            NaN              62        257   \n",
       "\n",
       "   room_fee taxes_fees_cleaning weekend occ weekend occ rate weekday occ  \\\n",
       "0       165                  80          12         0.538462        10.0   \n",
       "10      174                 155          23         0.115385        26.0   \n",
       "36      189                 113          10         0.615385         8.0   \n",
       "44      162                  97           9         0.653846        14.0   \n",
       "58      186                  71          25         0.038462        17.0   \n",
       "\n",
       "    total occ  total occ rate  \n",
       "0        22.0            0.58  \n",
       "10       49.0            0.06  \n",
       "36       18.0            0.65  \n",
       "44       23.0            0.56  \n",
       "58       42.0            0.19  \n",
       "\n",
       "[5 rows x 27 columns]"
      ]
     },
     "execution_count": 46,
     "metadata": {},
     "output_type": "execute_result"
    }
   ],
   "source": [
    "weekends['total occ'] = weekends['occupancy count_x'] + weekends['occupancy count_y']\n",
    "weekends['total occ rate'] = round(((52 - weekends['occupancy count_x'] - weekends['occupancy count_y']) / 52), 2)\n",
    "weekends = weekends.rename(columns = {'occupancy count_x': 'weekend occ', 'occupancy count_y': 'weekday occ', 'occupancy rate': 'weekend occ rate'})\n",
    "weekends = weekends.drop_duplicates(subset = ['ID', 'checkin'], keep = 'first')\n",
    "\n",
    "weekends.head()"
   ]
  },
  {
   "cell_type": "code",
   "execution_count": 37,
   "metadata": {},
   "outputs": [],
   "source": [
    "weekdays = pd.read_csv('data_for_viz/weekdays.csv')\n",
    "weekdays = pd.merge(weekdays, weekends[['ID', 'weekend occ']], on = 'ID', how = 'left')"
   ]
  },
  {
   "cell_type": "code",
   "execution_count": 39,
   "metadata": {},
   "outputs": [
    {
     "data": {
      "text/plain": [
       "(62348, 27)"
      ]
     },
     "execution_count": 39,
     "metadata": {},
     "output_type": "execute_result"
    }
   ],
   "source": [
    "weekdays['total occ'] = weekdays['occupancy count'] + weekdays['weekend occ']\n",
    "weekdays['total occ rate'] = round(((52 - weekdays['weekend occ'] - weekdays['occupancy count']) / 52), 2)\n",
    "weekdays = weekdays.rename(columns = {'occupancy count': 'weekday occ', 'occupancy rate': 'weekday occ rate'})\n",
    "weekdays = weekdays.drop_duplicates(subset = ['ID', 'checkin'], keep = 'first')\n",
    "\n",
    "weekdays.shape"
   ]
  },
  {
   "cell_type": "markdown",
   "metadata": {},
   "source": [
    "### Append the files and drop the old index"
   ]
  },
  {
   "cell_type": "code",
   "execution_count": 40,
   "metadata": {},
   "outputs": [],
   "source": [
    "frames = [weekends, weekdays]\n",
    "six_months = pd.concat(frames).drop(columns = 'Unnamed: 0')\n",
    "#six_months.head()"
   ]
  },
  {
   "cell_type": "code",
   "execution_count": 41,
   "metadata": {},
   "outputs": [
    {
     "data": {
      "text/plain": [
       "(121022, 27)"
      ]
     },
     "execution_count": 41,
     "metadata": {},
     "output_type": "execute_result"
    }
   ],
   "source": [
    "six_months.shape"
   ]
  },
  {
   "cell_type": "markdown",
   "metadata": {},
   "source": [
    "### Save to csv"
   ]
  },
  {
   "cell_type": "code",
   "execution_count": 42,
   "metadata": {},
   "outputs": [],
   "source": [
    "six_months = six_months.to_csv('data_for_viz/six_months.csv')"
   ]
  },
  {
   "cell_type": "markdown",
   "metadata": {},
   "source": [
    "### Visualize it!"
   ]
  }
 ],
 "metadata": {
  "kernelspec": {
   "display_name": "Python 3",
   "language": "python",
   "name": "python3"
  },
  "language_info": {
   "codemirror_mode": {
    "name": "ipython",
    "version": 3
   },
   "file_extension": ".py",
   "mimetype": "text/x-python",
   "name": "python",
   "nbconvert_exporter": "python",
   "pygments_lexer": "ipython3",
   "version": "3.8.3"
  }
 },
 "nbformat": 4,
 "nbformat_minor": 4
}
