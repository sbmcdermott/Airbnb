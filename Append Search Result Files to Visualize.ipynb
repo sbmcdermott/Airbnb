{
 "cells": [
  {
   "cell_type": "markdown",
   "metadata": {},
   "source": [
    "## Append Weekend and Weekday Files"
   ]
  },
  {
   "cell_type": "markdown",
   "metadata": {},
   "source": [
    "### Let's import packages"
   ]
  },
  {
   "cell_type": "code",
   "execution_count": 19,
   "metadata": {},
   "outputs": [],
   "source": [
    "import pandas as pd"
   ]
  },
  {
   "cell_type": "markdown",
   "metadata": {},
   "source": [
    "### Let's read in the weekend and weekday search result files"
   ]
  },
  {
   "cell_type": "code",
   "execution_count": 20,
   "metadata": {},
   "outputs": [],
   "source": [
    "weekends = pd.read_csv('data_for_viz/weekends.csv')\n",
    "weekdays = pd.read_csv('data_for_viz/weekdays.csv')"
   ]
  },
  {
   "cell_type": "markdown",
   "metadata": {},
   "source": [
    "### Merge the files to calculate a total occupancy rate for each listing"
   ]
  },
  {
   "cell_type": "code",
   "execution_count": 21,
   "metadata": {},
   "outputs": [],
   "source": [
    "weekends = pd.merge(weekends, weekdays[['ID', 'occupancy count']], on = 'ID', how = 'left')"
   ]
  },
  {
   "cell_type": "code",
   "execution_count": 22,
   "metadata": {},
   "outputs": [
    {
     "data": {
      "text/plain": [
       "(58674, 27)"
      ]
     },
     "execution_count": 22,
     "metadata": {},
     "output_type": "execute_result"
    }
   ],
   "source": [
    "weekends['total occ'] = weekends['occupancy count_x'] + weekends['occupancy count_y']\n",
    "weekends['total occ rate'] = (52 - weekends['occupancy count_x'] - weekends['occupancy count_y']) / 52\n",
    "weekends = weekends.rename(columns = {'occupancy count_x': 'weekend occ', 'occupancy count_y': 'weekday occ', 'occupancy rate': 'weekend occ rate'})\n",
    "weekends = weekends.drop_duplicates(subset = ['ID', 'checkin'], keep = 'first')\n",
    "\n",
    "weekends.shape"
   ]
  },
  {
   "cell_type": "code",
   "execution_count": 23,
   "metadata": {},
   "outputs": [],
   "source": [
    "weekdays = pd.read_csv('data_for_viz/weekdays.csv')\n",
    "weekdays = pd.merge(weekdays, weekends[['ID', 'weekend occ']], on = 'ID', how = 'left')"
   ]
  },
  {
   "cell_type": "code",
   "execution_count": 24,
   "metadata": {},
   "outputs": [
    {
     "data": {
      "text/plain": [
       "(62348, 27)"
      ]
     },
     "execution_count": 24,
     "metadata": {},
     "output_type": "execute_result"
    }
   ],
   "source": [
    "weekdays['total occ'] = weekdays['occupancy count'] + weekdays['weekend occ']\n",
    "weekdays['total occ rate'] = (52 - weekdays['weekend occ'] - weekdays['occupancy count']) / 52\n",
    "weekdays = weekdays.rename(columns = {'occupancy count': 'weekday occ', 'occupancy rate': 'weekday occ rate'})\n",
    "weekdays = weekdays.drop_duplicates(subset = ['ID', 'checkin'], keep = 'first')\n",
    "\n",
    "weekdays.shape"
   ]
  },
  {
   "cell_type": "markdown",
   "metadata": {},
   "source": [
    "### Append the files and drop the old index"
   ]
  },
  {
   "cell_type": "code",
   "execution_count": 25,
   "metadata": {},
   "outputs": [
    {
     "data": {
      "text/html": [
       "<div>\n",
       "<style scoped>\n",
       "    .dataframe tbody tr th:only-of-type {\n",
       "        vertical-align: middle;\n",
       "    }\n",
       "\n",
       "    .dataframe tbody tr th {\n",
       "        vertical-align: top;\n",
       "    }\n",
       "\n",
       "    .dataframe thead th {\n",
       "        text-align: right;\n",
       "    }\n",
       "</style>\n",
       "<table border=\"1\" class=\"dataframe\">\n",
       "  <thead>\n",
       "    <tr style=\"text-align: right;\">\n",
       "      <th></th>\n",
       "      <th>ID</th>\n",
       "      <th>name</th>\n",
       "      <th>category</th>\n",
       "      <th>privacy</th>\n",
       "      <th>superhost</th>\n",
       "      <th>url</th>\n",
       "      <th>avg_stars</th>\n",
       "      <th>review_count</th>\n",
       "      <th>guests</th>\n",
       "      <th>beds</th>\n",
       "      <th>...</th>\n",
       "      <th>current_nightly</th>\n",
       "      <th>total cost</th>\n",
       "      <th>room_fee</th>\n",
       "      <th>taxes_fees_cleaning</th>\n",
       "      <th>weekend occ</th>\n",
       "      <th>weekend occ rate</th>\n",
       "      <th>weekday occ</th>\n",
       "      <th>total occ</th>\n",
       "      <th>total occ rate</th>\n",
       "      <th>weekday occ rate</th>\n",
       "    </tr>\n",
       "  </thead>\n",
       "  <tbody>\n",
       "    <tr>\n",
       "      <th>982195</th>\n",
       "      <td>27926507</td>\n",
       "      <td>Two SANITIZED Luxury Lofts at The Waverly</td>\n",
       "      <td>Entire apartment in Nashville</td>\n",
       "      <td>Entire</td>\n",
       "      <td>SUPERHOST</td>\n",
       "      <td>/rooms/27926507?check_in=2021-06-13&amp;check_out=...</td>\n",
       "      <td>NaN</td>\n",
       "      <td>NaN</td>\n",
       "      <td>12</td>\n",
       "      <td>6</td>\n",
       "      <td>...</td>\n",
       "      <td>629</td>\n",
       "      <td>3191</td>\n",
       "      <td>2516</td>\n",
       "      <td>675</td>\n",
       "      <td>11.0</td>\n",
       "      <td>NaN</td>\n",
       "      <td>24.0</td>\n",
       "      <td>35.0</td>\n",
       "      <td>0.326923</td>\n",
       "      <td>0.076923</td>\n",
       "    </tr>\n",
       "    <tr>\n",
       "      <th>982206</th>\n",
       "      <td>42277394</td>\n",
       "      <td>FIVE Queen Rooms! •Motel• 4miles from Downtown!</td>\n",
       "      <td>Room in boutique hotel in Nashville</td>\n",
       "      <td>Private</td>\n",
       "      <td>SUPERHOST</td>\n",
       "      <td>/rooms/42277394?check_in=2021-06-13&amp;check_out=...</td>\n",
       "      <td>NaN</td>\n",
       "      <td>NaN</td>\n",
       "      <td>16</td>\n",
       "      <td>10</td>\n",
       "      <td>...</td>\n",
       "      <td>739</td>\n",
       "      <td>3374</td>\n",
       "      <td>2956</td>\n",
       "      <td>418</td>\n",
       "      <td>17.0</td>\n",
       "      <td>NaN</td>\n",
       "      <td>24.0</td>\n",
       "      <td>41.0</td>\n",
       "      <td>0.211538</td>\n",
       "      <td>0.076923</td>\n",
       "    </tr>\n",
       "    <tr>\n",
       "      <th>982223</th>\n",
       "      <td>32379008</td>\n",
       "      <td>Beautiful, New Construction, Close To Everyth...</td>\n",
       "      <td>Entire house in Nashville</td>\n",
       "      <td>Entire</td>\n",
       "      <td>NaN</td>\n",
       "      <td>/rooms/32379008?check_in=2021-06-13&amp;check_out=...</td>\n",
       "      <td>NaN</td>\n",
       "      <td>NaN</td>\n",
       "      <td>12</td>\n",
       "      <td>5</td>\n",
       "      <td>...</td>\n",
       "      <td>1000</td>\n",
       "      <td>4565</td>\n",
       "      <td>4000</td>\n",
       "      <td>565</td>\n",
       "      <td>11.0</td>\n",
       "      <td>NaN</td>\n",
       "      <td>26.0</td>\n",
       "      <td>37.0</td>\n",
       "      <td>0.288462</td>\n",
       "      <td>0.000000</td>\n",
       "    </tr>\n",
       "    <tr>\n",
       "      <th>982234</th>\n",
       "      <td>27927058</td>\n",
       "      <td>3 or More SANITIZED Units @ Waverly in 12th S...</td>\n",
       "      <td>Entire apartment in Nashville</td>\n",
       "      <td>Entire</td>\n",
       "      <td>SUPERHOST</td>\n",
       "      <td>/rooms/27927058?check_in=2021-06-13&amp;check_out=...</td>\n",
       "      <td>NaN</td>\n",
       "      <td>NaN</td>\n",
       "      <td>16</td>\n",
       "      <td>16</td>\n",
       "      <td>...</td>\n",
       "      <td>1500</td>\n",
       "      <td>6847</td>\n",
       "      <td>6000</td>\n",
       "      <td>847</td>\n",
       "      <td>10.0</td>\n",
       "      <td>NaN</td>\n",
       "      <td>26.0</td>\n",
       "      <td>36.0</td>\n",
       "      <td>0.307692</td>\n",
       "      <td>0.000000</td>\n",
       "    </tr>\n",
       "    <tr>\n",
       "      <th>982244</th>\n",
       "      <td>34205566</td>\n",
       "      <td>Home Sweet Home where it’s cozy</td>\n",
       "      <td>Entire condominium in Nashville</td>\n",
       "      <td>Entire</td>\n",
       "      <td>NaN</td>\n",
       "      <td>/rooms/34205566?check_in=2021-06-13&amp;check_out=...</td>\n",
       "      <td>NaN</td>\n",
       "      <td>NaN</td>\n",
       "      <td>1</td>\n",
       "      <td>1</td>\n",
       "      <td>...</td>\n",
       "      <td>1200</td>\n",
       "      <td>5478</td>\n",
       "      <td>4800</td>\n",
       "      <td>678</td>\n",
       "      <td>10.0</td>\n",
       "      <td>NaN</td>\n",
       "      <td>26.0</td>\n",
       "      <td>36.0</td>\n",
       "      <td>0.307692</td>\n",
       "      <td>0.000000</td>\n",
       "    </tr>\n",
       "  </tbody>\n",
       "</table>\n",
       "<p>5 rows × 27 columns</p>\n",
       "</div>"
      ],
      "text/plain": [
       "              ID                                               name  \\\n",
       "982195  27926507          Two SANITIZED Luxury Lofts at The Waverly   \n",
       "982206  42277394    FIVE Queen Rooms! •Motel• 4miles from Downtown!   \n",
       "982223  32379008   Beautiful, New Construction, Close To Everyth...   \n",
       "982234  27927058   3 or More SANITIZED Units @ Waverly in 12th S...   \n",
       "982244  34205566                    Home Sweet Home where it’s cozy   \n",
       "\n",
       "                                   category  privacy  superhost  \\\n",
       "982195        Entire apartment in Nashville   Entire  SUPERHOST   \n",
       "982206  Room in boutique hotel in Nashville  Private  SUPERHOST   \n",
       "982223            Entire house in Nashville   Entire        NaN   \n",
       "982234        Entire apartment in Nashville   Entire  SUPERHOST   \n",
       "982244      Entire condominium in Nashville   Entire        NaN   \n",
       "\n",
       "                                                      url  avg_stars  \\\n",
       "982195  /rooms/27926507?check_in=2021-06-13&check_out=...        NaN   \n",
       "982206  /rooms/42277394?check_in=2021-06-13&check_out=...        NaN   \n",
       "982223  /rooms/32379008?check_in=2021-06-13&check_out=...        NaN   \n",
       "982234  /rooms/27927058?check_in=2021-06-13&check_out=...        NaN   \n",
       "982244  /rooms/34205566?check_in=2021-06-13&check_out=...        NaN   \n",
       "\n",
       "        review_count  guests beds  ... current_nightly total cost room_fee  \\\n",
       "982195           NaN      12    6  ...             629       3191     2516   \n",
       "982206           NaN      16   10  ...             739       3374     2956   \n",
       "982223           NaN      12    5  ...            1000       4565     4000   \n",
       "982234           NaN      16   16  ...            1500       6847     6000   \n",
       "982244           NaN       1    1  ...            1200       5478     4800   \n",
       "\n",
       "       taxes_fees_cleaning weekend occ weekend occ rate weekday occ  \\\n",
       "982195                 675        11.0              NaN        24.0   \n",
       "982206                 418        17.0              NaN        24.0   \n",
       "982223                 565        11.0              NaN        26.0   \n",
       "982234                 847        10.0              NaN        26.0   \n",
       "982244                 678        10.0              NaN        26.0   \n",
       "\n",
       "        total occ  total occ rate  weekday occ rate  \n",
       "982195       35.0        0.326923          0.076923  \n",
       "982206       41.0        0.211538          0.076923  \n",
       "982223       37.0        0.288462          0.000000  \n",
       "982234       36.0        0.307692          0.000000  \n",
       "982244       36.0        0.307692          0.000000  \n",
       "\n",
       "[5 rows x 27 columns]"
      ]
     },
     "execution_count": 25,
     "metadata": {},
     "output_type": "execute_result"
    }
   ],
   "source": [
    "frames = [weekends, weekdays]\n",
    "six_months = pd.concat(frames).drop(columns = 'Unnamed: 0')\n",
    "#six_months.head()"
   ]
  },
  {
   "cell_type": "code",
   "execution_count": 26,
   "metadata": {},
   "outputs": [
    {
     "data": {
      "text/plain": [
       "(121022, 27)"
      ]
     },
     "execution_count": 26,
     "metadata": {},
     "output_type": "execute_result"
    }
   ],
   "source": [
    "six_months.shape"
   ]
  },
  {
   "cell_type": "markdown",
   "metadata": {},
   "source": [
    "### Save to csv"
   ]
  },
  {
   "cell_type": "code",
   "execution_count": 27,
   "metadata": {},
   "outputs": [],
   "source": [
    "six_months = six_months.to_csv('data_for_viz/six_months.csv')"
   ]
  },
  {
   "cell_type": "markdown",
   "metadata": {},
   "source": [
    "### Visualize it!"
   ]
  }
 ],
 "metadata": {
  "kernelspec": {
   "display_name": "Python 3",
   "language": "python",
   "name": "python3"
  },
  "language_info": {
   "codemirror_mode": {
    "name": "ipython",
    "version": 3
   },
   "file_extension": ".py",
   "mimetype": "text/x-python",
   "name": "python",
   "nbconvert_exporter": "python",
   "pygments_lexer": "ipython3",
   "version": "3.8.3"
  }
 },
 "nbformat": 4,
 "nbformat_minor": 4
}
