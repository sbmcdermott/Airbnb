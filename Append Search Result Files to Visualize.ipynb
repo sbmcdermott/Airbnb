{
 "cells": [
  {
   "cell_type": "markdown",
   "metadata": {},
   "source": [
    "## Append Weekend and Weekday Files"
   ]
  },
  {
   "cell_type": "markdown",
   "metadata": {},
   "source": [
    "### Let's import packages"
   ]
  },
  {
   "cell_type": "code",
   "execution_count": 1,
   "metadata": {},
   "outputs": [],
   "source": [
    "import pandas as pd"
   ]
  },
  {
   "cell_type": "markdown",
   "metadata": {},
   "source": [
    "### Let's read in the weekend and weekday search result files"
   ]
  },
  {
   "cell_type": "code",
   "execution_count": 2,
   "metadata": {},
   "outputs": [],
   "source": [
    "weekends = pd.read_csv('data_for_viz/weekends.csv')\n",
    "weekdays = pd.read_csv('data_for_viz/weekdays.csv')"
   ]
  },
  {
   "cell_type": "markdown",
   "metadata": {},
   "source": [
    "### Merge the files to calculate a total occupancy rate for each listing"
   ]
  },
  {
   "cell_type": "code",
   "execution_count": 3,
   "metadata": {},
   "outputs": [],
   "source": [
    "weekends = pd.merge(weekends, weekdays[['ID', 'occupancy count']], on = 'ID', how = 'left')"
   ]
  },
  {
   "cell_type": "code",
   "execution_count": 4,
   "metadata": {},
   "outputs": [
    {
     "data": {
      "text/plain": [
       "(58674, 27)"
      ]
     },
     "execution_count": 4,
     "metadata": {},
     "output_type": "execute_result"
    }
   ],
   "source": [
    "weekends['total occ'] = weekends['occupancy count_x'] + weekends['occupancy count_y']\n",
    "weekends['total occ rate'] = round(((52 - weekends['occupancy count_x'] - weekends['occupancy count_y']) / 52), 2)\n",
    "weekends = weekends.rename(columns = {'occupancy count_x': 'weekend occ', 'occupancy count_y': 'weekday occ', 'occupancy rate': 'weekend occ rate'})\n",
    "weekends = weekends.drop_duplicates(subset = ['ID', 'checkin'], keep = 'first')\n",
    "\n",
    "weekends.shape"
   ]
  },
  {
   "cell_type": "code",
   "execution_count": 5,
   "metadata": {},
   "outputs": [],
   "source": [
    "weekdays = pd.read_csv('data_for_viz/weekdays.csv')\n",
    "weekdays = pd.merge(weekdays, weekends[['ID', 'weekend occ']], on = 'ID', how = 'left')"
   ]
  },
  {
   "cell_type": "code",
   "execution_count": 6,
   "metadata": {},
   "outputs": [
    {
     "data": {
      "text/plain": [
       "(62348, 27)"
      ]
     },
     "execution_count": 6,
     "metadata": {},
     "output_type": "execute_result"
    }
   ],
   "source": [
    "weekdays['total occ'] = weekdays['occupancy count'] + weekdays['weekend occ']\n",
    "weekdays['total occ rate'] = round(((52 - weekdays['weekend occ'] - weekdays['occupancy count']) / 52), 2)\n",
    "weekdays = weekdays.rename(columns = {'occupancy count': 'weekday occ', 'occupancy rate': 'weekday occ rate'})\n",
    "weekdays = weekdays.drop_duplicates(subset = ['ID', 'checkin'], keep = 'first')\n",
    "\n",
    "weekdays.shape"
   ]
  },
  {
   "cell_type": "markdown",
   "metadata": {},
   "source": [
    "### Append the files and drop the old index"
   ]
  },
  {
   "cell_type": "code",
   "execution_count": 7,
   "metadata": {},
   "outputs": [
    {
     "data": {
      "text/html": [
       "<div>\n",
       "<style scoped>\n",
       "    .dataframe tbody tr th:only-of-type {\n",
       "        vertical-align: middle;\n",
       "    }\n",
       "\n",
       "    .dataframe tbody tr th {\n",
       "        vertical-align: top;\n",
       "    }\n",
       "\n",
       "    .dataframe thead th {\n",
       "        text-align: right;\n",
       "    }\n",
       "</style>\n",
       "<table border=\"1\" class=\"dataframe\">\n",
       "  <thead>\n",
       "    <tr style=\"text-align: right;\">\n",
       "      <th></th>\n",
       "      <th>ID</th>\n",
       "      <th>name</th>\n",
       "      <th>category</th>\n",
       "      <th>privacy</th>\n",
       "      <th>superhost</th>\n",
       "      <th>url</th>\n",
       "      <th>avg_stars</th>\n",
       "      <th>review_count</th>\n",
       "      <th>guests</th>\n",
       "      <th>beds</th>\n",
       "      <th>...</th>\n",
       "      <th>current_nightly</th>\n",
       "      <th>total cost</th>\n",
       "      <th>room_fee</th>\n",
       "      <th>taxes_fees_cleaning</th>\n",
       "      <th>weekend occ</th>\n",
       "      <th>weekend occ rate</th>\n",
       "      <th>weekday occ</th>\n",
       "      <th>total occ</th>\n",
       "      <th>total occ rate</th>\n",
       "      <th>weekday occ rate</th>\n",
       "    </tr>\n",
       "  </thead>\n",
       "  <tbody>\n",
       "    <tr>\n",
       "      <th>0</th>\n",
       "      <td>46779266</td>\n",
       "      <td>NC5 The Joint!!  Downtown Nashville Studio!</td>\n",
       "      <td>Entire apartment in Nashville</td>\n",
       "      <td>Entire</td>\n",
       "      <td>NaN</td>\n",
       "      <td>/rooms/46779266?check_in=2020-12-17&amp;check_out=...</td>\n",
       "      <td>NaN</td>\n",
       "      <td>NaN</td>\n",
       "      <td>6</td>\n",
       "      <td>2</td>\n",
       "      <td>...</td>\n",
       "      <td>55</td>\n",
       "      <td>245</td>\n",
       "      <td>165</td>\n",
       "      <td>80</td>\n",
       "      <td>12.0</td>\n",
       "      <td>0.538462</td>\n",
       "      <td>10.0</td>\n",
       "      <td>22.0</td>\n",
       "      <td>0.58</td>\n",
       "      <td>NaN</td>\n",
       "    </tr>\n",
       "    <tr>\n",
       "      <th>1</th>\n",
       "      <td>35440277</td>\n",
       "      <td>Brand-New Condo, 2 Blocks to Centennial Park</td>\n",
       "      <td>Entire apartment in Nashville</td>\n",
       "      <td>Entire</td>\n",
       "      <td>NaN</td>\n",
       "      <td>/rooms/35440277?check_in=2020-12-17&amp;check_out=...</td>\n",
       "      <td>4.64</td>\n",
       "      <td>14.0</td>\n",
       "      <td>4</td>\n",
       "      <td>2</td>\n",
       "      <td>...</td>\n",
       "      <td>58</td>\n",
       "      <td>329</td>\n",
       "      <td>174</td>\n",
       "      <td>155</td>\n",
       "      <td>23.0</td>\n",
       "      <td>0.115385</td>\n",
       "      <td>26.0</td>\n",
       "      <td>49.0</td>\n",
       "      <td>0.06</td>\n",
       "      <td>NaN</td>\n",
       "    </tr>\n",
       "  </tbody>\n",
       "</table>\n",
       "<p>2 rows × 27 columns</p>\n",
       "</div>"
      ],
      "text/plain": [
       "         ID                                          name  \\\n",
       "0  46779266   NC5 The Joint!!  Downtown Nashville Studio!   \n",
       "1  35440277  Brand-New Condo, 2 Blocks to Centennial Park   \n",
       "\n",
       "                        category privacy superhost  \\\n",
       "0  Entire apartment in Nashville  Entire       NaN   \n",
       "1  Entire apartment in Nashville  Entire       NaN   \n",
       "\n",
       "                                                 url  avg_stars  review_count  \\\n",
       "0  /rooms/46779266?check_in=2020-12-17&check_out=...        NaN           NaN   \n",
       "1  /rooms/35440277?check_in=2020-12-17&check_out=...       4.64          14.0   \n",
       "\n",
       "   guests beds  ... current_nightly total cost room_fee taxes_fees_cleaning  \\\n",
       "0       6    2  ...              55        245      165                  80   \n",
       "1       4    2  ...              58        329      174                 155   \n",
       "\n",
       "  weekend occ weekend occ rate weekday occ  total occ  total occ rate  \\\n",
       "0        12.0         0.538462        10.0       22.0            0.58   \n",
       "1        23.0         0.115385        26.0       49.0            0.06   \n",
       "\n",
       "   weekday occ rate  \n",
       "0               NaN  \n",
       "1               NaN  \n",
       "\n",
       "[2 rows x 27 columns]"
      ]
     },
     "execution_count": 7,
     "metadata": {},
     "output_type": "execute_result"
    }
   ],
   "source": [
    "frames = [weekends, weekdays]\n",
    "six_months = pd.concat(frames).drop(columns = 'Unnamed: 0').reset_index(drop=True)\n",
    "six_months.head(2)"
   ]
  },
  {
   "cell_type": "code",
   "execution_count": 8,
   "metadata": {},
   "outputs": [
    {
     "data": {
      "text/plain": [
       "(121022, 27)"
      ]
     },
     "execution_count": 8,
     "metadata": {},
     "output_type": "execute_result"
    }
   ],
   "source": [
    "six_months.shape"
   ]
  },
  {
   "cell_type": "markdown",
   "metadata": {},
   "source": [
    "### Save to csv"
   ]
  },
  {
   "cell_type": "code",
   "execution_count": 9,
   "metadata": {},
   "outputs": [],
   "source": [
    "six_months = six_months.to_csv('data_for_viz/six_months.csv')"
   ]
  },
  {
   "cell_type": "markdown",
   "metadata": {},
   "source": [
    "### Visualize it!"
   ]
  }
 ],
 "metadata": {
  "kernelspec": {
   "display_name": "Python 3",
   "language": "python",
   "name": "python3"
  },
  "language_info": {
   "codemirror_mode": {
    "name": "ipython",
    "version": 3
   },
   "file_extension": ".py",
   "mimetype": "text/x-python",
   "name": "python",
   "nbconvert_exporter": "python",
   "pygments_lexer": "ipython3",
   "version": "3.8.3"
  }
 },
 "nbformat": 4,
 "nbformat_minor": 4
}
