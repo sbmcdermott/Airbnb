{
 "cells": [
  {
   "cell_type": "markdown",
   "metadata": {},
   "source": [
    "## Append Weekend and Weekday Files"
   ]
  },
  {
   "cell_type": "markdown",
   "metadata": {},
   "source": [
    "### Let's import packages"
   ]
  },
  {
   "cell_type": "code",
   "execution_count": 27,
   "metadata": {},
   "outputs": [],
   "source": [
    "import pandas as pd"
   ]
  },
  {
   "cell_type": "markdown",
   "metadata": {},
   "source": [
    "### Let's read in the weekend and weekday search result files"
   ]
  },
  {
   "cell_type": "code",
   "execution_count": 28,
   "metadata": {},
   "outputs": [],
   "source": [
    "weekends = pd.read_csv('data_for_viz/weekends.csv')\n",
    "weekdays = pd.read_csv('data_for_viz/weekdays.csv')"
   ]
  },
  {
   "cell_type": "markdown",
   "metadata": {},
   "source": [
    "### Merge the files to calculate a total occupancy rate for each listing"
   ]
  },
  {
   "cell_type": "code",
   "execution_count": 29,
   "metadata": {},
   "outputs": [],
   "source": [
    "weekends = pd.merge(weekends, weekdays[['ID', 'occupancy count']], on = 'ID', how = 'left')"
   ]
  },
  {
   "cell_type": "code",
   "execution_count": 30,
   "metadata": {},
   "outputs": [],
   "source": [
    "weekends['total occ'] = weekends['occupancy count_x'] + weekends['occupancy count_y']\n",
    "weekends['total occ rate'] = (52 - weekends['occupancy count_x'] - weekends['occupancy count_y']) / 52\n",
    "weekends = weekends.rename(columns = {'occupancy count_x': 'weekend occ', 'occupancy count_y': 'weekday occ', 'occupancy rate': 'weekend occ rate'})\n",
    "\n",
    "#weekends.head()"
   ]
  },
  {
   "cell_type": "code",
   "execution_count": 31,
   "metadata": {},
   "outputs": [],
   "source": [
    "weekdays = pd.read_csv('data_for_viz/weekdays.csv')\n",
    "weekdays = pd.merge(weekdays, weekends[['ID', 'weekend occ']], on = 'ID', how = 'left')"
   ]
  },
  {
   "cell_type": "code",
   "execution_count": 32,
   "metadata": {},
   "outputs": [],
   "source": [
    "weekdays['total occ'] = weekdays['occupancy count'] + weekdays['weekend occ']\n",
    "weekdays['total occ rate'] = (52 - weekdays['weekend occ'] - weekdays['occupancy count']) / 52\n",
    "weekdays = weekdays.rename(columns = {'occupancy count': 'weekday occ', 'occupancy rate': 'weekday occ rate'})\n",
    "\n",
    "#weekdays.head()"
   ]
  },
  {
   "cell_type": "markdown",
   "metadata": {},
   "source": [
    "### Append the files and drop the old index"
   ]
  },
  {
   "cell_type": "code",
   "execution_count": 34,
   "metadata": {},
   "outputs": [
    {
     "data": {
      "text/html": [
       "<div>\n",
       "<style scoped>\n",
       "    .dataframe tbody tr th:only-of-type {\n",
       "        vertical-align: middle;\n",
       "    }\n",
       "\n",
       "    .dataframe tbody tr th {\n",
       "        vertical-align: top;\n",
       "    }\n",
       "\n",
       "    .dataframe thead th {\n",
       "        text-align: right;\n",
       "    }\n",
       "</style>\n",
       "<table border=\"1\" class=\"dataframe\">\n",
       "  <thead>\n",
       "    <tr style=\"text-align: right;\">\n",
       "      <th></th>\n",
       "      <th>ID</th>\n",
       "      <th>name</th>\n",
       "      <th>category</th>\n",
       "      <th>privacy</th>\n",
       "      <th>superhost</th>\n",
       "      <th>url</th>\n",
       "      <th>avg_stars</th>\n",
       "      <th>review_count</th>\n",
       "      <th>guests</th>\n",
       "      <th>beds</th>\n",
       "      <th>...</th>\n",
       "      <th>current_nightly</th>\n",
       "      <th>total cost</th>\n",
       "      <th>room_fee</th>\n",
       "      <th>taxes_fees_cleaning</th>\n",
       "      <th>weekend occ</th>\n",
       "      <th>weekend occ rate</th>\n",
       "      <th>weekday occ</th>\n",
       "      <th>total occ</th>\n",
       "      <th>total occ rate</th>\n",
       "      <th>weekday occ rate</th>\n",
       "    </tr>\n",
       "  </thead>\n",
       "  <tbody>\n",
       "    <tr>\n",
       "      <th>19168497</th>\n",
       "      <td>34205566</td>\n",
       "      <td>Home Sweet Home where it’s cozy</td>\n",
       "      <td>Entire condominium in Nashville</td>\n",
       "      <td>Entire</td>\n",
       "      <td>NaN</td>\n",
       "      <td>/rooms/34205566?check_in=2021-06-13&amp;check_out=...</td>\n",
       "      <td>NaN</td>\n",
       "      <td>NaN</td>\n",
       "      <td>1</td>\n",
       "      <td>1</td>\n",
       "      <td>...</td>\n",
       "      <td>1200</td>\n",
       "      <td>5478</td>\n",
       "      <td>4800</td>\n",
       "      <td>678</td>\n",
       "      <td>10.0</td>\n",
       "      <td>NaN</td>\n",
       "      <td>26.0</td>\n",
       "      <td>36.0</td>\n",
       "      <td>0.307692</td>\n",
       "      <td>0.0</td>\n",
       "    </tr>\n",
       "    <tr>\n",
       "      <th>19168498</th>\n",
       "      <td>34205566</td>\n",
       "      <td>Home Sweet Home where it’s cozy</td>\n",
       "      <td>Entire condominium in Nashville</td>\n",
       "      <td>Entire</td>\n",
       "      <td>NaN</td>\n",
       "      <td>/rooms/34205566?check_in=2021-06-13&amp;check_out=...</td>\n",
       "      <td>NaN</td>\n",
       "      <td>NaN</td>\n",
       "      <td>1</td>\n",
       "      <td>1</td>\n",
       "      <td>...</td>\n",
       "      <td>1200</td>\n",
       "      <td>5478</td>\n",
       "      <td>4800</td>\n",
       "      <td>678</td>\n",
       "      <td>10.0</td>\n",
       "      <td>NaN</td>\n",
       "      <td>26.0</td>\n",
       "      <td>36.0</td>\n",
       "      <td>0.307692</td>\n",
       "      <td>0.0</td>\n",
       "    </tr>\n",
       "    <tr>\n",
       "      <th>19168499</th>\n",
       "      <td>34205566</td>\n",
       "      <td>Home Sweet Home where it’s cozy</td>\n",
       "      <td>Entire condominium in Nashville</td>\n",
       "      <td>Entire</td>\n",
       "      <td>NaN</td>\n",
       "      <td>/rooms/34205566?check_in=2021-06-13&amp;check_out=...</td>\n",
       "      <td>NaN</td>\n",
       "      <td>NaN</td>\n",
       "      <td>1</td>\n",
       "      <td>1</td>\n",
       "      <td>...</td>\n",
       "      <td>1200</td>\n",
       "      <td>5478</td>\n",
       "      <td>4800</td>\n",
       "      <td>678</td>\n",
       "      <td>10.0</td>\n",
       "      <td>NaN</td>\n",
       "      <td>26.0</td>\n",
       "      <td>36.0</td>\n",
       "      <td>0.307692</td>\n",
       "      <td>0.0</td>\n",
       "    </tr>\n",
       "    <tr>\n",
       "      <th>19168500</th>\n",
       "      <td>34205566</td>\n",
       "      <td>Home Sweet Home where it’s cozy</td>\n",
       "      <td>Entire condominium in Nashville</td>\n",
       "      <td>Entire</td>\n",
       "      <td>NaN</td>\n",
       "      <td>/rooms/34205566?check_in=2021-06-13&amp;check_out=...</td>\n",
       "      <td>NaN</td>\n",
       "      <td>NaN</td>\n",
       "      <td>1</td>\n",
       "      <td>1</td>\n",
       "      <td>...</td>\n",
       "      <td>1200</td>\n",
       "      <td>5478</td>\n",
       "      <td>4800</td>\n",
       "      <td>678</td>\n",
       "      <td>10.0</td>\n",
       "      <td>NaN</td>\n",
       "      <td>26.0</td>\n",
       "      <td>36.0</td>\n",
       "      <td>0.307692</td>\n",
       "      <td>0.0</td>\n",
       "    </tr>\n",
       "    <tr>\n",
       "      <th>19168501</th>\n",
       "      <td>34205566</td>\n",
       "      <td>Home Sweet Home where it’s cozy</td>\n",
       "      <td>Entire condominium in Nashville</td>\n",
       "      <td>Entire</td>\n",
       "      <td>NaN</td>\n",
       "      <td>/rooms/34205566?check_in=2021-06-13&amp;check_out=...</td>\n",
       "      <td>NaN</td>\n",
       "      <td>NaN</td>\n",
       "      <td>1</td>\n",
       "      <td>1</td>\n",
       "      <td>...</td>\n",
       "      <td>1200</td>\n",
       "      <td>5478</td>\n",
       "      <td>4800</td>\n",
       "      <td>678</td>\n",
       "      <td>10.0</td>\n",
       "      <td>NaN</td>\n",
       "      <td>26.0</td>\n",
       "      <td>36.0</td>\n",
       "      <td>0.307692</td>\n",
       "      <td>0.0</td>\n",
       "    </tr>\n",
       "  </tbody>\n",
       "</table>\n",
       "<p>5 rows × 27 columns</p>\n",
       "</div>"
      ],
      "text/plain": [
       "                ID                              name  \\\n",
       "19168497  34205566   Home Sweet Home where it’s cozy   \n",
       "19168498  34205566   Home Sweet Home where it’s cozy   \n",
       "19168499  34205566   Home Sweet Home where it’s cozy   \n",
       "19168500  34205566   Home Sweet Home where it’s cozy   \n",
       "19168501  34205566   Home Sweet Home where it’s cozy   \n",
       "\n",
       "                                 category privacy superhost  \\\n",
       "19168497  Entire condominium in Nashville  Entire       NaN   \n",
       "19168498  Entire condominium in Nashville  Entire       NaN   \n",
       "19168499  Entire condominium in Nashville  Entire       NaN   \n",
       "19168500  Entire condominium in Nashville  Entire       NaN   \n",
       "19168501  Entire condominium in Nashville  Entire       NaN   \n",
       "\n",
       "                                                        url  avg_stars  \\\n",
       "19168497  /rooms/34205566?check_in=2021-06-13&check_out=...        NaN   \n",
       "19168498  /rooms/34205566?check_in=2021-06-13&check_out=...        NaN   \n",
       "19168499  /rooms/34205566?check_in=2021-06-13&check_out=...        NaN   \n",
       "19168500  /rooms/34205566?check_in=2021-06-13&check_out=...        NaN   \n",
       "19168501  /rooms/34205566?check_in=2021-06-13&check_out=...        NaN   \n",
       "\n",
       "          review_count  guests beds  ... current_nightly total cost room_fee  \\\n",
       "19168497           NaN       1    1  ...            1200       5478     4800   \n",
       "19168498           NaN       1    1  ...            1200       5478     4800   \n",
       "19168499           NaN       1    1  ...            1200       5478     4800   \n",
       "19168500           NaN       1    1  ...            1200       5478     4800   \n",
       "19168501           NaN       1    1  ...            1200       5478     4800   \n",
       "\n",
       "         taxes_fees_cleaning weekend occ weekend occ rate weekday occ  \\\n",
       "19168497                 678        10.0              NaN        26.0   \n",
       "19168498                 678        10.0              NaN        26.0   \n",
       "19168499                 678        10.0              NaN        26.0   \n",
       "19168500                 678        10.0              NaN        26.0   \n",
       "19168501                 678        10.0              NaN        26.0   \n",
       "\n",
       "          total occ  total occ rate  weekday occ rate  \n",
       "19168497       36.0        0.307692               0.0  \n",
       "19168498       36.0        0.307692               0.0  \n",
       "19168499       36.0        0.307692               0.0  \n",
       "19168500       36.0        0.307692               0.0  \n",
       "19168501       36.0        0.307692               0.0  \n",
       "\n",
       "[5 rows x 27 columns]"
      ]
     },
     "execution_count": 34,
     "metadata": {},
     "output_type": "execute_result"
    }
   ],
   "source": [
    "frames = [weekends, weekdays]\n",
    "six_months = pd.concat(frames).drop(columns = 'Unnamed: 0')\n",
    "six_months.tail()"
   ]
  },
  {
   "cell_type": "markdown",
   "metadata": {},
   "source": [
    "### Save to csv"
   ]
  },
  {
   "cell_type": "code",
   "execution_count": 35,
   "metadata": {},
   "outputs": [],
   "source": [
    "six_months = six_months.to_csv('data_for_viz/six_months.csv')"
   ]
  },
  {
   "cell_type": "markdown",
   "metadata": {},
   "source": [
    "### Visualize it!"
   ]
  }
 ],
 "metadata": {
  "kernelspec": {
   "display_name": "Python 3",
   "language": "python",
   "name": "python3"
  },
  "language_info": {
   "codemirror_mode": {
    "name": "ipython",
    "version": 3
   },
   "file_extension": ".py",
   "mimetype": "text/x-python",
   "name": "python",
   "nbconvert_exporter": "python",
   "pygments_lexer": "ipython3",
   "version": "3.8.3"
  }
 },
 "nbformat": 4,
 "nbformat_minor": 4
}
