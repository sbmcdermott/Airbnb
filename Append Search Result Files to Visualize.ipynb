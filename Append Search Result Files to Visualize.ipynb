{
 "cells": [
  {
   "cell_type": "markdown",
   "metadata": {},
   "source": [
    "## Append Weekend and Weekday Files"
   ]
  },
  {
   "cell_type": "markdown",
   "metadata": {},
   "source": [
    "### Let's import packages"
   ]
  },
  {
   "cell_type": "code",
   "execution_count": 10,
   "metadata": {},
   "outputs": [],
   "source": [
    "import pandas as pd"
   ]
  },
  {
   "cell_type": "markdown",
   "metadata": {},
   "source": [
    "### Let's read in the weekend and weekday search result files"
   ]
  },
  {
   "cell_type": "code",
   "execution_count": 11,
   "metadata": {},
   "outputs": [],
   "source": [
    "weekends = pd.read_csv('data_for_viz/weekends.csv')\n",
    "weekdays = pd.read_csv('data_for_viz/weekdays.csv')"
   ]
  },
  {
   "cell_type": "markdown",
   "metadata": {},
   "source": [
    "### Append the files and drop the old index"
   ]
  },
  {
   "cell_type": "code",
   "execution_count": 12,
   "metadata": {},
   "outputs": [
    {
     "data": {
      "text/html": [
       "<div>\n",
       "<style scoped>\n",
       "    .dataframe tbody tr th:only-of-type {\n",
       "        vertical-align: middle;\n",
       "    }\n",
       "\n",
       "    .dataframe tbody tr th {\n",
       "        vertical-align: top;\n",
       "    }\n",
       "\n",
       "    .dataframe thead th {\n",
       "        text-align: right;\n",
       "    }\n",
       "</style>\n",
       "<table border=\"1\" class=\"dataframe\">\n",
       "  <thead>\n",
       "    <tr style=\"text-align: right;\">\n",
       "      <th></th>\n",
       "      <th>name</th>\n",
       "      <th>category</th>\n",
       "      <th>superhost</th>\n",
       "      <th>url</th>\n",
       "      <th>avg_stars</th>\n",
       "      <th>review_count</th>\n",
       "      <th>guests</th>\n",
       "      <th>beds</th>\n",
       "      <th>bedroom</th>\n",
       "      <th>bath</th>\n",
       "      <th>checkin</th>\n",
       "      <th>checkout</th>\n",
       "      <th>previous_price</th>\n",
       "      <th>discounted</th>\n",
       "      <th>not_discounted</th>\n",
       "      <th>current_nightly</th>\n",
       "      <th>total cost</th>\n",
       "      <th>room_fee</th>\n",
       "      <th>taxes_fees_cleaning</th>\n",
       "    </tr>\n",
       "  </thead>\n",
       "  <tbody>\n",
       "    <tr>\n",
       "      <th>0</th>\n",
       "      <td>NC5 The Joint!!  Downtown Nashville Studio!</td>\n",
       "      <td>Entire apartment in Nashville</td>\n",
       "      <td>NaN</td>\n",
       "      <td>/rooms/46779266?check_in=2020-12-17&amp;check_out=...</td>\n",
       "      <td>NaN</td>\n",
       "      <td>NaN</td>\n",
       "      <td>6</td>\n",
       "      <td>2</td>\n",
       "      <td>Studio</td>\n",
       "      <td>1 bath</td>\n",
       "      <td>2020-12-17</td>\n",
       "      <td>2020-12-20</td>\n",
       "      <td>NaN</td>\n",
       "      <td>NaN</td>\n",
       "      <td>55</td>\n",
       "      <td>55</td>\n",
       "      <td>245</td>\n",
       "      <td>165</td>\n",
       "      <td>80</td>\n",
       "    </tr>\n",
       "    <tr>\n",
       "      <th>1</th>\n",
       "      <td>Brand-New Condo, 2 Blocks to Centennial Park</td>\n",
       "      <td>Entire apartment in Nashville</td>\n",
       "      <td>NaN</td>\n",
       "      <td>/rooms/35440277?check_in=2020-12-17&amp;check_out=...</td>\n",
       "      <td>4.64</td>\n",
       "      <td>14.0</td>\n",
       "      <td>4</td>\n",
       "      <td>2</td>\n",
       "      <td>1 bedroom</td>\n",
       "      <td>1 bath</td>\n",
       "      <td>2020-12-17</td>\n",
       "      <td>2020-12-20</td>\n",
       "      <td>122</td>\n",
       "      <td>58</td>\n",
       "      <td>NaN</td>\n",
       "      <td>58</td>\n",
       "      <td>329</td>\n",
       "      <td>174</td>\n",
       "      <td>155</td>\n",
       "    </tr>\n",
       "    <tr>\n",
       "      <th>2</th>\n",
       "      <td>DOWNTOWN NASHVILLE - COMFY &amp; COZY (C)</td>\n",
       "      <td>Entire apartment in Nashville</td>\n",
       "      <td>SUPERHOST</td>\n",
       "      <td>/rooms/29543248?check_in=2020-12-17&amp;check_out=...</td>\n",
       "      <td>4.93</td>\n",
       "      <td>76.0</td>\n",
       "      <td>6</td>\n",
       "      <td>2</td>\n",
       "      <td>2 bedrooms</td>\n",
       "      <td>1 bath</td>\n",
       "      <td>2020-12-17</td>\n",
       "      <td>2020-12-20</td>\n",
       "      <td>NaN</td>\n",
       "      <td>NaN</td>\n",
       "      <td>63</td>\n",
       "      <td>63</td>\n",
       "      <td>302</td>\n",
       "      <td>189</td>\n",
       "      <td>113</td>\n",
       "    </tr>\n",
       "    <tr>\n",
       "      <th>3</th>\n",
       "      <td>Tiny haven</td>\n",
       "      <td>Entire apartment in Nashville</td>\n",
       "      <td>SUPERHOST</td>\n",
       "      <td>/rooms/20137844?check_in=2020-12-17&amp;check_out=...</td>\n",
       "      <td>4.93</td>\n",
       "      <td>193.0</td>\n",
       "      <td>4</td>\n",
       "      <td>4</td>\n",
       "      <td>2 bedrooms</td>\n",
       "      <td>1 bath</td>\n",
       "      <td>2020-12-17</td>\n",
       "      <td>2020-12-20</td>\n",
       "      <td>NaN</td>\n",
       "      <td>NaN</td>\n",
       "      <td>54</td>\n",
       "      <td>54</td>\n",
       "      <td>259</td>\n",
       "      <td>162</td>\n",
       "      <td>97</td>\n",
       "    </tr>\n",
       "    <tr>\n",
       "      <th>4</th>\n",
       "      <td>1 BR Apartment!! Just 2 miles to Downtown!</td>\n",
       "      <td>Entire apartment in Nashville</td>\n",
       "      <td>NaN</td>\n",
       "      <td>/rooms/44064578?check_in=2020-12-17&amp;check_out=...</td>\n",
       "      <td>4.00</td>\n",
       "      <td>10.0</td>\n",
       "      <td>4</td>\n",
       "      <td>1</td>\n",
       "      <td>1 bedroom</td>\n",
       "      <td>1 bath</td>\n",
       "      <td>2020-12-17</td>\n",
       "      <td>2020-12-20</td>\n",
       "      <td>87</td>\n",
       "      <td>62</td>\n",
       "      <td>NaN</td>\n",
       "      <td>62</td>\n",
       "      <td>257</td>\n",
       "      <td>186</td>\n",
       "      <td>71</td>\n",
       "    </tr>\n",
       "  </tbody>\n",
       "</table>\n",
       "</div>"
      ],
      "text/plain": [
       "                                           name  \\\n",
       "0   NC5 The Joint!!  Downtown Nashville Studio!   \n",
       "1  Brand-New Condo, 2 Blocks to Centennial Park   \n",
       "2         DOWNTOWN NASHVILLE - COMFY & COZY (C)   \n",
       "3                                    Tiny haven   \n",
       "4    1 BR Apartment!! Just 2 miles to Downtown!   \n",
       "\n",
       "                        category  superhost  \\\n",
       "0  Entire apartment in Nashville        NaN   \n",
       "1  Entire apartment in Nashville        NaN   \n",
       "2  Entire apartment in Nashville  SUPERHOST   \n",
       "3  Entire apartment in Nashville  SUPERHOST   \n",
       "4  Entire apartment in Nashville        NaN   \n",
       "\n",
       "                                                 url  avg_stars  review_count  \\\n",
       "0  /rooms/46779266?check_in=2020-12-17&check_out=...        NaN           NaN   \n",
       "1  /rooms/35440277?check_in=2020-12-17&check_out=...       4.64          14.0   \n",
       "2  /rooms/29543248?check_in=2020-12-17&check_out=...       4.93          76.0   \n",
       "3  /rooms/20137844?check_in=2020-12-17&check_out=...       4.93         193.0   \n",
       "4  /rooms/44064578?check_in=2020-12-17&check_out=...       4.00          10.0   \n",
       "\n",
       "   guests beds     bedroom    bath     checkin    checkout previous_price  \\\n",
       "0       6    2      Studio  1 bath  2020-12-17  2020-12-20            NaN   \n",
       "1       4    2   1 bedroom  1 bath  2020-12-17  2020-12-20            122   \n",
       "2       6    2  2 bedrooms  1 bath  2020-12-17  2020-12-20            NaN   \n",
       "3       4    4  2 bedrooms  1 bath  2020-12-17  2020-12-20            NaN   \n",
       "4       4    1   1 bedroom  1 bath  2020-12-17  2020-12-20             87   \n",
       "\n",
       "  discounted not_discounted  current_nightly  total cost  room_fee  \\\n",
       "0        NaN             55               55         245       165   \n",
       "1         58            NaN               58         329       174   \n",
       "2        NaN             63               63         302       189   \n",
       "3        NaN             54               54         259       162   \n",
       "4         62            NaN               62         257       186   \n",
       "\n",
       "   taxes_fees_cleaning  \n",
       "0                   80  \n",
       "1                  155  \n",
       "2                  113  \n",
       "3                   97  \n",
       "4                   71  "
      ]
     },
     "execution_count": 12,
     "metadata": {},
     "output_type": "execute_result"
    }
   ],
   "source": [
    "frames = [weekends, weekdays]\n",
    "six_months = pd.concat(frames).drop(columns = 'Unnamed: 0')\n",
    "six_months.head()"
   ]
  },
  {
   "cell_type": "markdown",
   "metadata": {},
   "source": [
    "### Save to csv"
   ]
  },
  {
   "cell_type": "code",
   "execution_count": 13,
   "metadata": {},
   "outputs": [],
   "source": [
    "six_months = six_months.to_csv('data_for_viz/six_months.csv')"
   ]
  },
  {
   "cell_type": "markdown",
   "metadata": {},
   "source": [
    "### Visualize it!"
   ]
  }
 ],
 "metadata": {
  "kernelspec": {
   "display_name": "Python 3",
   "language": "python",
   "name": "python3"
  },
  "language_info": {
   "codemirror_mode": {
    "name": "ipython",
    "version": 3
   },
   "file_extension": ".py",
   "mimetype": "text/x-python",
   "name": "python",
   "nbconvert_exporter": "python",
   "pygments_lexer": "ipython3",
   "version": "3.8.3"
  }
 },
 "nbformat": 4,
 "nbformat_minor": 4
}
