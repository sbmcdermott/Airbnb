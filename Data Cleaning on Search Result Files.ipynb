{
 "cells": [
  {
   "cell_type": "markdown",
   "metadata": {},
   "source": [
    "## Clean Raw Data Scraped from Airbnb's Site"
   ]
  },
  {
   "cell_type": "markdown",
   "metadata": {},
   "source": [
    "### Import packages"
   ]
  },
  {
   "cell_type": "code",
   "execution_count": 518,
   "metadata": {},
   "outputs": [],
   "source": [
    "import os\n",
    "import pandas as pd"
   ]
  },
  {
   "cell_type": "markdown",
   "metadata": {},
   "source": [
    "### Read in the files from the search folder"
   ]
  },
  {
   "cell_type": "code",
   "execution_count": 519,
   "metadata": {},
   "outputs": [],
   "source": [
    "results = os.listdir('weekday/')\n",
    "#results"
   ]
  },
  {
   "cell_type": "markdown",
   "metadata": {},
   "source": [
    "### Open the files and add the dates of the search performed to each file"
   ]
  },
  {
   "cell_type": "code",
   "execution_count": 520,
   "metadata": {},
   "outputs": [],
   "source": [
    "open_file = pd.read_csv('weekday/'+results[0])\n",
    "open_file['dates'] = str(results[0])\n",
    "weekends = open_file.head(0)"
   ]
  },
  {
   "cell_type": "code",
   "execution_count": 521,
   "metadata": {},
   "outputs": [],
   "source": [
    "for file in results: \n",
    "    open_file = pd.read_csv('weekday/'+file)\n",
    "    open_file['dates'] = str(file)\n",
    "    weekends = weekends.append(open_file)"
   ]
  },
  {
   "cell_type": "code",
   "execution_count": 522,
   "metadata": {},
   "outputs": [
    {
     "data": {
      "text/html": [
       "<div>\n",
       "<style scoped>\n",
       "    .dataframe tbody tr th:only-of-type {\n",
       "        vertical-align: middle;\n",
       "    }\n",
       "\n",
       "    .dataframe tbody tr th {\n",
       "        vertical-align: top;\n",
       "    }\n",
       "\n",
       "    .dataframe thead th {\n",
       "        text-align: right;\n",
       "    }\n",
       "</style>\n",
       "<table border=\"1\" class=\"dataframe\">\n",
       "  <thead>\n",
       "    <tr style=\"text-align: right;\">\n",
       "      <th></th>\n",
       "      <th>name</th>\n",
       "      <th>nightly cost</th>\n",
       "      <th>category</th>\n",
       "      <th>superhost</th>\n",
       "      <th>url</th>\n",
       "      <th>guests_rental</th>\n",
       "      <th>total cost</th>\n",
       "      <th>reviews</th>\n",
       "      <th>dates</th>\n",
       "    </tr>\n",
       "  </thead>\n",
       "  <tbody>\n",
       "    <tr>\n",
       "      <th>0</th>\n",
       "      <td>Private Room &amp; Bath 5 minutes to Downtown Nash</td>\n",
       "      <td>Price:$35 / night</td>\n",
       "      <td>Private room in Nashville</td>\n",
       "      <td>SUPERHOST</td>\n",
       "      <td>/rooms/46832964?check_in=2020-12-20&amp;check_out=...</td>\n",
       "      <td>2 guests · 1 bedroom · 1 bed · 1 private bath</td>\n",
       "      <td>Price:$177 totalShow details</td>\n",
       "      <td>Price:$35 / nightPrice:$177 totalShow details</td>\n",
       "      <td>ci2020-12-20co2020-12-24.csv</td>\n",
       "    </tr>\n",
       "  </tbody>\n",
       "</table>\n",
       "</div>"
      ],
      "text/plain": [
       "                                             name       nightly cost  \\\n",
       "0  Private Room & Bath 5 minutes to Downtown Nash  Price:$35 / night   \n",
       "\n",
       "                    category  superhost  \\\n",
       "0  Private room in Nashville  SUPERHOST   \n",
       "\n",
       "                                                 url  \\\n",
       "0  /rooms/46832964?check_in=2020-12-20&check_out=...   \n",
       "\n",
       "                                   guests_rental  \\\n",
       "0  2 guests · 1 bedroom · 1 bed · 1 private bath   \n",
       "\n",
       "                     total cost  \\\n",
       "0  Price:$177 totalShow details   \n",
       "\n",
       "                                         reviews                         dates  \n",
       "0  Price:$35 / nightPrice:$177 totalShow details  ci2020-12-20co2020-12-24.csv  "
      ]
     },
     "execution_count": 522,
     "metadata": {},
     "output_type": "execute_result"
    }
   ],
   "source": [
    "weekends.reset_index(drop = True)\n",
    "weekends.head(1)"
   ]
  },
  {
   "cell_type": "markdown",
   "metadata": {},
   "source": [
    "### Create columns for checkin and checkout dates"
   ]
  },
  {
   "cell_type": "code",
   "execution_count": 523,
   "metadata": {},
   "outputs": [],
   "source": [
    "# new data frame with split value columns \n",
    "dates = weekends['dates'].str.split('co', n = 1, expand = True)\n",
    "weekends['checkin'] = dates[0] \n",
    "weekends['checkout'] = dates[1]\n",
    "#weekends.head()"
   ]
  },
  {
   "cell_type": "code",
   "execution_count": 524,
   "metadata": {},
   "outputs": [],
   "source": [
    "weekends['checkin'] = weekends['checkin'].str.replace('ci','')\n",
    "weekends['checkout'] = weekends['checkout'].str.replace('.csv','')\n",
    "weekends.drop('dates', axis=1, inplace=True)\n",
    "#weekends.head()                                                    "
   ]
  },
  {
   "cell_type": "markdown",
   "metadata": {},
   "source": [
    "### Clean the columns scrubbed from Airbnb's site"
   ]
  },
  {
   "cell_type": "markdown",
   "metadata": {},
   "source": [
    "#### Create a column for the number of guests "
   ]
  },
  {
   "cell_type": "code",
   "execution_count": 525,
   "metadata": {},
   "outputs": [],
   "source": [
    "weekends['guests'] = weekends['guests_rental'].str.partition(' · ')[0]\n",
    "#weekends.head()"
   ]
  },
  {
   "cell_type": "code",
   "execution_count": 526,
   "metadata": {},
   "outputs": [],
   "source": [
    "weekends['guest_rental2'] = weekends['guests_rental'].str.partition(' · ')[2]\n",
    "#weekends.head()"
   ]
  },
  {
   "cell_type": "markdown",
   "metadata": {},
   "source": [
    "#### Create a column for the number of bedrooms"
   ]
  },
  {
   "cell_type": "code",
   "execution_count": 527,
   "metadata": {},
   "outputs": [],
   "source": [
    "weekends['bedroom'] = weekends['guest_rental2'].str.partition(' · ')[0] \n",
    "#weekends.head()"
   ]
  },
  {
   "cell_type": "code",
   "execution_count": 528,
   "metadata": {},
   "outputs": [],
   "source": [
    "weekends['guest_rental3'] = weekends['guest_rental2'].str.partition(' · ')[2]\n",
    "#weekends.head()"
   ]
  },
  {
   "cell_type": "markdown",
   "metadata": {},
   "source": [
    "#### Create a column for the number of beds"
   ]
  },
  {
   "cell_type": "code",
   "execution_count": 529,
   "metadata": {},
   "outputs": [],
   "source": [
    "weekends['beds'] = weekends['guest_rental3'].str.partition(' · ')[0] \n",
    "#weekends.head()"
   ]
  },
  {
   "cell_type": "code",
   "execution_count": 530,
   "metadata": {},
   "outputs": [],
   "source": [
    "weekends['bath'] = weekends['guest_rental3'].str.partition(' · ')[2]\n",
    "#weekends.head()"
   ]
  },
  {
   "cell_type": "markdown",
   "metadata": {},
   "source": [
    "#### Drop original columns that have been cleaned"
   ]
  },
  {
   "cell_type": "code",
   "execution_count": 531,
   "metadata": {},
   "outputs": [],
   "source": [
    "weekends.drop(columns = ['guests_rental', 'guest_rental2', 'guest_rental3'], axis=1, inplace=True)\n",
    "#weekends.head()"
   ]
  },
  {
   "cell_type": "markdown",
   "metadata": {},
   "source": [
    "#### Create columns for the prices associated with each listing"
   ]
  },
  {
   "cell_type": "code",
   "execution_count": 532,
   "metadata": {},
   "outputs": [],
   "source": [
    "weekends['not_discounted'] = weekends['nightly cost'].str.partition('Previous price:')[0]\n",
    "#weekends.head()"
   ]
  },
  {
   "cell_type": "code",
   "execution_count": 533,
   "metadata": {},
   "outputs": [],
   "source": [
    "weekends['test'] = weekends['nightly cost'].str.partition('Previous price:')[2]\n",
    "#weekends.head()"
   ]
  },
  {
   "cell_type": "code",
   "execution_count": 534,
   "metadata": {},
   "outputs": [],
   "source": [
    "weekends['discounted'] = weekends['test'].str.partition(':')[0]\n",
    "#weekends.head()"
   ]
  },
  {
   "cell_type": "code",
   "execution_count": 535,
   "metadata": {},
   "outputs": [],
   "source": [
    "weekends['discounted'] = weekends['test'].str.partition(':')[2]\n",
    "#weekends.head()"
   ]
  },
  {
   "cell_type": "code",
   "execution_count": 536,
   "metadata": {},
   "outputs": [],
   "source": [
    "weekends['previous_price'] = weekends['test'].str.partition(':')[0]\n",
    "#weekends.head()"
   ]
  },
  {
   "cell_type": "code",
   "execution_count": 537,
   "metadata": {},
   "outputs": [],
   "source": [
    "weekends.drop(columns=['test', 'nightly cost'], axis=1, inplace=True)\n",
    "#weekends.head()"
   ]
  },
  {
   "cell_type": "code",
   "execution_count": 538,
   "metadata": {},
   "outputs": [],
   "source": [
    "weekends['not_discounted'] = weekends['not_discounted'].str.replace('Price:', '') \n",
    "weekends['not_discounted'] = weekends['not_discounted'].str.replace(' / night', '')\n",
    "\n",
    "#weekends.head()"
   ]
  },
  {
   "cell_type": "code",
   "execution_count": 539,
   "metadata": {},
   "outputs": [],
   "source": [
    "weekends['discounted'] = weekends['discounted'].str.replace(' / night', '')\n",
    "#weekends.head()"
   ]
  },
  {
   "cell_type": "code",
   "execution_count": 540,
   "metadata": {},
   "outputs": [],
   "source": [
    "weekends['previous_price'] = weekends['previous_price'].str.replace('Discounted price', '')\n",
    "#weekends.head()"
   ]
  },
  {
   "cell_type": "code",
   "execution_count": 541,
   "metadata": {},
   "outputs": [],
   "source": [
    "weekends['current_nightly'] = weekends['not_discounted'] + weekends['discounted']\n",
    "#weekends.head()"
   ]
  },
  {
   "cell_type": "markdown",
   "metadata": {},
   "source": [
    "#### Remove redundant words from values in columns with clear descriptions"
   ]
  },
  {
   "cell_type": "code",
   "execution_count": 542,
   "metadata": {},
   "outputs": [],
   "source": [
    "weekends['guests'] = weekends['guests'].str.replace(' guests', '')\n",
    "#weekends.head()"
   ]
  },
  {
   "cell_type": "code",
   "execution_count": 543,
   "metadata": {},
   "outputs": [],
   "source": [
    "weekends['guests'] = weekends['guests'].str.replace(' guest', '')\n",
    "#weekends.head(25)"
   ]
  },
  {
   "cell_type": "code",
   "execution_count": 544,
   "metadata": {},
   "outputs": [],
   "source": [
    "weekends['beds'] = weekends['beds'].str.replace(' beds', '')\n",
    "weekends['beds'] = weekends['beds'].str.replace(' bed', '')\n",
    "#weekends.head()"
   ]
  },
  {
   "cell_type": "code",
   "execution_count": 545,
   "metadata": {},
   "outputs": [],
   "source": [
    "weekends['total cost'] = weekends['total cost'].str.replace('Price:', '')\n",
    "weekends['total cost'] = weekends['total cost'].str.replace('totalShow details', '')\n",
    "#weekends.head()"
   ]
  },
  {
   "cell_type": "markdown",
   "metadata": {},
   "source": [
    "#### Create columns for number of reviews and average stars"
   ]
  },
  {
   "cell_type": "code",
   "execution_count": 546,
   "metadata": {},
   "outputs": [],
   "source": [
    "weekends['review_test'] = weekends['reviews'].str.partition('Rating')[2]\n",
    "#weekends.head()"
   ]
  },
  {
   "cell_type": "code",
   "execution_count": 547,
   "metadata": {},
   "outputs": [],
   "source": [
    "weekends['avg_stars'] = weekends['review_test'].str.partition(' out of')[0]\n",
    "#weekends.head()"
   ]
  },
  {
   "cell_type": "code",
   "execution_count": 548,
   "metadata": {},
   "outputs": [],
   "source": [
    "weekends['review_count2'] = weekends['review_test'].str.partition('(')[2]\n",
    "#weekends.head()"
   ]
  },
  {
   "cell_type": "code",
   "execution_count": 549,
   "metadata": {},
   "outputs": [],
   "source": [
    "weekends['review_count'] = weekends['review_count2'].str.partition(')')[0]\n",
    "#weekends.head()"
   ]
  },
  {
   "cell_type": "code",
   "execution_count": 550,
   "metadata": {},
   "outputs": [],
   "source": [
    "weekends.drop(columns = ['review_count2', 'review_test', 'reviews'], axis=1, inplace=True)\n",
    "#weekends.head()"
   ]
  },
  {
   "cell_type": "markdown",
   "metadata": {},
   "source": [
    "#### Drop original columns that have been cleaned"
   ]
  },
  {
   "cell_type": "code",
   "execution_count": 551,
   "metadata": {},
   "outputs": [
    {
     "data": {
      "text/html": [
       "<div>\n",
       "<style scoped>\n",
       "    .dataframe tbody tr th:only-of-type {\n",
       "        vertical-align: middle;\n",
       "    }\n",
       "\n",
       "    .dataframe tbody tr th {\n",
       "        vertical-align: top;\n",
       "    }\n",
       "\n",
       "    .dataframe thead th {\n",
       "        text-align: right;\n",
       "    }\n",
       "</style>\n",
       "<table border=\"1\" class=\"dataframe\">\n",
       "  <thead>\n",
       "    <tr style=\"text-align: right;\">\n",
       "      <th></th>\n",
       "      <th>name</th>\n",
       "      <th>category</th>\n",
       "      <th>superhost</th>\n",
       "      <th>url</th>\n",
       "      <th>avg_stars</th>\n",
       "      <th>review_count</th>\n",
       "      <th>guests</th>\n",
       "      <th>beds</th>\n",
       "      <th>bedroom</th>\n",
       "      <th>bath</th>\n",
       "      <th>checkin</th>\n",
       "      <th>checkout</th>\n",
       "      <th>previous_price</th>\n",
       "      <th>discounted</th>\n",
       "      <th>not_discounted</th>\n",
       "      <th>current_nightly</th>\n",
       "      <th>total cost</th>\n",
       "    </tr>\n",
       "  </thead>\n",
       "  <tbody>\n",
       "    <tr>\n",
       "      <th>0</th>\n",
       "      <td>Private Room &amp; Bath 5 minutes to Downtown Nash</td>\n",
       "      <td>Private room in Nashville</td>\n",
       "      <td>SUPERHOST</td>\n",
       "      <td>/rooms/46832964?check_in=2020-12-20&amp;check_out=...</td>\n",
       "      <td></td>\n",
       "      <td></td>\n",
       "      <td>2</td>\n",
       "      <td>1</td>\n",
       "      <td>1 bedroom</td>\n",
       "      <td>1 private bath</td>\n",
       "      <td>2020-12-20</td>\n",
       "      <td>2020-12-24</td>\n",
       "      <td></td>\n",
       "      <td></td>\n",
       "      <td>$35</td>\n",
       "      <td>$35</td>\n",
       "      <td>$177</td>\n",
       "    </tr>\n",
       "    <tr>\n",
       "      <th>1</th>\n",
       "      <td>BW5 Downtown Nashville!!  Do Bro 8!!</td>\n",
       "      <td>Entire apartment in Nashville</td>\n",
       "      <td>NaN</td>\n",
       "      <td>/rooms/45934635?check_in=2020-12-20&amp;check_out=...</td>\n",
       "      <td></td>\n",
       "      <td></td>\n",
       "      <td>1</td>\n",
       "      <td>2</td>\n",
       "      <td>Studio</td>\n",
       "      <td>1 bath</td>\n",
       "      <td>2020-12-20</td>\n",
       "      <td>2020-12-24</td>\n",
       "      <td>$62</td>\n",
       "      <td>$45</td>\n",
       "      <td></td>\n",
       "      <td>$45</td>\n",
       "      <td>$265</td>\n",
       "    </tr>\n",
       "  </tbody>\n",
       "</table>\n",
       "</div>"
      ],
      "text/plain": [
       "                                             name  \\\n",
       "0  Private Room & Bath 5 minutes to Downtown Nash   \n",
       "1            BW5 Downtown Nashville!!  Do Bro 8!!   \n",
       "\n",
       "                        category  superhost  \\\n",
       "0      Private room in Nashville  SUPERHOST   \n",
       "1  Entire apartment in Nashville        NaN   \n",
       "\n",
       "                                                 url avg_stars review_count  \\\n",
       "0  /rooms/46832964?check_in=2020-12-20&check_out=...                          \n",
       "1  /rooms/45934635?check_in=2020-12-20&check_out=...                          \n",
       "\n",
       "  guests beds    bedroom            bath     checkin    checkout  \\\n",
       "0      2    1  1 bedroom  1 private bath  2020-12-20  2020-12-24   \n",
       "1      1    2     Studio          1 bath  2020-12-20  2020-12-24   \n",
       "\n",
       "  previous_price discounted not_discounted current_nightly total cost  \n",
       "0                                      $35             $35      $177   \n",
       "1            $62        $45                            $45      $265   "
      ]
     },
     "execution_count": 551,
     "metadata": {},
     "output_type": "execute_result"
    }
   ],
   "source": [
    "weekends = weekends[['name', 'category', 'superhost', 'url', 'avg_stars', 'review_count', 'guests','beds', 'bedroom', 'bath', 'checkin', 'checkout', 'previous_price', 'discounted', 'not_discounted', 'current_nightly', 'total cost']]\n",
    "weekends.head(2)"
   ]
  },
  {
   "cell_type": "markdown",
   "metadata": {},
   "source": [
    "#### Check data types before performing calculations on prices"
   ]
  },
  {
   "cell_type": "code",
   "execution_count": 552,
   "metadata": {},
   "outputs": [
    {
     "data": {
      "text/plain": [
       "name               object\n",
       "category           object\n",
       "superhost          object\n",
       "url                object\n",
       "avg_stars          object\n",
       "review_count       object\n",
       "guests             object\n",
       "beds               object\n",
       "bedroom            object\n",
       "bath               object\n",
       "checkin            object\n",
       "checkout           object\n",
       "previous_price     object\n",
       "discounted         object\n",
       "not_discounted     object\n",
       "current_nightly    object\n",
       "total cost         object\n",
       "dtype: object"
      ]
     },
     "execution_count": 552,
     "metadata": {},
     "output_type": "execute_result"
    }
   ],
   "source": [
    "weekends.dtypes"
   ]
  },
  {
   "cell_type": "markdown",
   "metadata": {},
   "source": [
    "#### Remove extraneous characters from price columns and convert to integers"
   ]
  },
  {
   "cell_type": "code",
   "execution_count": 553,
   "metadata": {},
   "outputs": [],
   "source": [
    "weekends['current_nightly'] = weekends['current_nightly'].astype(str)\n",
    "\n",
    "weekends['current_nightly'] = weekends['current_nightly'].str.replace('$','')\n",
    "weekends['current_nightly'] = weekends['current_nightly'].str.replace(',','')\n",
    "weekends['current_nightly'] = weekends['current_nightly'].str.replace('nan', '0')\n",
    "\n",
    "weekends['current_nightly'] = weekends['current_nightly'].astype(int)\n",
    "\n",
    "#weekends.head()"
   ]
  },
  {
   "cell_type": "code",
   "execution_count": 554,
   "metadata": {},
   "outputs": [],
   "source": [
    "weekends['total cost'] = weekends['total cost'].astype(str)\n",
    "\n",
    "weekends['total cost'] = weekends['total cost'].str.replace('$','')\n",
    "weekends['total cost'] = weekends['total cost'].str.replace(',','')\n",
    "weekends['total cost'] = weekends['total cost'].str.replace(' total','')\n",
    "weekends['total cost'] = weekends['total cost'].str.replace('nan', '0')\n",
    "\n",
    "weekends['total cost'] = weekends['total cost'].astype(int)\n",
    "\n",
    "#weekends.head()"
   ]
  },
  {
   "cell_type": "code",
   "execution_count": 555,
   "metadata": {},
   "outputs": [],
   "source": [
    "weekends['previous_price'] = weekends['previous_price'].astype(str)\n",
    "\n",
    "weekends['previous_price'] = weekends['previous_price'].str.replace('$','')\n",
    "weekends['previous_price'] = weekends['previous_price'].str.replace(',','')\n",
    "weekends['previous_price'] = weekends['previous_price'].str.replace(' total','')\n",
    "weekends['previous_price'] = weekends['previous_price'].str.replace('nan', '0')\n",
    "\n",
    "#weekends.head()"
   ]
  },
  {
   "cell_type": "code",
   "execution_count": 556,
   "metadata": {},
   "outputs": [],
   "source": [
    "weekends['discounted'] = weekends['discounted'].astype(str)\n",
    "\n",
    "weekends['discounted'] = weekends['discounted'].str.replace('$','')\n",
    "weekends['discounted'] = weekends['discounted'].str.replace(',','')\n",
    "weekends['discounted'] = weekends['discounted'].str.replace(' total','')\n",
    "weekends['discounted'] = weekends['discounted'].str.replace('nan', '0')\n",
    "\n",
    "#weekends.head()"
   ]
  },
  {
   "cell_type": "code",
   "execution_count": 557,
   "metadata": {},
   "outputs": [],
   "source": [
    "weekends['not_discounted'] = weekends['not_discounted'].astype(str)\n",
    "\n",
    "weekends['not_discounted'] = weekends['not_discounted'].str.replace('$','')\n",
    "weekends['not_discounted'] = weekends['not_discounted'].str.replace(',','')\n",
    "weekends['not_discounted'] = weekends['not_discounted'].str.replace(' total','')\n",
    "weekends['not_discounted'] = weekends['not_discounted'].str.replace('nan', '0')\n",
    "\n",
    "#weekends.head()"
   ]
  },
  {
   "cell_type": "markdown",
   "metadata": {},
   "source": [
    "#### Calculate the room fee (nightly rate * # of nights staying) and the additional fees"
   ]
  },
  {
   "cell_type": "code",
   "execution_count": 558,
   "metadata": {
    "scrolled": true
   },
   "outputs": [],
   "source": [
    "weekends['room_fee'] = weekends['current_nightly'] * 4 \n",
    "#weekends.head()"
   ]
  },
  {
   "cell_type": "code",
   "execution_count": 559,
   "metadata": {},
   "outputs": [],
   "source": [
    "weekends['taxes_fees_cleaning'] = weekends['total cost'] - weekends['room_fee']\n",
    "#weekends.head()"
   ]
  },
  {
   "cell_type": "markdown",
   "metadata": {},
   "source": [
    "### Drop empty and duplicate rows"
   ]
  },
  {
   "cell_type": "code",
   "execution_count": 560,
   "metadata": {},
   "outputs": [
    {
     "data": {
      "text/plain": [
       "(78296, 19)"
      ]
     },
     "execution_count": 560,
     "metadata": {},
     "output_type": "execute_result"
    }
   ],
   "source": [
    "weekends.dropna(subset=['name', 'url'], inplace=True)\n",
    "weekends.shape"
   ]
  },
  {
   "cell_type": "code",
   "execution_count": 561,
   "metadata": {},
   "outputs": [
    {
     "data": {
      "text/plain": [
       "(78296, 19)"
      ]
     },
     "execution_count": 561,
     "metadata": {},
     "output_type": "execute_result"
    }
   ],
   "source": [
    "weekends.drop_duplicates(subset=['url'], keep='first', inplace=True)\n",
    "weekends.shape"
   ]
  },
  {
   "cell_type": "markdown",
   "metadata": {},
   "source": [
    "### Save to a csv"
   ]
  },
  {
   "cell_type": "code",
   "execution_count": 562,
   "metadata": {},
   "outputs": [],
   "source": [
    "weekends.to_csv('data_for_viz/weekdays.csv')"
   ]
  },
  {
   "cell_type": "code",
   "execution_count": null,
   "metadata": {},
   "outputs": [],
   "source": []
  }
 ],
 "metadata": {
  "kernelspec": {
   "display_name": "Python 3",
   "language": "python",
   "name": "python3"
  },
  "language_info": {
   "codemirror_mode": {
    "name": "ipython",
    "version": 3
   },
   "file_extension": ".py",
   "mimetype": "text/x-python",
   "name": "python",
   "nbconvert_exporter": "python",
   "pygments_lexer": "ipython3",
   "version": "3.8.3"
  }
 },
 "nbformat": 4,
 "nbformat_minor": 4
}
