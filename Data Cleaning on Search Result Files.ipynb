{
 "cells": [
  {
   "cell_type": "markdown",
   "metadata": {},
   "source": [
    "## Clean Raw Data Scraped from Airbnb's Site"
   ]
  },
  {
   "cell_type": "markdown",
   "metadata": {},
   "source": [
    "### Import packages"
   ]
  },
  {
   "cell_type": "code",
   "execution_count": 620,
   "metadata": {},
   "outputs": [],
   "source": [
    "import os\n",
    "import pandas as pd"
   ]
  },
  {
   "cell_type": "markdown",
   "metadata": {},
   "source": [
    "### Read in the files from the search folder"
   ]
  },
  {
   "cell_type": "code",
   "execution_count": 621,
   "metadata": {},
   "outputs": [],
   "source": [
    "results = os.listdir('search/')\n",
    "#results"
   ]
  },
  {
   "cell_type": "markdown",
   "metadata": {},
   "source": [
    "### Open the files and add the dates of the search performed to each file"
   ]
  },
  {
   "cell_type": "code",
   "execution_count": 622,
   "metadata": {},
   "outputs": [],
   "source": [
    "open_file = pd.read_csv('search/'+results[0])\n",
    "open_file['dates'] = str(results[0])\n",
    "weekends = open_file.head(0)"
   ]
  },
  {
   "cell_type": "code",
   "execution_count": 623,
   "metadata": {},
   "outputs": [],
   "source": [
    "for file in results: \n",
    "    open_file = pd.read_csv('search/'+file)\n",
    "    open_file['dates'] = str(file)\n",
    "    weekends = weekends.append(open_file)"
   ]
  },
  {
   "cell_type": "code",
   "execution_count": 624,
   "metadata": {},
   "outputs": [
    {
     "data": {
      "text/html": [
       "<div>\n",
       "<style scoped>\n",
       "    .dataframe tbody tr th:only-of-type {\n",
       "        vertical-align: middle;\n",
       "    }\n",
       "\n",
       "    .dataframe tbody tr th {\n",
       "        vertical-align: top;\n",
       "    }\n",
       "\n",
       "    .dataframe thead th {\n",
       "        text-align: right;\n",
       "    }\n",
       "</style>\n",
       "<table border=\"1\" class=\"dataframe\">\n",
       "  <thead>\n",
       "    <tr style=\"text-align: right;\">\n",
       "      <th></th>\n",
       "      <th>name</th>\n",
       "      <th>nightly cost</th>\n",
       "      <th>category</th>\n",
       "      <th>superhost</th>\n",
       "      <th>url</th>\n",
       "      <th>guests_rental</th>\n",
       "      <th>total cost</th>\n",
       "      <th>reviews</th>\n",
       "      <th>dates</th>\n",
       "    </tr>\n",
       "  </thead>\n",
       "  <tbody>\n",
       "    <tr>\n",
       "      <th>0</th>\n",
       "      <td>NC5 The Joint!!  Downtown Nashville Studio!</td>\n",
       "      <td>Price:$55 / night</td>\n",
       "      <td>Entire apartment in Nashville</td>\n",
       "      <td>NaN</td>\n",
       "      <td>/rooms/46779266?check_in=2020-12-17&amp;check_out=...</td>\n",
       "      <td>6 guests · Studio · 2 beds · 1 bath</td>\n",
       "      <td>Price:$245 totalShow details</td>\n",
       "      <td>Price:$55 / nightPrice:$245 totalShow details</td>\n",
       "      <td>ci2020-12-17co2020-12-20.csv</td>\n",
       "    </tr>\n",
       "  </tbody>\n",
       "</table>\n",
       "</div>"
      ],
      "text/plain": [
       "                                          name       nightly cost  \\\n",
       "0  NC5 The Joint!!  Downtown Nashville Studio!  Price:$55 / night   \n",
       "\n",
       "                        category superhost  \\\n",
       "0  Entire apartment in Nashville       NaN   \n",
       "\n",
       "                                                 url  \\\n",
       "0  /rooms/46779266?check_in=2020-12-17&check_out=...   \n",
       "\n",
       "                         guests_rental                    total cost  \\\n",
       "0  6 guests · Studio · 2 beds · 1 bath  Price:$245 totalShow details   \n",
       "\n",
       "                                         reviews                         dates  \n",
       "0  Price:$55 / nightPrice:$245 totalShow details  ci2020-12-17co2020-12-20.csv  "
      ]
     },
     "execution_count": 624,
     "metadata": {},
     "output_type": "execute_result"
    }
   ],
   "source": [
    "weekends.reset_index(drop = True)\n",
    "weekends.head(1)"
   ]
  },
  {
   "cell_type": "markdown",
   "metadata": {},
   "source": [
    "### Create columns for checkin and checkout dates"
   ]
  },
  {
   "cell_type": "code",
   "execution_count": 625,
   "metadata": {},
   "outputs": [],
   "source": [
    "# new data frame with split value columns \n",
    "dates = weekends['dates'].str.split('co', n = 1, expand = True)\n",
    "weekends['checkin'] = dates[0] \n",
    "weekends['checkout'] = dates[1]\n",
    "#weekends.head()"
   ]
  },
  {
   "cell_type": "code",
   "execution_count": 626,
   "metadata": {},
   "outputs": [
    {
     "data": {
      "text/html": [
       "<div>\n",
       "<style scoped>\n",
       "    .dataframe tbody tr th:only-of-type {\n",
       "        vertical-align: middle;\n",
       "    }\n",
       "\n",
       "    .dataframe tbody tr th {\n",
       "        vertical-align: top;\n",
       "    }\n",
       "\n",
       "    .dataframe thead th {\n",
       "        text-align: right;\n",
       "    }\n",
       "</style>\n",
       "<table border=\"1\" class=\"dataframe\">\n",
       "  <thead>\n",
       "    <tr style=\"text-align: right;\">\n",
       "      <th></th>\n",
       "      <th>name</th>\n",
       "      <th>nightly cost</th>\n",
       "      <th>category</th>\n",
       "      <th>superhost</th>\n",
       "      <th>url</th>\n",
       "      <th>guests_rental</th>\n",
       "      <th>total cost</th>\n",
       "      <th>reviews</th>\n",
       "      <th>checkin</th>\n",
       "      <th>checkout</th>\n",
       "    </tr>\n",
       "  </thead>\n",
       "  <tbody>\n",
       "    <tr>\n",
       "      <th>0</th>\n",
       "      <td>NC5 The Joint!!  Downtown Nashville Studio!</td>\n",
       "      <td>Price:$55 / night</td>\n",
       "      <td>Entire apartment in Nashville</td>\n",
       "      <td>NaN</td>\n",
       "      <td>/rooms/46779266?check_in=2020-12-17&amp;check_out=...</td>\n",
       "      <td>6 guests · Studio · 2 beds · 1 bath</td>\n",
       "      <td>Price:$245 totalShow details</td>\n",
       "      <td>Price:$55 / nightPrice:$245 totalShow details</td>\n",
       "      <td>2020-12-17</td>\n",
       "      <td>2020-12-20</td>\n",
       "    </tr>\n",
       "    <tr>\n",
       "      <th>1</th>\n",
       "      <td>Brand-New Condo, 2 Blocks to Centennial Park</td>\n",
       "      <td>Previous price:$122Discounted price:$58 / night</td>\n",
       "      <td>Entire apartment in Nashville</td>\n",
       "      <td>NaN</td>\n",
       "      <td>/rooms/35440277?check_in=2020-12-17&amp;check_out=...</td>\n",
       "      <td>4 guests · 1 bedroom · 2 beds · 1 bath</td>\n",
       "      <td>Price:$329 totalShow details</td>\n",
       "      <td>Rating 4.64 out of 5;4.6414 reviews (14)Previo...</td>\n",
       "      <td>2020-12-17</td>\n",
       "      <td>2020-12-20</td>\n",
       "    </tr>\n",
       "    <tr>\n",
       "      <th>2</th>\n",
       "      <td>DOWNTOWN NASHVILLE - COMFY &amp; COZY (C)</td>\n",
       "      <td>Price:$63 / night</td>\n",
       "      <td>Entire apartment in Nashville</td>\n",
       "      <td>SUPERHOST</td>\n",
       "      <td>/rooms/29543248?check_in=2020-12-17&amp;check_out=...</td>\n",
       "      <td>6 guests · 2 bedrooms · 2 beds · 1 bath</td>\n",
       "      <td>Price:$302 totalShow details</td>\n",
       "      <td>Rating 4.93 out of 5;4.9376 reviews (76)Price:...</td>\n",
       "      <td>2020-12-17</td>\n",
       "      <td>2020-12-20</td>\n",
       "    </tr>\n",
       "    <tr>\n",
       "      <th>3</th>\n",
       "      <td>Tiny haven</td>\n",
       "      <td>Price:$54 / night</td>\n",
       "      <td>Entire apartment in Nashville</td>\n",
       "      <td>SUPERHOST</td>\n",
       "      <td>/rooms/20137844?check_in=2020-12-17&amp;check_out=...</td>\n",
       "      <td>4 guests · 2 bedrooms · 4 beds · 1 bath</td>\n",
       "      <td>Price:$259 totalShow details</td>\n",
       "      <td>Rating 4.93 out of 5;4.93193 reviews (193)Pric...</td>\n",
       "      <td>2020-12-17</td>\n",
       "      <td>2020-12-20</td>\n",
       "    </tr>\n",
       "    <tr>\n",
       "      <th>4</th>\n",
       "      <td>1 BR Apartment!! Just 2 miles to Downtown!</td>\n",
       "      <td>Previous price:$87Discounted price:$62 / night</td>\n",
       "      <td>Entire apartment in Nashville</td>\n",
       "      <td>NaN</td>\n",
       "      <td>/rooms/44064578?check_in=2020-12-17&amp;check_out=...</td>\n",
       "      <td>4 guests · 1 bedroom · 1 bed · 1 bath</td>\n",
       "      <td>Price:$257 totalShow details</td>\n",
       "      <td>Rating 4.0 out of 5;4.010 reviews (10)Previous...</td>\n",
       "      <td>2020-12-17</td>\n",
       "      <td>2020-12-20</td>\n",
       "    </tr>\n",
       "  </tbody>\n",
       "</table>\n",
       "</div>"
      ],
      "text/plain": [
       "                                           name  \\\n",
       "0   NC5 The Joint!!  Downtown Nashville Studio!   \n",
       "1  Brand-New Condo, 2 Blocks to Centennial Park   \n",
       "2         DOWNTOWN NASHVILLE - COMFY & COZY (C)   \n",
       "3                                    Tiny haven   \n",
       "4    1 BR Apartment!! Just 2 miles to Downtown!   \n",
       "\n",
       "                                      nightly cost  \\\n",
       "0                                Price:$55 / night   \n",
       "1  Previous price:$122Discounted price:$58 / night   \n",
       "2                                Price:$63 / night   \n",
       "3                                Price:$54 / night   \n",
       "4   Previous price:$87Discounted price:$62 / night   \n",
       "\n",
       "                        category  superhost  \\\n",
       "0  Entire apartment in Nashville        NaN   \n",
       "1  Entire apartment in Nashville        NaN   \n",
       "2  Entire apartment in Nashville  SUPERHOST   \n",
       "3  Entire apartment in Nashville  SUPERHOST   \n",
       "4  Entire apartment in Nashville        NaN   \n",
       "\n",
       "                                                 url  \\\n",
       "0  /rooms/46779266?check_in=2020-12-17&check_out=...   \n",
       "1  /rooms/35440277?check_in=2020-12-17&check_out=...   \n",
       "2  /rooms/29543248?check_in=2020-12-17&check_out=...   \n",
       "3  /rooms/20137844?check_in=2020-12-17&check_out=...   \n",
       "4  /rooms/44064578?check_in=2020-12-17&check_out=...   \n",
       "\n",
       "                             guests_rental                    total cost  \\\n",
       "0      6 guests · Studio · 2 beds · 1 bath  Price:$245 totalShow details   \n",
       "1   4 guests · 1 bedroom · 2 beds · 1 bath  Price:$329 totalShow details   \n",
       "2  6 guests · 2 bedrooms · 2 beds · 1 bath  Price:$302 totalShow details   \n",
       "3  4 guests · 2 bedrooms · 4 beds · 1 bath  Price:$259 totalShow details   \n",
       "4    4 guests · 1 bedroom · 1 bed · 1 bath  Price:$257 totalShow details   \n",
       "\n",
       "                                             reviews     checkin    checkout  \n",
       "0      Price:$55 / nightPrice:$245 totalShow details  2020-12-17  2020-12-20  \n",
       "1  Rating 4.64 out of 5;4.6414 reviews (14)Previo...  2020-12-17  2020-12-20  \n",
       "2  Rating 4.93 out of 5;4.9376 reviews (76)Price:...  2020-12-17  2020-12-20  \n",
       "3  Rating 4.93 out of 5;4.93193 reviews (193)Pric...  2020-12-17  2020-12-20  \n",
       "4  Rating 4.0 out of 5;4.010 reviews (10)Previous...  2020-12-17  2020-12-20  "
      ]
     },
     "execution_count": 626,
     "metadata": {},
     "output_type": "execute_result"
    }
   ],
   "source": [
    "weekends['checkin'] = weekends['checkin'].str.replace('ci','')\n",
    "weekends['checkout'] = weekends['checkout'].str.replace('.csv','')\n",
    "weekends.drop('dates', axis=1, inplace=True)\n",
    "#weekends.head()                                                    "
   ]
  },
  {
   "cell_type": "code",
   "execution_count": 627,
   "metadata": {},
   "outputs": [
    {
     "data": {
      "text/html": [
       "<div>\n",
       "<style scoped>\n",
       "    .dataframe tbody tr th:only-of-type {\n",
       "        vertical-align: middle;\n",
       "    }\n",
       "\n",
       "    .dataframe tbody tr th {\n",
       "        vertical-align: top;\n",
       "    }\n",
       "\n",
       "    .dataframe thead th {\n",
       "        text-align: right;\n",
       "    }\n",
       "</style>\n",
       "<table border=\"1\" class=\"dataframe\">\n",
       "  <thead>\n",
       "    <tr style=\"text-align: right;\">\n",
       "      <th></th>\n",
       "      <th>name</th>\n",
       "      <th>nightly cost</th>\n",
       "      <th>category</th>\n",
       "      <th>superhost</th>\n",
       "      <th>url</th>\n",
       "      <th>guests_rental</th>\n",
       "      <th>total cost</th>\n",
       "      <th>reviews</th>\n",
       "      <th>checkin</th>\n",
       "      <th>checkout</th>\n",
       "    </tr>\n",
       "  </thead>\n",
       "  <tbody>\n",
       "    <tr>\n",
       "      <th>0</th>\n",
       "      <td>NC5 The Joint!!  Downtown Nashville Studio!</td>\n",
       "      <td>Price:$55 / night</td>\n",
       "      <td>Entire apartment in Nashville</td>\n",
       "      <td>NaN</td>\n",
       "      <td>/rooms/46779266?check_in=2020-12-17&amp;check_out=...</td>\n",
       "      <td>6 guests · Studio · 2 beds · 1 bath</td>\n",
       "      <td>Price:$245 totalShow details</td>\n",
       "      <td>Price:$55 / nightPrice:$245 totalShow details</td>\n",
       "      <td>2020-12-17</td>\n",
       "      <td>2020-12-20</td>\n",
       "    </tr>\n",
       "    <tr>\n",
       "      <th>1</th>\n",
       "      <td>Brand-New Condo, 2 Blocks to Centennial Park</td>\n",
       "      <td>Previous price:$122Discounted price:$58 / night</td>\n",
       "      <td>Entire apartment in Nashville</td>\n",
       "      <td>NaN</td>\n",
       "      <td>/rooms/35440277?check_in=2020-12-17&amp;check_out=...</td>\n",
       "      <td>4 guests · 1 bedroom · 2 beds · 1 bath</td>\n",
       "      <td>Price:$329 totalShow details</td>\n",
       "      <td>Rating 4.64 out of 5;4.6414 reviews (14)Previo...</td>\n",
       "      <td>2020-12-17</td>\n",
       "      <td>2020-12-20</td>\n",
       "    </tr>\n",
       "    <tr>\n",
       "      <th>2</th>\n",
       "      <td>DOWNTOWN NASHVILLE - COMFY &amp; COZY (C)</td>\n",
       "      <td>Price:$63 / night</td>\n",
       "      <td>Entire apartment in Nashville</td>\n",
       "      <td>SUPERHOST</td>\n",
       "      <td>/rooms/29543248?check_in=2020-12-17&amp;check_out=...</td>\n",
       "      <td>6 guests · 2 bedrooms · 2 beds · 1 bath</td>\n",
       "      <td>Price:$302 totalShow details</td>\n",
       "      <td>Rating 4.93 out of 5;4.9376 reviews (76)Price:...</td>\n",
       "      <td>2020-12-17</td>\n",
       "      <td>2020-12-20</td>\n",
       "    </tr>\n",
       "    <tr>\n",
       "      <th>3</th>\n",
       "      <td>Tiny haven</td>\n",
       "      <td>Price:$54 / night</td>\n",
       "      <td>Entire apartment in Nashville</td>\n",
       "      <td>SUPERHOST</td>\n",
       "      <td>/rooms/20137844?check_in=2020-12-17&amp;check_out=...</td>\n",
       "      <td>4 guests · 2 bedrooms · 4 beds · 1 bath</td>\n",
       "      <td>Price:$259 totalShow details</td>\n",
       "      <td>Rating 4.93 out of 5;4.93193 reviews (193)Pric...</td>\n",
       "      <td>2020-12-17</td>\n",
       "      <td>2020-12-20</td>\n",
       "    </tr>\n",
       "    <tr>\n",
       "      <th>4</th>\n",
       "      <td>1 BR Apartment!! Just 2 miles to Downtown!</td>\n",
       "      <td>Previous price:$87Discounted price:$62 / night</td>\n",
       "      <td>Entire apartment in Nashville</td>\n",
       "      <td>NaN</td>\n",
       "      <td>/rooms/44064578?check_in=2020-12-17&amp;check_out=...</td>\n",
       "      <td>4 guests · 1 bedroom · 1 bed · 1 bath</td>\n",
       "      <td>Price:$257 totalShow details</td>\n",
       "      <td>Rating 4.0 out of 5;4.010 reviews (10)Previous...</td>\n",
       "      <td>2020-12-17</td>\n",
       "      <td>2020-12-20</td>\n",
       "    </tr>\n",
       "  </tbody>\n",
       "</table>\n",
       "</div>"
      ],
      "text/plain": [
       "                                           name  \\\n",
       "0   NC5 The Joint!!  Downtown Nashville Studio!   \n",
       "1  Brand-New Condo, 2 Blocks to Centennial Park   \n",
       "2         DOWNTOWN NASHVILLE - COMFY & COZY (C)   \n",
       "3                                    Tiny haven   \n",
       "4    1 BR Apartment!! Just 2 miles to Downtown!   \n",
       "\n",
       "                                      nightly cost  \\\n",
       "0                                Price:$55 / night   \n",
       "1  Previous price:$122Discounted price:$58 / night   \n",
       "2                                Price:$63 / night   \n",
       "3                                Price:$54 / night   \n",
       "4   Previous price:$87Discounted price:$62 / night   \n",
       "\n",
       "                        category  superhost  \\\n",
       "0  Entire apartment in Nashville        NaN   \n",
       "1  Entire apartment in Nashville        NaN   \n",
       "2  Entire apartment in Nashville  SUPERHOST   \n",
       "3  Entire apartment in Nashville  SUPERHOST   \n",
       "4  Entire apartment in Nashville        NaN   \n",
       "\n",
       "                                                 url  \\\n",
       "0  /rooms/46779266?check_in=2020-12-17&check_out=...   \n",
       "1  /rooms/35440277?check_in=2020-12-17&check_out=...   \n",
       "2  /rooms/29543248?check_in=2020-12-17&check_out=...   \n",
       "3  /rooms/20137844?check_in=2020-12-17&check_out=...   \n",
       "4  /rooms/44064578?check_in=2020-12-17&check_out=...   \n",
       "\n",
       "                             guests_rental                    total cost  \\\n",
       "0      6 guests · Studio · 2 beds · 1 bath  Price:$245 totalShow details   \n",
       "1   4 guests · 1 bedroom · 2 beds · 1 bath  Price:$329 totalShow details   \n",
       "2  6 guests · 2 bedrooms · 2 beds · 1 bath  Price:$302 totalShow details   \n",
       "3  4 guests · 2 bedrooms · 4 beds · 1 bath  Price:$259 totalShow details   \n",
       "4    4 guests · 1 bedroom · 1 bed · 1 bath  Price:$257 totalShow details   \n",
       "\n",
       "                                             reviews    checkin   checkout  \n",
       "0      Price:$55 / nightPrice:$245 totalShow details 2020-12-17 2020-12-20  \n",
       "1  Rating 4.64 out of 5;4.6414 reviews (14)Previo... 2020-12-17 2020-12-20  \n",
       "2  Rating 4.93 out of 5;4.9376 reviews (76)Price:... 2020-12-17 2020-12-20  \n",
       "3  Rating 4.93 out of 5;4.93193 reviews (193)Pric... 2020-12-17 2020-12-20  \n",
       "4  Rating 4.0 out of 5;4.010 reviews (10)Previous... 2020-12-17 2020-12-20  "
      ]
     },
     "execution_count": 627,
     "metadata": {},
     "output_type": "execute_result"
    }
   ],
   "source": [
    "weekends['checkin'] =  pd.to_datetime(weekends['checkin'], format='%Y/%m/%d')\n",
    "weekends['checkout'] =  pd.to_datetime(weekends['checkout'], format='%Y/%m/%d')\n",
    "#weekends.head()"
   ]
  },
  {
   "cell_type": "markdown",
   "metadata": {},
   "source": [
    "### Clean the columns scrubbed from Airbnb's site"
   ]
  },
  {
   "cell_type": "markdown",
   "metadata": {},
   "source": [
    "#### Create a column for the number of guests "
   ]
  },
  {
   "cell_type": "code",
   "execution_count": 628,
   "metadata": {},
   "outputs": [],
   "source": [
    "weekends['guests'] = weekends['guests_rental'].str.partition(' · ')[0]\n",
    "#weekends.head()"
   ]
  },
  {
   "cell_type": "code",
   "execution_count": 629,
   "metadata": {},
   "outputs": [],
   "source": [
    "weekends['guest_rental2'] = weekends['guests_rental'].str.partition(' · ')[2]\n",
    "#weekends.head()"
   ]
  },
  {
   "cell_type": "markdown",
   "metadata": {},
   "source": [
    "#### Create a column for the number of bedrooms"
   ]
  },
  {
   "cell_type": "code",
   "execution_count": 630,
   "metadata": {},
   "outputs": [],
   "source": [
    "weekends['bedroom'] = weekends['guest_rental2'].str.partition(' · ')[0] \n",
    "#weekends.head()"
   ]
  },
  {
   "cell_type": "code",
   "execution_count": 631,
   "metadata": {},
   "outputs": [],
   "source": [
    "weekends['guest_rental3'] = weekends['guest_rental2'].str.partition(' · ')[2]\n",
    "#weekends.head()"
   ]
  },
  {
   "cell_type": "markdown",
   "metadata": {},
   "source": [
    "#### Create a column for the number of beds"
   ]
  },
  {
   "cell_type": "code",
   "execution_count": 632,
   "metadata": {},
   "outputs": [],
   "source": [
    "weekends['beds'] = weekends['guest_rental3'].str.partition(' · ')[0] \n",
    "#weekends.head()"
   ]
  },
  {
   "cell_type": "code",
   "execution_count": 633,
   "metadata": {},
   "outputs": [],
   "source": [
    "weekends['bath'] = weekends['guest_rental3'].str.partition(' · ')[2]\n",
    "#weekends.head()"
   ]
  },
  {
   "cell_type": "markdown",
   "metadata": {},
   "source": [
    "#### Drop original columns that have been cleaned"
   ]
  },
  {
   "cell_type": "code",
   "execution_count": 634,
   "metadata": {},
   "outputs": [],
   "source": [
    "weekends.drop(columns = ['guests_rental', 'guest_rental2', 'guest_rental3'], axis=1, inplace=True)\n",
    "#weekends.head()"
   ]
  },
  {
   "cell_type": "markdown",
   "metadata": {},
   "source": [
    "#### Create columns for the prices associated with each listing"
   ]
  },
  {
   "cell_type": "code",
   "execution_count": 635,
   "metadata": {},
   "outputs": [],
   "source": [
    "weekends['not_discounted'] = weekends['nightly cost'].str.partition('Previous price:')[0]\n",
    "#weekends.head()"
   ]
  },
  {
   "cell_type": "code",
   "execution_count": 636,
   "metadata": {},
   "outputs": [],
   "source": [
    "weekends['test'] = weekends['nightly cost'].str.partition('Previous price:')[2]\n",
    "#weekends.head()"
   ]
  },
  {
   "cell_type": "code",
   "execution_count": 637,
   "metadata": {},
   "outputs": [],
   "source": [
    "weekends['discounted'] = weekends['test'].str.partition(':')[0]\n",
    "#weekends.head()"
   ]
  },
  {
   "cell_type": "code",
   "execution_count": 638,
   "metadata": {},
   "outputs": [],
   "source": [
    "weekends['discounted'] = weekends['test'].str.partition(':')[2]\n",
    "#weekends.head()"
   ]
  },
  {
   "cell_type": "code",
   "execution_count": 639,
   "metadata": {},
   "outputs": [],
   "source": [
    "weekends['previous_price'] = weekends['test'].str.partition(':')[0]\n",
    "#weekends.head()"
   ]
  },
  {
   "cell_type": "code",
   "execution_count": 640,
   "metadata": {},
   "outputs": [],
   "source": [
    "weekends.drop(columns=['test', 'nightly cost'], axis=1, inplace=True)\n",
    "#weekends.head()"
   ]
  },
  {
   "cell_type": "code",
   "execution_count": 641,
   "metadata": {},
   "outputs": [],
   "source": [
    "weekends['not_discounted'] = weekends['not_discounted'].str.replace('Price:', '') \n",
    "weekends['not_discounted'] = weekends['not_discounted'].str.replace(' / night', '')\n",
    "\n",
    "#weekends.head()"
   ]
  },
  {
   "cell_type": "code",
   "execution_count": 642,
   "metadata": {},
   "outputs": [],
   "source": [
    "weekends['discounted'] = weekends['discounted'].str.replace(' / night', '')\n",
    "#weekends.head()"
   ]
  },
  {
   "cell_type": "code",
   "execution_count": 643,
   "metadata": {},
   "outputs": [],
   "source": [
    "weekends['previous_price'] = weekends['previous_price'].str.replace('Discounted price', '')\n",
    "#weekends.head()"
   ]
  },
  {
   "cell_type": "code",
   "execution_count": 644,
   "metadata": {},
   "outputs": [],
   "source": [
    "weekends['current_nightly'] = weekends['not_discounted'] + weekends['discounted']\n",
    "#weekends.head()"
   ]
  },
  {
   "cell_type": "markdown",
   "metadata": {},
   "source": [
    "#### Remove redundant words from values in columns with clear descriptions"
   ]
  },
  {
   "cell_type": "code",
   "execution_count": 645,
   "metadata": {},
   "outputs": [],
   "source": [
    "weekends['guests'] = weekends['guests'].str.replace(' guests', '')\n",
    "#weekends.head()"
   ]
  },
  {
   "cell_type": "code",
   "execution_count": 646,
   "metadata": {},
   "outputs": [],
   "source": [
    "weekends['guests'] = weekends['guests'].str.replace(' guest', '')\n",
    "#weekends.head(25)"
   ]
  },
  {
   "cell_type": "code",
   "execution_count": 647,
   "metadata": {},
   "outputs": [],
   "source": [
    "weekends['beds'] = weekends['beds'].str.replace(' beds', '')\n",
    "weekends['beds'] = weekends['beds'].str.replace(' bed', '')\n",
    "#weekends.head()"
   ]
  },
  {
   "cell_type": "code",
   "execution_count": 648,
   "metadata": {},
   "outputs": [],
   "source": [
    "weekends['total cost'] = weekends['total cost'].str.replace('Price:', '')\n",
    "weekends['total cost'] = weekends['total cost'].str.replace('totalShow details', '')\n",
    "#weekends.head()"
   ]
  },
  {
   "cell_type": "markdown",
   "metadata": {},
   "source": [
    "#### Create columns for number of reviews and average stars"
   ]
  },
  {
   "cell_type": "code",
   "execution_count": 649,
   "metadata": {},
   "outputs": [],
   "source": [
    "weekends['review_test'] = weekends['reviews'].str.partition('Rating')[2]\n",
    "#weekends.head()"
   ]
  },
  {
   "cell_type": "code",
   "execution_count": 650,
   "metadata": {},
   "outputs": [],
   "source": [
    "weekends['avg_stars'] = weekends['review_test'].str.partition(' out of')[0]\n",
    "#weekends.head()"
   ]
  },
  {
   "cell_type": "code",
   "execution_count": 651,
   "metadata": {},
   "outputs": [],
   "source": [
    "weekends['review_count2'] = weekends['review_test'].str.partition('(')[2]\n",
    "#weekends.head()"
   ]
  },
  {
   "cell_type": "code",
   "execution_count": 652,
   "metadata": {},
   "outputs": [],
   "source": [
    "weekends['review_count'] = weekends['review_count2'].str.partition(')')[0]\n",
    "#weekends.head()"
   ]
  },
  {
   "cell_type": "code",
   "execution_count": 653,
   "metadata": {},
   "outputs": [],
   "source": [
    "weekends.drop(columns = ['review_count2', 'review_test', 'reviews'], axis=1, inplace=True)\n",
    "#weekends.head()"
   ]
  },
  {
   "cell_type": "markdown",
   "metadata": {},
   "source": [
    "#### Drop original columns that have been cleaned"
   ]
  },
  {
   "cell_type": "code",
   "execution_count": 654,
   "metadata": {},
   "outputs": [
    {
     "data": {
      "text/html": [
       "<div>\n",
       "<style scoped>\n",
       "    .dataframe tbody tr th:only-of-type {\n",
       "        vertical-align: middle;\n",
       "    }\n",
       "\n",
       "    .dataframe tbody tr th {\n",
       "        vertical-align: top;\n",
       "    }\n",
       "\n",
       "    .dataframe thead th {\n",
       "        text-align: right;\n",
       "    }\n",
       "</style>\n",
       "<table border=\"1\" class=\"dataframe\">\n",
       "  <thead>\n",
       "    <tr style=\"text-align: right;\">\n",
       "      <th></th>\n",
       "      <th>name</th>\n",
       "      <th>category</th>\n",
       "      <th>superhost</th>\n",
       "      <th>url</th>\n",
       "      <th>avg_stars</th>\n",
       "      <th>review_count</th>\n",
       "      <th>guests</th>\n",
       "      <th>beds</th>\n",
       "      <th>bedroom</th>\n",
       "      <th>bath</th>\n",
       "      <th>checkin</th>\n",
       "      <th>checkout</th>\n",
       "      <th>previous_price</th>\n",
       "      <th>discounted</th>\n",
       "      <th>not_discounted</th>\n",
       "      <th>current_nightly</th>\n",
       "      <th>total cost</th>\n",
       "    </tr>\n",
       "  </thead>\n",
       "  <tbody>\n",
       "    <tr>\n",
       "      <th>0</th>\n",
       "      <td>NC5 The Joint!!  Downtown Nashville Studio!</td>\n",
       "      <td>Entire apartment in Nashville</td>\n",
       "      <td>NaN</td>\n",
       "      <td>/rooms/46779266?check_in=2020-12-17&amp;check_out=...</td>\n",
       "      <td></td>\n",
       "      <td></td>\n",
       "      <td>6</td>\n",
       "      <td>2</td>\n",
       "      <td>Studio</td>\n",
       "      <td>1 bath</td>\n",
       "      <td>2020-12-17</td>\n",
       "      <td>2020-12-20</td>\n",
       "      <td></td>\n",
       "      <td></td>\n",
       "      <td>$55</td>\n",
       "      <td>$55</td>\n",
       "      <td>$245</td>\n",
       "    </tr>\n",
       "    <tr>\n",
       "      <th>1</th>\n",
       "      <td>Brand-New Condo, 2 Blocks to Centennial Park</td>\n",
       "      <td>Entire apartment in Nashville</td>\n",
       "      <td>NaN</td>\n",
       "      <td>/rooms/35440277?check_in=2020-12-17&amp;check_out=...</td>\n",
       "      <td>4.64</td>\n",
       "      <td>14</td>\n",
       "      <td>4</td>\n",
       "      <td>2</td>\n",
       "      <td>1 bedroom</td>\n",
       "      <td>1 bath</td>\n",
       "      <td>2020-12-17</td>\n",
       "      <td>2020-12-20</td>\n",
       "      <td>$122</td>\n",
       "      <td>$58</td>\n",
       "      <td></td>\n",
       "      <td>$58</td>\n",
       "      <td>$329</td>\n",
       "    </tr>\n",
       "  </tbody>\n",
       "</table>\n",
       "</div>"
      ],
      "text/plain": [
       "                                           name  \\\n",
       "0   NC5 The Joint!!  Downtown Nashville Studio!   \n",
       "1  Brand-New Condo, 2 Blocks to Centennial Park   \n",
       "\n",
       "                        category superhost  \\\n",
       "0  Entire apartment in Nashville       NaN   \n",
       "1  Entire apartment in Nashville       NaN   \n",
       "\n",
       "                                                 url avg_stars review_count  \\\n",
       "0  /rooms/46779266?check_in=2020-12-17&check_out=...                          \n",
       "1  /rooms/35440277?check_in=2020-12-17&check_out=...      4.64           14   \n",
       "\n",
       "  guests beds    bedroom    bath    checkin   checkout previous_price  \\\n",
       "0      6    2     Studio  1 bath 2020-12-17 2020-12-20                  \n",
       "1      4    2  1 bedroom  1 bath 2020-12-17 2020-12-20           $122   \n",
       "\n",
       "  discounted not_discounted current_nightly total cost  \n",
       "0                       $55             $55      $245   \n",
       "1        $58                            $58      $329   "
      ]
     },
     "execution_count": 654,
     "metadata": {},
     "output_type": "execute_result"
    }
   ],
   "source": [
    "weekends = weekends[['name', 'category', 'superhost', 'url', 'avg_stars', 'review_count', 'guests','beds', 'bedroom', 'bath', 'checkin', 'checkout', 'previous_price', 'discounted', 'not_discounted', 'current_nightly', 'total cost']]\n",
    "weekends.head(2)"
   ]
  },
  {
   "cell_type": "markdown",
   "metadata": {},
   "source": [
    "#### Check data types before performing calculations on prices"
   ]
  },
  {
   "cell_type": "code",
   "execution_count": 655,
   "metadata": {},
   "outputs": [
    {
     "data": {
      "text/plain": [
       "name                       object\n",
       "category                   object\n",
       "superhost                  object\n",
       "url                        object\n",
       "avg_stars                  object\n",
       "review_count               object\n",
       "guests                     object\n",
       "beds                       object\n",
       "bedroom                    object\n",
       "bath                       object\n",
       "checkin            datetime64[ns]\n",
       "checkout           datetime64[ns]\n",
       "previous_price             object\n",
       "discounted                 object\n",
       "not_discounted             object\n",
       "current_nightly            object\n",
       "total cost                 object\n",
       "dtype: object"
      ]
     },
     "execution_count": 655,
     "metadata": {},
     "output_type": "execute_result"
    }
   ],
   "source": [
    "weekends.dtypes"
   ]
  },
  {
   "cell_type": "markdown",
   "metadata": {},
   "source": [
    "#### Remove extraneous characters from price columns and convert to integers"
   ]
  },
  {
   "cell_type": "code",
   "execution_count": 656,
   "metadata": {},
   "outputs": [],
   "source": [
    "weekends['current_nightly'] = weekends['current_nightly'].astype(str)\n",
    "\n",
    "weekends['current_nightly'] = weekends['current_nightly'].str.replace('$','')\n",
    "weekends['current_nightly'] = weekends['current_nightly'].str.replace(',','')\n",
    "weekends['current_nightly'] = weekends['current_nightly'].str.replace('nan', '0')\n",
    "\n",
    "weekends['current_nightly'] = weekends['current_nightly'].astype(int)\n",
    "\n",
    "#weekends.head()"
   ]
  },
  {
   "cell_type": "code",
   "execution_count": 657,
   "metadata": {},
   "outputs": [],
   "source": [
    "weekends['total cost'] = weekends['total cost'].astype(str)\n",
    "\n",
    "weekends['total cost'] = weekends['total cost'].str.replace('$','')\n",
    "weekends['total cost'] = weekends['total cost'].str.replace(',','')\n",
    "weekends['total cost'] = weekends['total cost'].str.replace(' total','')\n",
    "weekends['total cost'] = weekends['total cost'].str.replace('nan', '0')\n",
    "\n",
    "weekends['total cost'] = weekends['total cost'].astype(int)\n",
    "\n",
    "#weekends.head()"
   ]
  },
  {
   "cell_type": "code",
   "execution_count": 658,
   "metadata": {},
   "outputs": [],
   "source": [
    "weekends['previous_price'] = weekends['previous_price'].astype(str)\n",
    "\n",
    "weekends['previous_price'] = weekends['previous_price'].str.replace('$','')\n",
    "weekends['previous_price'] = weekends['previous_price'].str.replace(',','')\n",
    "weekends['previous_price'] = weekends['previous_price'].str.replace(' total','')\n",
    "weekends['previous_price'] = weekends['previous_price'].str.replace('nan', '0')\n",
    "\n",
    "#weekends.head()"
   ]
  },
  {
   "cell_type": "code",
   "execution_count": 659,
   "metadata": {},
   "outputs": [],
   "source": [
    "weekends['discounted'] = weekends['discounted'].astype(str)\n",
    "\n",
    "weekends['discounted'] = weekends['discounted'].str.replace('$','')\n",
    "weekends['discounted'] = weekends['discounted'].str.replace(',','')\n",
    "weekends['discounted'] = weekends['discounted'].str.replace(' total','')\n",
    "weekends['discounted'] = weekends['discounted'].str.replace('nan', '0')\n",
    "\n",
    "#weekends.head()"
   ]
  },
  {
   "cell_type": "code",
   "execution_count": 660,
   "metadata": {},
   "outputs": [],
   "source": [
    "weekends['not_discounted'] = weekends['not_discounted'].astype(str)\n",
    "\n",
    "weekends['not_discounted'] = weekends['not_discounted'].str.replace('$','')\n",
    "weekends['not_discounted'] = weekends['not_discounted'].str.replace(',','')\n",
    "weekends['not_discounted'] = weekends['not_discounted'].str.replace(' total','')\n",
    "weekends['not_discounted'] = weekends['not_discounted'].str.replace('nan', '0')\n",
    "\n",
    "#weekends.head()"
   ]
  },
  {
   "cell_type": "markdown",
   "metadata": {},
   "source": [
    "#### Calculate the room fee (nightly rate * # of nights staying) and the additional fees"
   ]
  },
  {
   "cell_type": "code",
   "execution_count": 661,
   "metadata": {
    "scrolled": true
   },
   "outputs": [],
   "source": [
    "weekends['room_fee'] = weekends['current_nightly'] * 3 \n",
    "#weekends.head()"
   ]
  },
  {
   "cell_type": "code",
   "execution_count": 662,
   "metadata": {},
   "outputs": [],
   "source": [
    "weekends['taxes_fees_cleaning'] = weekends['total cost'] - weekends['room_fee']\n",
    "#weekends.head()"
   ]
  },
  {
   "cell_type": "markdown",
   "metadata": {},
   "source": [
    "### Drop empty and duplicate rows"
   ]
  },
  {
   "cell_type": "code",
   "execution_count": 663,
   "metadata": {},
   "outputs": [
    {
     "data": {
      "text/plain": [
       "(70678, 19)"
      ]
     },
     "execution_count": 663,
     "metadata": {},
     "output_type": "execute_result"
    }
   ],
   "source": [
    "weekends.dropna(subset=['name', 'url'], inplace=True)\n",
    "weekends.shape"
   ]
  },
  {
   "cell_type": "code",
   "execution_count": 664,
   "metadata": {},
   "outputs": [
    {
     "data": {
      "text/plain": [
       "(70678, 19)"
      ]
     },
     "execution_count": 664,
     "metadata": {},
     "output_type": "execute_result"
    }
   ],
   "source": [
    "weekends.drop_duplicates(subset=['url'], keep='first', inplace=True)\n",
    "weekends.shape"
   ]
  },
  {
   "cell_type": "markdown",
   "metadata": {},
   "source": [
    "### Save to a csv"
   ]
  },
  {
   "cell_type": "code",
   "execution_count": 665,
   "metadata": {},
   "outputs": [],
   "source": [
    "weekends.to_csv('data_for_viz/weekends.csv')"
   ]
  },
  {
   "cell_type": "code",
   "execution_count": null,
   "metadata": {},
   "outputs": [],
   "source": []
  }
 ],
 "metadata": {
  "kernelspec": {
   "display_name": "Python 3",
   "language": "python",
   "name": "python3"
  },
  "language_info": {
   "codemirror_mode": {
    "name": "ipython",
    "version": 3
   },
   "file_extension": ".py",
   "mimetype": "text/x-python",
   "name": "python",
   "nbconvert_exporter": "python",
   "pygments_lexer": "ipython3",
   "version": "3.8.3"
  }
 },
 "nbformat": 4,
 "nbformat_minor": 4
}
