{
 "cells": [
  {
   "cell_type": "markdown",
   "metadata": {},
   "source": [
    "## Clean Raw Data Scraped from Airbnb's Site"
   ]
  },
  {
   "cell_type": "markdown",
   "metadata": {},
   "source": [
    "### Import packages"
   ]
  },
  {
   "cell_type": "code",
   "execution_count": 574,
   "metadata": {},
   "outputs": [],
   "source": [
    "import os\n",
    "import pandas as pd"
   ]
  },
  {
   "cell_type": "markdown",
   "metadata": {},
   "source": [
    "### Read in the files from the search folder"
   ]
  },
  {
   "cell_type": "code",
   "execution_count": 575,
   "metadata": {},
   "outputs": [],
   "source": [
    "results = os.listdir('weekday/')\n",
    "#results"
   ]
  },
  {
   "cell_type": "markdown",
   "metadata": {},
   "source": [
    "### Open the files and add the dates of the search performed to each file"
   ]
  },
  {
   "cell_type": "code",
   "execution_count": 576,
   "metadata": {},
   "outputs": [],
   "source": [
    "open_file = pd.read_csv('/'+results[0])\n",
    "open_file['dates'] = str(results[0])\n",
    "weekends = open_file.head(0)"
   ]
  },
  {
   "cell_type": "code",
   "execution_count": 577,
   "metadata": {},
   "outputs": [],
   "source": [
    "for file in results: \n",
    "    open_file = pd.read_csv('search/'+file)\n",
    "    open_file['dates'] = str(file)\n",
    "    weekends = weekends.append(open_file)"
   ]
  },
  {
   "cell_type": "code",
   "execution_count": 578,
   "metadata": {},
   "outputs": [
    {
     "data": {
      "text/html": [
       "<div>\n",
       "<style scoped>\n",
       "    .dataframe tbody tr th:only-of-type {\n",
       "        vertical-align: middle;\n",
       "    }\n",
       "\n",
       "    .dataframe tbody tr th {\n",
       "        vertical-align: top;\n",
       "    }\n",
       "\n",
       "    .dataframe thead th {\n",
       "        text-align: right;\n",
       "    }\n",
       "</style>\n",
       "<table border=\"1\" class=\"dataframe\">\n",
       "  <thead>\n",
       "    <tr style=\"text-align: right;\">\n",
       "      <th></th>\n",
       "      <th>name</th>\n",
       "      <th>nightly cost</th>\n",
       "      <th>category</th>\n",
       "      <th>superhost</th>\n",
       "      <th>url</th>\n",
       "      <th>guests_rental</th>\n",
       "      <th>total cost</th>\n",
       "      <th>reviews</th>\n",
       "      <th>dates</th>\n",
       "    </tr>\n",
       "  </thead>\n",
       "  <tbody>\n",
       "    <tr>\n",
       "      <th>0</th>\n",
       "      <td>Private Room &amp; Bath 5 minutes to Downtown Nash</td>\n",
       "      <td>Price:$35 / night</td>\n",
       "      <td>Private room in Nashville</td>\n",
       "      <td>SUPERHOST</td>\n",
       "      <td>/rooms/46832964?check_in=2020-12-20&amp;check_out=...</td>\n",
       "      <td>2 guests · 1 bedroom · 1 bed · 1 private bath</td>\n",
       "      <td>Price:$177 totalShow details</td>\n",
       "      <td>Price:$35 / nightPrice:$177 totalShow details</td>\n",
       "      <td>ci2020-12-20co2020-12-24.csv</td>\n",
       "    </tr>\n",
       "  </tbody>\n",
       "</table>\n",
       "</div>"
      ],
      "text/plain": [
       "                                             name       nightly cost  \\\n",
       "0  Private Room & Bath 5 minutes to Downtown Nash  Price:$35 / night   \n",
       "\n",
       "                    category  superhost  \\\n",
       "0  Private room in Nashville  SUPERHOST   \n",
       "\n",
       "                                                 url  \\\n",
       "0  /rooms/46832964?check_in=2020-12-20&check_out=...   \n",
       "\n",
       "                                   guests_rental  \\\n",
       "0  2 guests · 1 bedroom · 1 bed · 1 private bath   \n",
       "\n",
       "                     total cost  \\\n",
       "0  Price:$177 totalShow details   \n",
       "\n",
       "                                         reviews                         dates  \n",
       "0  Price:$35 / nightPrice:$177 totalShow details  ci2020-12-20co2020-12-24.csv  "
      ]
     },
     "execution_count": 578,
     "metadata": {},
     "output_type": "execute_result"
    }
   ],
   "source": [
    "weekends.reset_index(drop = True)\n",
    "weekends.head(1)"
   ]
  },
  {
   "cell_type": "markdown",
   "metadata": {},
   "source": [
    "### Create columns for checkin and checkout dates"
   ]
  },
  {
   "cell_type": "code",
   "execution_count": 579,
   "metadata": {},
   "outputs": [],
   "source": [
    "# new data frame with split value columns \n",
    "dates = weekends['dates'].str.split('co', n = 1, expand = True)\n",
    "weekends['checkin'] = dates[0] \n",
    "weekends['checkout'] = dates[1]\n",
    "#weekends.head()"
   ]
  },
  {
   "cell_type": "code",
   "execution_count": 580,
   "metadata": {},
   "outputs": [
    {
     "data": {
      "text/html": [
       "<div>\n",
       "<style scoped>\n",
       "    .dataframe tbody tr th:only-of-type {\n",
       "        vertical-align: middle;\n",
       "    }\n",
       "\n",
       "    .dataframe tbody tr th {\n",
       "        vertical-align: top;\n",
       "    }\n",
       "\n",
       "    .dataframe thead th {\n",
       "        text-align: right;\n",
       "    }\n",
       "</style>\n",
       "<table border=\"1\" class=\"dataframe\">\n",
       "  <thead>\n",
       "    <tr style=\"text-align: right;\">\n",
       "      <th></th>\n",
       "      <th>name</th>\n",
       "      <th>nightly cost</th>\n",
       "      <th>category</th>\n",
       "      <th>superhost</th>\n",
       "      <th>url</th>\n",
       "      <th>guests_rental</th>\n",
       "      <th>total cost</th>\n",
       "      <th>reviews</th>\n",
       "      <th>checkin</th>\n",
       "      <th>checkout</th>\n",
       "    </tr>\n",
       "  </thead>\n",
       "  <tbody>\n",
       "    <tr>\n",
       "      <th>0</th>\n",
       "      <td>Private Room &amp; Bath 5 minutes to Downtown Nash</td>\n",
       "      <td>Price:$35 / night</td>\n",
       "      <td>Private room in Nashville</td>\n",
       "      <td>SUPERHOST</td>\n",
       "      <td>/rooms/46832964?check_in=2020-12-20&amp;check_out=...</td>\n",
       "      <td>2 guests · 1 bedroom · 1 bed · 1 private bath</td>\n",
       "      <td>Price:$177 totalShow details</td>\n",
       "      <td>Price:$35 / nightPrice:$177 totalShow details</td>\n",
       "      <td>2020-12-20</td>\n",
       "      <td>2020-12-24</td>\n",
       "    </tr>\n",
       "    <tr>\n",
       "      <th>1</th>\n",
       "      <td>BW5 Downtown Nashville!!  Do Bro 8!!</td>\n",
       "      <td>Previous price:$62Discounted price:$45 / night</td>\n",
       "      <td>Entire apartment in Nashville</td>\n",
       "      <td>NaN</td>\n",
       "      <td>/rooms/45934635?check_in=2020-12-20&amp;check_out=...</td>\n",
       "      <td>1 guest · Studio · 2 beds · 1 bath</td>\n",
       "      <td>Price:$265 totalShow details</td>\n",
       "      <td>Previous price:$62Discounted price:$45 / night...</td>\n",
       "      <td>2020-12-20</td>\n",
       "      <td>2020-12-24</td>\n",
       "    </tr>\n",
       "    <tr>\n",
       "      <th>2</th>\n",
       "      <td>Door on the Left</td>\n",
       "      <td>Price:$32 / night</td>\n",
       "      <td>Private room in Nashville</td>\n",
       "      <td>NaN</td>\n",
       "      <td>/rooms/46901175?check_in=2020-12-20&amp;check_out=...</td>\n",
       "      <td>2 guests · 1 bedroom · 1 bed · 1 shared bath</td>\n",
       "      <td>Price:$146 totalShow details</td>\n",
       "      <td>Price:$32 / nightPrice:$146 totalShow details</td>\n",
       "      <td>2020-12-20</td>\n",
       "      <td>2020-12-24</td>\n",
       "    </tr>\n",
       "    <tr>\n",
       "      <th>3</th>\n",
       "      <td>Conveniently located</td>\n",
       "      <td>Price:$29 / night</td>\n",
       "      <td>Private room in Murfreesboro</td>\n",
       "      <td>SUPERHOST</td>\n",
       "      <td>/rooms/42225999?check_in=2020-12-20&amp;check_out=...</td>\n",
       "      <td>1 guest · 1 bedroom · 1 bed · 1.5 shared baths</td>\n",
       "      <td>Price:$132 totalShow details</td>\n",
       "      <td>Rating 5.0 out of 5;5.012 reviews (12)Price:$2...</td>\n",
       "      <td>2020-12-20</td>\n",
       "      <td>2020-12-24</td>\n",
       "    </tr>\n",
       "    <tr>\n",
       "      <th>4</th>\n",
       "      <td>Suite 6 \"AUNT LUCILLE\" - Country Breakfast Inc!</td>\n",
       "      <td>Previous price:$50Discounted price:$40 / night</td>\n",
       "      <td>Private room in Lebanon</td>\n",
       "      <td>SUPERHOST</td>\n",
       "      <td>/rooms/43787569?check_in=2020-12-20&amp;check_out=...</td>\n",
       "      <td>5 guests · 1 bedroom · 2 beds · 1 private bath</td>\n",
       "      <td>Price:$183 totalShow details</td>\n",
       "      <td>Rating 4.84 out of 5;4.8458 reviews (58)Previo...</td>\n",
       "      <td>2020-12-20</td>\n",
       "      <td>2020-12-24</td>\n",
       "    </tr>\n",
       "  </tbody>\n",
       "</table>\n",
       "</div>"
      ],
      "text/plain": [
       "                                              name  \\\n",
       "0   Private Room & Bath 5 minutes to Downtown Nash   \n",
       "1             BW5 Downtown Nashville!!  Do Bro 8!!   \n",
       "2                                 Door on the Left   \n",
       "3                             Conveniently located   \n",
       "4  Suite 6 \"AUNT LUCILLE\" - Country Breakfast Inc!   \n",
       "\n",
       "                                     nightly cost  \\\n",
       "0                               Price:$35 / night   \n",
       "1  Previous price:$62Discounted price:$45 / night   \n",
       "2                               Price:$32 / night   \n",
       "3                               Price:$29 / night   \n",
       "4  Previous price:$50Discounted price:$40 / night   \n",
       "\n",
       "                        category  superhost  \\\n",
       "0      Private room in Nashville  SUPERHOST   \n",
       "1  Entire apartment in Nashville        NaN   \n",
       "2      Private room in Nashville        NaN   \n",
       "3   Private room in Murfreesboro  SUPERHOST   \n",
       "4        Private room in Lebanon  SUPERHOST   \n",
       "\n",
       "                                                 url  \\\n",
       "0  /rooms/46832964?check_in=2020-12-20&check_out=...   \n",
       "1  /rooms/45934635?check_in=2020-12-20&check_out=...   \n",
       "2  /rooms/46901175?check_in=2020-12-20&check_out=...   \n",
       "3  /rooms/42225999?check_in=2020-12-20&check_out=...   \n",
       "4  /rooms/43787569?check_in=2020-12-20&check_out=...   \n",
       "\n",
       "                                    guests_rental  \\\n",
       "0   2 guests · 1 bedroom · 1 bed · 1 private bath   \n",
       "1              1 guest · Studio · 2 beds · 1 bath   \n",
       "2    2 guests · 1 bedroom · 1 bed · 1 shared bath   \n",
       "3  1 guest · 1 bedroom · 1 bed · 1.5 shared baths   \n",
       "4  5 guests · 1 bedroom · 2 beds · 1 private bath   \n",
       "\n",
       "                     total cost  \\\n",
       "0  Price:$177 totalShow details   \n",
       "1  Price:$265 totalShow details   \n",
       "2  Price:$146 totalShow details   \n",
       "3  Price:$132 totalShow details   \n",
       "4  Price:$183 totalShow details   \n",
       "\n",
       "                                             reviews     checkin    checkout  \n",
       "0      Price:$35 / nightPrice:$177 totalShow details  2020-12-20  2020-12-24  \n",
       "1  Previous price:$62Discounted price:$45 / night...  2020-12-20  2020-12-24  \n",
       "2      Price:$32 / nightPrice:$146 totalShow details  2020-12-20  2020-12-24  \n",
       "3  Rating 5.0 out of 5;5.012 reviews (12)Price:$2...  2020-12-20  2020-12-24  \n",
       "4  Rating 4.84 out of 5;4.8458 reviews (58)Previo...  2020-12-20  2020-12-24  "
      ]
     },
     "execution_count": 580,
     "metadata": {},
     "output_type": "execute_result"
    }
   ],
   "source": [
    "weekends['checkin'] = weekends['checkin'].str.replace('ci','')\n",
    "weekends['checkout'] = weekends['checkout'].str.replace('.csv','')\n",
    "weekends.drop('dates', axis=1, inplace=True)\n",
    "weekends.head()                                                    "
   ]
  },
  {
   "cell_type": "code",
   "execution_count": 581,
   "metadata": {},
   "outputs": [
    {
     "data": {
      "text/html": [
       "<div>\n",
       "<style scoped>\n",
       "    .dataframe tbody tr th:only-of-type {\n",
       "        vertical-align: middle;\n",
       "    }\n",
       "\n",
       "    .dataframe tbody tr th {\n",
       "        vertical-align: top;\n",
       "    }\n",
       "\n",
       "    .dataframe thead th {\n",
       "        text-align: right;\n",
       "    }\n",
       "</style>\n",
       "<table border=\"1\" class=\"dataframe\">\n",
       "  <thead>\n",
       "    <tr style=\"text-align: right;\">\n",
       "      <th></th>\n",
       "      <th>name</th>\n",
       "      <th>nightly cost</th>\n",
       "      <th>category</th>\n",
       "      <th>superhost</th>\n",
       "      <th>url</th>\n",
       "      <th>guests_rental</th>\n",
       "      <th>total cost</th>\n",
       "      <th>reviews</th>\n",
       "      <th>checkin</th>\n",
       "      <th>checkout</th>\n",
       "    </tr>\n",
       "  </thead>\n",
       "  <tbody>\n",
       "    <tr>\n",
       "      <th>0</th>\n",
       "      <td>Private Room &amp; Bath 5 minutes to Downtown Nash</td>\n",
       "      <td>Price:$35 / night</td>\n",
       "      <td>Private room in Nashville</td>\n",
       "      <td>SUPERHOST</td>\n",
       "      <td>/rooms/46832964?check_in=2020-12-20&amp;check_out=...</td>\n",
       "      <td>2 guests · 1 bedroom · 1 bed · 1 private bath</td>\n",
       "      <td>Price:$177 totalShow details</td>\n",
       "      <td>Price:$35 / nightPrice:$177 totalShow details</td>\n",
       "      <td>2020-12-20</td>\n",
       "      <td>2020-12-24</td>\n",
       "    </tr>\n",
       "    <tr>\n",
       "      <th>1</th>\n",
       "      <td>BW5 Downtown Nashville!!  Do Bro 8!!</td>\n",
       "      <td>Previous price:$62Discounted price:$45 / night</td>\n",
       "      <td>Entire apartment in Nashville</td>\n",
       "      <td>NaN</td>\n",
       "      <td>/rooms/45934635?check_in=2020-12-20&amp;check_out=...</td>\n",
       "      <td>1 guest · Studio · 2 beds · 1 bath</td>\n",
       "      <td>Price:$265 totalShow details</td>\n",
       "      <td>Previous price:$62Discounted price:$45 / night...</td>\n",
       "      <td>2020-12-20</td>\n",
       "      <td>2020-12-24</td>\n",
       "    </tr>\n",
       "    <tr>\n",
       "      <th>2</th>\n",
       "      <td>Door on the Left</td>\n",
       "      <td>Price:$32 / night</td>\n",
       "      <td>Private room in Nashville</td>\n",
       "      <td>NaN</td>\n",
       "      <td>/rooms/46901175?check_in=2020-12-20&amp;check_out=...</td>\n",
       "      <td>2 guests · 1 bedroom · 1 bed · 1 shared bath</td>\n",
       "      <td>Price:$146 totalShow details</td>\n",
       "      <td>Price:$32 / nightPrice:$146 totalShow details</td>\n",
       "      <td>2020-12-20</td>\n",
       "      <td>2020-12-24</td>\n",
       "    </tr>\n",
       "    <tr>\n",
       "      <th>3</th>\n",
       "      <td>Conveniently located</td>\n",
       "      <td>Price:$29 / night</td>\n",
       "      <td>Private room in Murfreesboro</td>\n",
       "      <td>SUPERHOST</td>\n",
       "      <td>/rooms/42225999?check_in=2020-12-20&amp;check_out=...</td>\n",
       "      <td>1 guest · 1 bedroom · 1 bed · 1.5 shared baths</td>\n",
       "      <td>Price:$132 totalShow details</td>\n",
       "      <td>Rating 5.0 out of 5;5.012 reviews (12)Price:$2...</td>\n",
       "      <td>2020-12-20</td>\n",
       "      <td>2020-12-24</td>\n",
       "    </tr>\n",
       "    <tr>\n",
       "      <th>4</th>\n",
       "      <td>Suite 6 \"AUNT LUCILLE\" - Country Breakfast Inc!</td>\n",
       "      <td>Previous price:$50Discounted price:$40 / night</td>\n",
       "      <td>Private room in Lebanon</td>\n",
       "      <td>SUPERHOST</td>\n",
       "      <td>/rooms/43787569?check_in=2020-12-20&amp;check_out=...</td>\n",
       "      <td>5 guests · 1 bedroom · 2 beds · 1 private bath</td>\n",
       "      <td>Price:$183 totalShow details</td>\n",
       "      <td>Rating 4.84 out of 5;4.8458 reviews (58)Previo...</td>\n",
       "      <td>2020-12-20</td>\n",
       "      <td>2020-12-24</td>\n",
       "    </tr>\n",
       "  </tbody>\n",
       "</table>\n",
       "</div>"
      ],
      "text/plain": [
       "                                              name  \\\n",
       "0   Private Room & Bath 5 minutes to Downtown Nash   \n",
       "1             BW5 Downtown Nashville!!  Do Bro 8!!   \n",
       "2                                 Door on the Left   \n",
       "3                             Conveniently located   \n",
       "4  Suite 6 \"AUNT LUCILLE\" - Country Breakfast Inc!   \n",
       "\n",
       "                                     nightly cost  \\\n",
       "0                               Price:$35 / night   \n",
       "1  Previous price:$62Discounted price:$45 / night   \n",
       "2                               Price:$32 / night   \n",
       "3                               Price:$29 / night   \n",
       "4  Previous price:$50Discounted price:$40 / night   \n",
       "\n",
       "                        category  superhost  \\\n",
       "0      Private room in Nashville  SUPERHOST   \n",
       "1  Entire apartment in Nashville        NaN   \n",
       "2      Private room in Nashville        NaN   \n",
       "3   Private room in Murfreesboro  SUPERHOST   \n",
       "4        Private room in Lebanon  SUPERHOST   \n",
       "\n",
       "                                                 url  \\\n",
       "0  /rooms/46832964?check_in=2020-12-20&check_out=...   \n",
       "1  /rooms/45934635?check_in=2020-12-20&check_out=...   \n",
       "2  /rooms/46901175?check_in=2020-12-20&check_out=...   \n",
       "3  /rooms/42225999?check_in=2020-12-20&check_out=...   \n",
       "4  /rooms/43787569?check_in=2020-12-20&check_out=...   \n",
       "\n",
       "                                    guests_rental  \\\n",
       "0   2 guests · 1 bedroom · 1 bed · 1 private bath   \n",
       "1              1 guest · Studio · 2 beds · 1 bath   \n",
       "2    2 guests · 1 bedroom · 1 bed · 1 shared bath   \n",
       "3  1 guest · 1 bedroom · 1 bed · 1.5 shared baths   \n",
       "4  5 guests · 1 bedroom · 2 beds · 1 private bath   \n",
       "\n",
       "                     total cost  \\\n",
       "0  Price:$177 totalShow details   \n",
       "1  Price:$265 totalShow details   \n",
       "2  Price:$146 totalShow details   \n",
       "3  Price:$132 totalShow details   \n",
       "4  Price:$183 totalShow details   \n",
       "\n",
       "                                             reviews    checkin   checkout  \n",
       "0      Price:$35 / nightPrice:$177 totalShow details 2020-12-20 2020-12-24  \n",
       "1  Previous price:$62Discounted price:$45 / night... 2020-12-20 2020-12-24  \n",
       "2      Price:$32 / nightPrice:$146 totalShow details 2020-12-20 2020-12-24  \n",
       "3  Rating 5.0 out of 5;5.012 reviews (12)Price:$2... 2020-12-20 2020-12-24  \n",
       "4  Rating 4.84 out of 5;4.8458 reviews (58)Previo... 2020-12-20 2020-12-24  "
      ]
     },
     "execution_count": 581,
     "metadata": {},
     "output_type": "execute_result"
    }
   ],
   "source": [
    "weekends['checkin'] =  pd.to_datetime(weekends['checkin'], format='%Y/%m/%d')\n",
    "weekends['checkout'] =  pd.to_datetime(weekends['checkout'], format='%Y/%m/%d')\n",
    "weekends.head()"
   ]
  },
  {
   "cell_type": "markdown",
   "metadata": {},
   "source": [
    "### Clean the columns scrubbed from Airbnb's site"
   ]
  },
  {
   "cell_type": "markdown",
   "metadata": {},
   "source": [
    "#### Create a column for the number of guests "
   ]
  },
  {
   "cell_type": "code",
   "execution_count": 582,
   "metadata": {},
   "outputs": [],
   "source": [
    "weekends['guests'] = weekends['guests_rental'].str.partition(' · ')[0]\n",
    "#weekends.head()"
   ]
  },
  {
   "cell_type": "code",
   "execution_count": 583,
   "metadata": {},
   "outputs": [],
   "source": [
    "weekends['guest_rental2'] = weekends['guests_rental'].str.partition(' · ')[2]\n",
    "#weekends.head()"
   ]
  },
  {
   "cell_type": "markdown",
   "metadata": {},
   "source": [
    "#### Create a column for the number of bedrooms"
   ]
  },
  {
   "cell_type": "code",
   "execution_count": 584,
   "metadata": {},
   "outputs": [],
   "source": [
    "weekends['bedroom'] = weekends['guest_rental2'].str.partition(' · ')[0] \n",
    "#weekends.head()"
   ]
  },
  {
   "cell_type": "code",
   "execution_count": 585,
   "metadata": {},
   "outputs": [],
   "source": [
    "weekends['guest_rental3'] = weekends['guest_rental2'].str.partition(' · ')[2]\n",
    "#weekends.head()"
   ]
  },
  {
   "cell_type": "markdown",
   "metadata": {},
   "source": [
    "#### Create a column for the number of beds"
   ]
  },
  {
   "cell_type": "code",
   "execution_count": 586,
   "metadata": {},
   "outputs": [],
   "source": [
    "weekends['beds'] = weekends['guest_rental3'].str.partition(' · ')[0] \n",
    "#weekends.head()"
   ]
  },
  {
   "cell_type": "code",
   "execution_count": 587,
   "metadata": {},
   "outputs": [],
   "source": [
    "weekends['bath'] = weekends['guest_rental3'].str.partition(' · ')[2]\n",
    "#weekends.head()"
   ]
  },
  {
   "cell_type": "markdown",
   "metadata": {},
   "source": [
    "#### Drop original columns that have been cleaned"
   ]
  },
  {
   "cell_type": "code",
   "execution_count": 588,
   "metadata": {},
   "outputs": [],
   "source": [
    "weekends.drop(columns = ['guests_rental', 'guest_rental2', 'guest_rental3'], axis=1, inplace=True)\n",
    "#weekends.head()"
   ]
  },
  {
   "cell_type": "markdown",
   "metadata": {},
   "source": [
    "#### Create columns for the prices associated with each listing"
   ]
  },
  {
   "cell_type": "code",
   "execution_count": 589,
   "metadata": {},
   "outputs": [],
   "source": [
    "weekends['not_discounted'] = weekends['nightly cost'].str.partition('Previous price:')[0]\n",
    "#weekends.head()"
   ]
  },
  {
   "cell_type": "code",
   "execution_count": 590,
   "metadata": {},
   "outputs": [],
   "source": [
    "weekends['test'] = weekends['nightly cost'].str.partition('Previous price:')[2]\n",
    "#weekends.head()"
   ]
  },
  {
   "cell_type": "code",
   "execution_count": 591,
   "metadata": {},
   "outputs": [],
   "source": [
    "weekends['discounted'] = weekends['test'].str.partition(':')[0]\n",
    "#weekends.head()"
   ]
  },
  {
   "cell_type": "code",
   "execution_count": 592,
   "metadata": {},
   "outputs": [],
   "source": [
    "weekends['discounted'] = weekends['test'].str.partition(':')[2]\n",
    "#weekends.head()"
   ]
  },
  {
   "cell_type": "code",
   "execution_count": 593,
   "metadata": {},
   "outputs": [],
   "source": [
    "weekends['previous_price'] = weekends['test'].str.partition(':')[0]\n",
    "#weekends.head()"
   ]
  },
  {
   "cell_type": "code",
   "execution_count": 594,
   "metadata": {},
   "outputs": [],
   "source": [
    "weekends.drop(columns=['test', 'nightly cost'], axis=1, inplace=True)\n",
    "#weekends.head()"
   ]
  },
  {
   "cell_type": "code",
   "execution_count": 595,
   "metadata": {},
   "outputs": [],
   "source": [
    "weekends['not_discounted'] = weekends['not_discounted'].str.replace('Price:', '') \n",
    "weekends['not_discounted'] = weekends['not_discounted'].str.replace(' / night', '')\n",
    "\n",
    "#weekends.head()"
   ]
  },
  {
   "cell_type": "code",
   "execution_count": 596,
   "metadata": {},
   "outputs": [],
   "source": [
    "weekends['discounted'] = weekends['discounted'].str.replace(' / night', '')\n",
    "#weekends.head()"
   ]
  },
  {
   "cell_type": "code",
   "execution_count": 597,
   "metadata": {},
   "outputs": [],
   "source": [
    "weekends['previous_price'] = weekends['previous_price'].str.replace('Discounted price', '')\n",
    "#weekends.head()"
   ]
  },
  {
   "cell_type": "code",
   "execution_count": 598,
   "metadata": {},
   "outputs": [],
   "source": [
    "weekends['current_nightly'] = weekends['not_discounted'] + weekends['discounted']\n",
    "#weekends.head()"
   ]
  },
  {
   "cell_type": "markdown",
   "metadata": {},
   "source": [
    "#### Remove redundant words from values in columns with clear descriptions"
   ]
  },
  {
   "cell_type": "code",
   "execution_count": 599,
   "metadata": {},
   "outputs": [],
   "source": [
    "weekends['guests'] = weekends['guests'].str.replace(' guests', '')\n",
    "#weekends.head()"
   ]
  },
  {
   "cell_type": "code",
   "execution_count": 600,
   "metadata": {},
   "outputs": [],
   "source": [
    "weekends['guests'] = weekends['guests'].str.replace(' guest', '')\n",
    "#weekends.head(25)"
   ]
  },
  {
   "cell_type": "code",
   "execution_count": 601,
   "metadata": {},
   "outputs": [],
   "source": [
    "weekends['beds'] = weekends['beds'].str.replace(' beds', '')\n",
    "weekends['beds'] = weekends['beds'].str.replace(' bed', '')\n",
    "#weekends.head()"
   ]
  },
  {
   "cell_type": "code",
   "execution_count": 602,
   "metadata": {},
   "outputs": [],
   "source": [
    "weekends['total cost'] = weekends['total cost'].str.replace('Price:', '')\n",
    "weekends['total cost'] = weekends['total cost'].str.replace('totalShow details', '')\n",
    "#weekends.head()"
   ]
  },
  {
   "cell_type": "markdown",
   "metadata": {},
   "source": [
    "#### Create columns for number of reviews and average stars"
   ]
  },
  {
   "cell_type": "code",
   "execution_count": 603,
   "metadata": {},
   "outputs": [],
   "source": [
    "weekends['review_test'] = weekends['reviews'].str.partition('Rating')[2]\n",
    "#weekends.head()"
   ]
  },
  {
   "cell_type": "code",
   "execution_count": 604,
   "metadata": {},
   "outputs": [],
   "source": [
    "weekends['avg_stars'] = weekends['review_test'].str.partition(' out of')[0]\n",
    "#weekends.head()"
   ]
  },
  {
   "cell_type": "code",
   "execution_count": 605,
   "metadata": {},
   "outputs": [],
   "source": [
    "weekends['review_count2'] = weekends['review_test'].str.partition('(')[2]\n",
    "#weekends.head()"
   ]
  },
  {
   "cell_type": "code",
   "execution_count": 606,
   "metadata": {},
   "outputs": [],
   "source": [
    "weekends['review_count'] = weekends['review_count2'].str.partition(')')[0]\n",
    "#weekends.head()"
   ]
  },
  {
   "cell_type": "code",
   "execution_count": 607,
   "metadata": {},
   "outputs": [],
   "source": [
    "weekends.drop(columns = ['review_count2', 'review_test', 'reviews'], axis=1, inplace=True)\n",
    "#weekends.head()"
   ]
  },
  {
   "cell_type": "markdown",
   "metadata": {},
   "source": [
    "#### Drop original columns that have been cleaned"
   ]
  },
  {
   "cell_type": "code",
   "execution_count": 608,
   "metadata": {},
   "outputs": [
    {
     "data": {
      "text/html": [
       "<div>\n",
       "<style scoped>\n",
       "    .dataframe tbody tr th:only-of-type {\n",
       "        vertical-align: middle;\n",
       "    }\n",
       "\n",
       "    .dataframe tbody tr th {\n",
       "        vertical-align: top;\n",
       "    }\n",
       "\n",
       "    .dataframe thead th {\n",
       "        text-align: right;\n",
       "    }\n",
       "</style>\n",
       "<table border=\"1\" class=\"dataframe\">\n",
       "  <thead>\n",
       "    <tr style=\"text-align: right;\">\n",
       "      <th></th>\n",
       "      <th>name</th>\n",
       "      <th>category</th>\n",
       "      <th>superhost</th>\n",
       "      <th>url</th>\n",
       "      <th>avg_stars</th>\n",
       "      <th>review_count</th>\n",
       "      <th>guests</th>\n",
       "      <th>beds</th>\n",
       "      <th>bedroom</th>\n",
       "      <th>bath</th>\n",
       "      <th>checkin</th>\n",
       "      <th>checkout</th>\n",
       "      <th>previous_price</th>\n",
       "      <th>discounted</th>\n",
       "      <th>not_discounted</th>\n",
       "      <th>current_nightly</th>\n",
       "      <th>total cost</th>\n",
       "    </tr>\n",
       "  </thead>\n",
       "  <tbody>\n",
       "    <tr>\n",
       "      <th>0</th>\n",
       "      <td>Private Room &amp; Bath 5 minutes to Downtown Nash</td>\n",
       "      <td>Private room in Nashville</td>\n",
       "      <td>SUPERHOST</td>\n",
       "      <td>/rooms/46832964?check_in=2020-12-20&amp;check_out=...</td>\n",
       "      <td></td>\n",
       "      <td></td>\n",
       "      <td>2</td>\n",
       "      <td>1</td>\n",
       "      <td>1 bedroom</td>\n",
       "      <td>1 private bath</td>\n",
       "      <td>2020-12-20</td>\n",
       "      <td>2020-12-24</td>\n",
       "      <td></td>\n",
       "      <td></td>\n",
       "      <td>$35</td>\n",
       "      <td>$35</td>\n",
       "      <td>$177</td>\n",
       "    </tr>\n",
       "    <tr>\n",
       "      <th>1</th>\n",
       "      <td>BW5 Downtown Nashville!!  Do Bro 8!!</td>\n",
       "      <td>Entire apartment in Nashville</td>\n",
       "      <td>NaN</td>\n",
       "      <td>/rooms/45934635?check_in=2020-12-20&amp;check_out=...</td>\n",
       "      <td></td>\n",
       "      <td></td>\n",
       "      <td>1</td>\n",
       "      <td>2</td>\n",
       "      <td>Studio</td>\n",
       "      <td>1 bath</td>\n",
       "      <td>2020-12-20</td>\n",
       "      <td>2020-12-24</td>\n",
       "      <td>$62</td>\n",
       "      <td>$45</td>\n",
       "      <td></td>\n",
       "      <td>$45</td>\n",
       "      <td>$265</td>\n",
       "    </tr>\n",
       "  </tbody>\n",
       "</table>\n",
       "</div>"
      ],
      "text/plain": [
       "                                             name  \\\n",
       "0  Private Room & Bath 5 minutes to Downtown Nash   \n",
       "1            BW5 Downtown Nashville!!  Do Bro 8!!   \n",
       "\n",
       "                        category  superhost  \\\n",
       "0      Private room in Nashville  SUPERHOST   \n",
       "1  Entire apartment in Nashville        NaN   \n",
       "\n",
       "                                                 url avg_stars review_count  \\\n",
       "0  /rooms/46832964?check_in=2020-12-20&check_out=...                          \n",
       "1  /rooms/45934635?check_in=2020-12-20&check_out=...                          \n",
       "\n",
       "  guests beds    bedroom            bath    checkin   checkout previous_price  \\\n",
       "0      2    1  1 bedroom  1 private bath 2020-12-20 2020-12-24                  \n",
       "1      1    2     Studio          1 bath 2020-12-20 2020-12-24            $62   \n",
       "\n",
       "  discounted not_discounted current_nightly total cost  \n",
       "0                       $35             $35      $177   \n",
       "1        $45                            $45      $265   "
      ]
     },
     "execution_count": 608,
     "metadata": {},
     "output_type": "execute_result"
    }
   ],
   "source": [
    "weekends = weekends[['name', 'category', 'superhost', 'url', 'avg_stars', 'review_count', 'guests','beds', 'bedroom', 'bath', 'checkin', 'checkout', 'previous_price', 'discounted', 'not_discounted', 'current_nightly', 'total cost']]\n",
    "weekends.head(2)"
   ]
  },
  {
   "cell_type": "markdown",
   "metadata": {},
   "source": [
    "#### Check data types before performing calculations on prices"
   ]
  },
  {
   "cell_type": "code",
   "execution_count": 609,
   "metadata": {},
   "outputs": [
    {
     "data": {
      "text/plain": [
       "name                       object\n",
       "category                   object\n",
       "superhost                  object\n",
       "url                        object\n",
       "avg_stars                  object\n",
       "review_count               object\n",
       "guests                     object\n",
       "beds                       object\n",
       "bedroom                    object\n",
       "bath                       object\n",
       "checkin            datetime64[ns]\n",
       "checkout           datetime64[ns]\n",
       "previous_price             object\n",
       "discounted                 object\n",
       "not_discounted             object\n",
       "current_nightly            object\n",
       "total cost                 object\n",
       "dtype: object"
      ]
     },
     "execution_count": 609,
     "metadata": {},
     "output_type": "execute_result"
    }
   ],
   "source": [
    "weekends.dtypes"
   ]
  },
  {
   "cell_type": "markdown",
   "metadata": {},
   "source": [
    "#### Remove extraneous characters from price columns and convert to integers"
   ]
  },
  {
   "cell_type": "code",
   "execution_count": 610,
   "metadata": {},
   "outputs": [],
   "source": [
    "weekends['current_nightly'] = weekends['current_nightly'].astype(str)\n",
    "\n",
    "weekends['current_nightly'] = weekends['current_nightly'].str.replace('$','')\n",
    "weekends['current_nightly'] = weekends['current_nightly'].str.replace(',','')\n",
    "weekends['current_nightly'] = weekends['current_nightly'].str.replace('nan', '0')\n",
    "\n",
    "weekends['current_nightly'] = weekends['current_nightly'].astype(int)\n",
    "\n",
    "#weekends.head()"
   ]
  },
  {
   "cell_type": "code",
   "execution_count": 611,
   "metadata": {},
   "outputs": [],
   "source": [
    "weekends['total cost'] = weekends['total cost'].astype(str)\n",
    "\n",
    "weekends['total cost'] = weekends['total cost'].str.replace('$','')\n",
    "weekends['total cost'] = weekends['total cost'].str.replace(',','')\n",
    "weekends['total cost'] = weekends['total cost'].str.replace(' total','')\n",
    "weekends['total cost'] = weekends['total cost'].str.replace('nan', '0')\n",
    "\n",
    "weekends['total cost'] = weekends['total cost'].astype(int)\n",
    "\n",
    "#weekends.head()"
   ]
  },
  {
   "cell_type": "code",
   "execution_count": 612,
   "metadata": {},
   "outputs": [],
   "source": [
    "weekends['previous_price'] = weekends['previous_price'].astype(str)\n",
    "\n",
    "weekends['previous_price'] = weekends['previous_price'].str.replace('$','')\n",
    "weekends['previous_price'] = weekends['previous_price'].str.replace(',','')\n",
    "weekends['previous_price'] = weekends['previous_price'].str.replace(' total','')\n",
    "weekends['previous_price'] = weekends['previous_price'].str.replace('nan', '0')\n",
    "\n",
    "#weekends.head()"
   ]
  },
  {
   "cell_type": "code",
   "execution_count": 613,
   "metadata": {},
   "outputs": [],
   "source": [
    "weekends['discounted'] = weekends['discounted'].astype(str)\n",
    "\n",
    "weekends['discounted'] = weekends['discounted'].str.replace('$','')\n",
    "weekends['discounted'] = weekends['discounted'].str.replace(',','')\n",
    "weekends['discounted'] = weekends['discounted'].str.replace(' total','')\n",
    "weekends['discounted'] = weekends['discounted'].str.replace('nan', '0')\n",
    "\n",
    "#weekends.head()"
   ]
  },
  {
   "cell_type": "code",
   "execution_count": 614,
   "metadata": {},
   "outputs": [],
   "source": [
    "weekends['not_discounted'] = weekends['not_discounted'].astype(str)\n",
    "\n",
    "weekends['not_discounted'] = weekends['not_discounted'].str.replace('$','')\n",
    "weekends['not_discounted'] = weekends['not_discounted'].str.replace(',','')\n",
    "weekends['not_discounted'] = weekends['not_discounted'].str.replace(' total','')\n",
    "weekends['not_discounted'] = weekends['not_discounted'].str.replace('nan', '0')\n",
    "\n",
    "#weekends.head()"
   ]
  },
  {
   "cell_type": "markdown",
   "metadata": {},
   "source": [
    "#### Calculate the room fee (nightly rate * # of nights staying) and the additional fees"
   ]
  },
  {
   "cell_type": "code",
   "execution_count": 615,
   "metadata": {
    "scrolled": true
   },
   "outputs": [],
   "source": [
    "weekends['room_fee'] = weekends['current_nightly'] * 3 \n",
    "#weekends.head()"
   ]
  },
  {
   "cell_type": "code",
   "execution_count": 616,
   "metadata": {},
   "outputs": [],
   "source": [
    "weekends['taxes_fees_cleaning'] = weekends['total cost'] - weekends['room_fee']\n",
    "#weekends.head()"
   ]
  },
  {
   "cell_type": "markdown",
   "metadata": {},
   "source": [
    "### Drop empty and duplicate rows"
   ]
  },
  {
   "cell_type": "code",
   "execution_count": 617,
   "metadata": {},
   "outputs": [
    {
     "data": {
      "text/plain": [
       "(78296, 19)"
      ]
     },
     "execution_count": 617,
     "metadata": {},
     "output_type": "execute_result"
    }
   ],
   "source": [
    "weekends.dropna(subset=['name', 'url'], inplace=True)\n",
    "weekends.shape"
   ]
  },
  {
   "cell_type": "code",
   "execution_count": 618,
   "metadata": {},
   "outputs": [
    {
     "data": {
      "text/plain": [
       "(78296, 19)"
      ]
     },
     "execution_count": 618,
     "metadata": {},
     "output_type": "execute_result"
    }
   ],
   "source": [
    "weekends.drop_duplicates(subset=['url'], keep='first', inplace=True)\n",
    "weekends.shape"
   ]
  },
  {
   "cell_type": "markdown",
   "metadata": {},
   "source": [
    "### Save to a csv"
   ]
  },
  {
   "cell_type": "code",
   "execution_count": 619,
   "metadata": {},
   "outputs": [],
   "source": [
    "weekends.to_csv('data_for_viz/weekends.csv')"
   ]
  },
  {
   "cell_type": "code",
   "execution_count": null,
   "metadata": {},
   "outputs": [],
   "source": []
  }
 ],
 "metadata": {
  "kernelspec": {
   "display_name": "Python 3",
   "language": "python",
   "name": "python3"
  },
  "language_info": {
   "codemirror_mode": {
    "name": "ipython",
    "version": 3
   },
   "file_extension": ".py",
   "mimetype": "text/x-python",
   "name": "python",
   "nbconvert_exporter": "python",
   "pygments_lexer": "ipython3",
   "version": "3.8.3"
  }
 },
 "nbformat": 4,
 "nbformat_minor": 4
}
