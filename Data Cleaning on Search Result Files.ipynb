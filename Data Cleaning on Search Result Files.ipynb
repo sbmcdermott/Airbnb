{
 "cells": [
  {
   "cell_type": "markdown",
   "metadata": {},
   "source": [
    "## Clean Raw Data Scraped from Airbnb's Site"
   ]
  },
  {
   "cell_type": "markdown",
   "metadata": {},
   "source": [
    "### Import packages"
   ]
  },
  {
   "cell_type": "code",
   "execution_count": 1,
   "metadata": {},
   "outputs": [],
   "source": [
    "import os\n",
    "import pandas as pd"
   ]
  },
  {
   "cell_type": "markdown",
   "metadata": {},
   "source": [
    "### Read in the files from the search folder"
   ]
  },
  {
   "cell_type": "code",
   "execution_count": 2,
   "metadata": {},
   "outputs": [],
   "source": [
    "results = os.listdir('search/')\n",
    "#results"
   ]
  },
  {
   "cell_type": "markdown",
   "metadata": {},
   "source": [
    "### Open the files and add the dates of the search performed to each file"
   ]
  },
  {
   "cell_type": "code",
   "execution_count": 3,
   "metadata": {},
   "outputs": [],
   "source": [
    "open_file = pd.read_csv('search/'+results[0])\n",
    "open_file['dates'] = str(results[0])\n",
    "weekends = open_file.head(0)"
   ]
  },
  {
   "cell_type": "code",
   "execution_count": 4,
   "metadata": {},
   "outputs": [],
   "source": [
    "for file in results: \n",
    "    open_file = pd.read_csv('search/'+file)\n",
    "    open_file['dates'] = str(file)\n",
    "    weekends = weekends.append(open_file)"
   ]
  },
  {
   "cell_type": "code",
   "execution_count": 5,
   "metadata": {},
   "outputs": [
    {
     "data": {
      "text/html": [
       "<div>\n",
       "<style scoped>\n",
       "    .dataframe tbody tr th:only-of-type {\n",
       "        vertical-align: middle;\n",
       "    }\n",
       "\n",
       "    .dataframe tbody tr th {\n",
       "        vertical-align: top;\n",
       "    }\n",
       "\n",
       "    .dataframe thead th {\n",
       "        text-align: right;\n",
       "    }\n",
       "</style>\n",
       "<table border=\"1\" class=\"dataframe\">\n",
       "  <thead>\n",
       "    <tr style=\"text-align: right;\">\n",
       "      <th></th>\n",
       "      <th>name</th>\n",
       "      <th>nightly cost</th>\n",
       "      <th>category</th>\n",
       "      <th>superhost</th>\n",
       "      <th>url</th>\n",
       "      <th>guests_rental</th>\n",
       "      <th>total cost</th>\n",
       "      <th>reviews</th>\n",
       "      <th>dates</th>\n",
       "    </tr>\n",
       "  </thead>\n",
       "  <tbody>\n",
       "    <tr>\n",
       "      <th>0</th>\n",
       "      <td>NC5 The Joint!!  Downtown Nashville Studio!</td>\n",
       "      <td>Price:$55 / night</td>\n",
       "      <td>Entire apartment in Nashville</td>\n",
       "      <td>NaN</td>\n",
       "      <td>/rooms/46779266?check_in=2020-12-17&amp;check_out=...</td>\n",
       "      <td>6 guests · Studio · 2 beds · 1 bath</td>\n",
       "      <td>Price:$245 totalShow details</td>\n",
       "      <td>Price:$55 / nightPrice:$245 totalShow details</td>\n",
       "      <td>ci2020-12-17co2020-12-20.csv</td>\n",
       "    </tr>\n",
       "  </tbody>\n",
       "</table>\n",
       "</div>"
      ],
      "text/plain": [
       "                                          name       nightly cost  \\\n",
       "0  NC5 The Joint!!  Downtown Nashville Studio!  Price:$55 / night   \n",
       "\n",
       "                        category superhost  \\\n",
       "0  Entire apartment in Nashville       NaN   \n",
       "\n",
       "                                                 url  \\\n",
       "0  /rooms/46779266?check_in=2020-12-17&check_out=...   \n",
       "\n",
       "                         guests_rental                    total cost  \\\n",
       "0  6 guests · Studio · 2 beds · 1 bath  Price:$245 totalShow details   \n",
       "\n",
       "                                         reviews                         dates  \n",
       "0  Price:$55 / nightPrice:$245 totalShow details  ci2020-12-17co2020-12-20.csv  "
      ]
     },
     "execution_count": 5,
     "metadata": {},
     "output_type": "execute_result"
    }
   ],
   "source": [
    "weekends.reset_index(drop = True)\n",
    "weekends.head(1)"
   ]
  },
  {
   "cell_type": "markdown",
   "metadata": {},
   "source": [
    "### Create columns for checkin and checkout dates"
   ]
  },
  {
   "cell_type": "code",
   "execution_count": 6,
   "metadata": {},
   "outputs": [],
   "source": [
    "# new data frame with split value columns \n",
    "dates = weekends['dates'].str.split('co', n = 1, expand = True)\n",
    "weekends['checkin'] = dates[0] \n",
    "weekends['checkout'] = dates[1]\n",
    "#weekends.head()"
   ]
  },
  {
   "cell_type": "code",
   "execution_count": 7,
   "metadata": {},
   "outputs": [],
   "source": [
    "weekends['checkin'] = weekends['checkin'].str.replace('ci','')\n",
    "weekends['checkout'] = weekends['checkout'].str.replace('.csv','')\n",
    "weekends.drop('dates', axis=1, inplace=True)\n",
    "#weekends.head()                                                    "
   ]
  },
  {
   "cell_type": "code",
   "execution_count": 8,
   "metadata": {},
   "outputs": [],
   "source": [
    "weekends['checkin'] =  pd.to_datetime(weekends['checkin'], format='%Y/%m/%d')\n",
    "weekends['checkout'] =  pd.to_datetime(weekends['checkout'], format='%Y/%m/%d')\n",
    "#weekends.head()"
   ]
  },
  {
   "cell_type": "markdown",
   "metadata": {},
   "source": [
    "### Clean the columns scrubbed from Airbnb's site"
   ]
  },
  {
   "cell_type": "markdown",
   "metadata": {},
   "source": [
    "#### Create a column for the unique listing ID"
   ]
  },
  {
   "cell_type": "code",
   "execution_count": 9,
   "metadata": {},
   "outputs": [],
   "source": [
    "weekends['ID'] = weekends['url'].str.partition('?check_in')[0]\n",
    "weekends['ID'] = weekends['ID'].str.replace('/rooms/', '')\n",
    "#weekends.head()"
   ]
  },
  {
   "cell_type": "markdown",
   "metadata": {},
   "source": [
    "#### Create a column for the level of privacy (Entire, Private, Shared, etc.)"
   ]
  },
  {
   "cell_type": "code",
   "execution_count": 10,
   "metadata": {},
   "outputs": [],
   "source": [
    "weekends['privacy'] = weekends['category'].str.partition(' ')[0]\n",
    "\n",
    "# Combine types of stays to simplify categories\n",
    "weekends['privacy'] = weekends['privacy'].str.replace('Hotel', 'Private')\n",
    "weekends['privacy'] = weekends['privacy'].str.replace('Room', 'Private')\n",
    "weekends['privacy'] = weekends['privacy'].str.replace('Resort', 'Private')\n",
    "weekends['privacy'] = weekends['privacy'].str.replace('Campsite', 'Entire')\n",
    "weekends['privacy'] = weekends['privacy'].str.replace('Camper/RV', 'Entire')\n",
    "weekends['privacy'] = weekends['privacy'].str.replace('Tiny', 'Entire')\n",
    "weekends['privacy'] = weekends['privacy'].str.replace('Barn', 'Entire')\n",
    "weekends['privacy'] = weekends['privacy'].str.replace('Farm', 'Entire')\n",
    "weekends['privacy'] = weekends['privacy'].str.replace('Bus', 'Entire')\n",
    "weekends['privacy'] = weekends['privacy'].str.replace('Tent', 'Entire')\n",
    "weekends['privacy'] = weekends['privacy'].str.replace('Hostel', 'Shared')\n",
    "\n",
    "#weekends['privacy'].value_counts()"
   ]
  },
  {
   "cell_type": "markdown",
   "metadata": {},
   "source": [
    "#### Create a column for the number of guests "
   ]
  },
  {
   "cell_type": "code",
   "execution_count": 11,
   "metadata": {},
   "outputs": [],
   "source": [
    "weekends['guests'] = weekends['guests_rental'].str.partition(' · ')[0]\n",
    "#weekends.head()"
   ]
  },
  {
   "cell_type": "code",
   "execution_count": 12,
   "metadata": {},
   "outputs": [],
   "source": [
    "weekends['guest_rental2'] = weekends['guests_rental'].str.partition(' · ')[2]\n",
    "#weekends.head()"
   ]
  },
  {
   "cell_type": "markdown",
   "metadata": {},
   "source": [
    "#### Create a column for the number of bedrooms"
   ]
  },
  {
   "cell_type": "code",
   "execution_count": 13,
   "metadata": {},
   "outputs": [],
   "source": [
    "weekends['bedroom'] = weekends['guest_rental2'].str.partition(' · ')[0] \n",
    "#weekends.head()"
   ]
  },
  {
   "cell_type": "code",
   "execution_count": 14,
   "metadata": {},
   "outputs": [],
   "source": [
    "weekends['guest_rental3'] = weekends['guest_rental2'].str.partition(' · ')[2]\n",
    "#weekends.head()"
   ]
  },
  {
   "cell_type": "markdown",
   "metadata": {},
   "source": [
    "#### Create a column for the number of beds"
   ]
  },
  {
   "cell_type": "code",
   "execution_count": 15,
   "metadata": {},
   "outputs": [],
   "source": [
    "weekends['beds'] = weekends['guest_rental3'].str.partition(' · ')[0] \n",
    "#weekends.head()"
   ]
  },
  {
   "cell_type": "code",
   "execution_count": 16,
   "metadata": {},
   "outputs": [],
   "source": [
    "weekends['bath'] = weekends['guest_rental3'].str.partition(' · ')[2]\n",
    "#weekends.head()"
   ]
  },
  {
   "cell_type": "markdown",
   "metadata": {},
   "source": [
    "#### Drop original columns that have been cleaned"
   ]
  },
  {
   "cell_type": "code",
   "execution_count": 17,
   "metadata": {},
   "outputs": [],
   "source": [
    "weekends.drop(columns = ['guests_rental', 'guest_rental2', 'guest_rental3'], axis=1, inplace=True)\n",
    "#weekends.head()"
   ]
  },
  {
   "cell_type": "markdown",
   "metadata": {},
   "source": [
    "#### Create columns for the prices associated with each listing"
   ]
  },
  {
   "cell_type": "code",
   "execution_count": 18,
   "metadata": {},
   "outputs": [],
   "source": [
    "weekends['not_discounted'] = weekends['nightly cost'].str.partition('Previous price:')[0]\n",
    "#weekends.head()"
   ]
  },
  {
   "cell_type": "code",
   "execution_count": 19,
   "metadata": {},
   "outputs": [],
   "source": [
    "weekends['test'] = weekends['nightly cost'].str.partition('Previous price:')[2]\n",
    "#weekends.head()"
   ]
  },
  {
   "cell_type": "code",
   "execution_count": 20,
   "metadata": {},
   "outputs": [],
   "source": [
    "weekends['discounted'] = weekends['test'].str.partition(':')[0]\n",
    "#weekends.head()"
   ]
  },
  {
   "cell_type": "code",
   "execution_count": 21,
   "metadata": {},
   "outputs": [],
   "source": [
    "weekends['discounted'] = weekends['test'].str.partition(':')[2]\n",
    "#weekends.head()"
   ]
  },
  {
   "cell_type": "code",
   "execution_count": 22,
   "metadata": {},
   "outputs": [],
   "source": [
    "weekends['previous_price'] = weekends['test'].str.partition(':')[0]\n",
    "#weekends.head()"
   ]
  },
  {
   "cell_type": "code",
   "execution_count": 23,
   "metadata": {},
   "outputs": [],
   "source": [
    "weekends.drop(columns=['test', 'nightly cost'], axis=1, inplace=True)\n",
    "#weekends.head()"
   ]
  },
  {
   "cell_type": "code",
   "execution_count": 24,
   "metadata": {},
   "outputs": [],
   "source": [
    "weekends['not_discounted'] = weekends['not_discounted'].str.replace('Price:', '') \n",
    "weekends['not_discounted'] = weekends['not_discounted'].str.replace(' / night', '')\n",
    "\n",
    "#weekends.head()"
   ]
  },
  {
   "cell_type": "code",
   "execution_count": 25,
   "metadata": {},
   "outputs": [],
   "source": [
    "weekends['discounted'] = weekends['discounted'].str.replace(' / night', '')\n",
    "#weekends.head()"
   ]
  },
  {
   "cell_type": "code",
   "execution_count": 26,
   "metadata": {},
   "outputs": [],
   "source": [
    "weekends['previous_price'] = weekends['previous_price'].str.replace('Discounted price', '')\n",
    "#weekends.head()"
   ]
  },
  {
   "cell_type": "code",
   "execution_count": 27,
   "metadata": {},
   "outputs": [],
   "source": [
    "weekends['current_nightly'] = weekends['not_discounted'] + weekends['discounted']\n",
    "#weekends.head()"
   ]
  },
  {
   "cell_type": "markdown",
   "metadata": {},
   "source": [
    "#### Remove redundant words from values in columns with clear descriptions"
   ]
  },
  {
   "cell_type": "code",
   "execution_count": 28,
   "metadata": {},
   "outputs": [],
   "source": [
    "weekends['guests'] = weekends['guests'].str.replace(' guests', '')\n",
    "#weekends.head()"
   ]
  },
  {
   "cell_type": "code",
   "execution_count": 29,
   "metadata": {},
   "outputs": [],
   "source": [
    "weekends['guests'] = weekends['guests'].str.replace(' guest', '')\n",
    "#weekends.head(25)"
   ]
  },
  {
   "cell_type": "code",
   "execution_count": 30,
   "metadata": {},
   "outputs": [],
   "source": [
    "weekends['beds'] = weekends['beds'].str.replace(' beds', '')\n",
    "weekends['beds'] = weekends['beds'].str.replace(' bed', '')\n",
    "#weekends.head()"
   ]
  },
  {
   "cell_type": "code",
   "execution_count": 31,
   "metadata": {},
   "outputs": [],
   "source": [
    "weekends['total cost'] = weekends['total cost'].str.replace('Price:', '')\n",
    "weekends['total cost'] = weekends['total cost'].str.replace('totalShow details', '')\n",
    "#weekends.head()"
   ]
  },
  {
   "cell_type": "markdown",
   "metadata": {},
   "source": [
    "#### Create columns for number of reviews and average stars"
   ]
  },
  {
   "cell_type": "code",
   "execution_count": 32,
   "metadata": {},
   "outputs": [],
   "source": [
    "weekends['review_test'] = weekends['reviews'].str.partition('Rating')[2]\n",
    "#weekends.head()"
   ]
  },
  {
   "cell_type": "code",
   "execution_count": 33,
   "metadata": {},
   "outputs": [],
   "source": [
    "weekends['avg_stars'] = weekends['review_test'].str.partition(' out of')[0]\n",
    "#weekends.head()"
   ]
  },
  {
   "cell_type": "code",
   "execution_count": 34,
   "metadata": {},
   "outputs": [],
   "source": [
    "weekends['review_count2'] = weekends['review_test'].str.partition('(')[2]\n",
    "#weekends.head()"
   ]
  },
  {
   "cell_type": "code",
   "execution_count": 35,
   "metadata": {},
   "outputs": [],
   "source": [
    "weekends['review_count'] = weekends['review_count2'].str.partition(')')[0]\n",
    "#weekends.head()"
   ]
  },
  {
   "cell_type": "code",
   "execution_count": 36,
   "metadata": {},
   "outputs": [],
   "source": [
    "weekends.drop(columns = ['review_count2', 'review_test', 'reviews'], axis=1, inplace=True)\n",
    "#weekends.head()"
   ]
  },
  {
   "cell_type": "markdown",
   "metadata": {},
   "source": [
    "#### Drop original columns that have been cleaned"
   ]
  },
  {
   "cell_type": "code",
   "execution_count": 37,
   "metadata": {},
   "outputs": [
    {
     "data": {
      "text/html": [
       "<div>\n",
       "<style scoped>\n",
       "    .dataframe tbody tr th:only-of-type {\n",
       "        vertical-align: middle;\n",
       "    }\n",
       "\n",
       "    .dataframe tbody tr th {\n",
       "        vertical-align: top;\n",
       "    }\n",
       "\n",
       "    .dataframe thead th {\n",
       "        text-align: right;\n",
       "    }\n",
       "</style>\n",
       "<table border=\"1\" class=\"dataframe\">\n",
       "  <thead>\n",
       "    <tr style=\"text-align: right;\">\n",
       "      <th></th>\n",
       "      <th>ID</th>\n",
       "      <th>name</th>\n",
       "      <th>category</th>\n",
       "      <th>privacy</th>\n",
       "      <th>superhost</th>\n",
       "      <th>url</th>\n",
       "      <th>avg_stars</th>\n",
       "      <th>review_count</th>\n",
       "      <th>guests</th>\n",
       "      <th>beds</th>\n",
       "      <th>bedroom</th>\n",
       "      <th>bath</th>\n",
       "      <th>checkin</th>\n",
       "      <th>checkout</th>\n",
       "      <th>previous_price</th>\n",
       "      <th>discounted</th>\n",
       "      <th>not_discounted</th>\n",
       "      <th>current_nightly</th>\n",
       "      <th>total cost</th>\n",
       "    </tr>\n",
       "  </thead>\n",
       "  <tbody>\n",
       "    <tr>\n",
       "      <th>0</th>\n",
       "      <td>46779266</td>\n",
       "      <td>NC5 The Joint!!  Downtown Nashville Studio!</td>\n",
       "      <td>Entire apartment in Nashville</td>\n",
       "      <td>Entire</td>\n",
       "      <td>NaN</td>\n",
       "      <td>/rooms/46779266?check_in=2020-12-17&amp;check_out=...</td>\n",
       "      <td></td>\n",
       "      <td></td>\n",
       "      <td>6</td>\n",
       "      <td>2</td>\n",
       "      <td>Studio</td>\n",
       "      <td>1 bath</td>\n",
       "      <td>2020-12-17</td>\n",
       "      <td>2020-12-20</td>\n",
       "      <td></td>\n",
       "      <td></td>\n",
       "      <td>$55</td>\n",
       "      <td>$55</td>\n",
       "      <td>$245</td>\n",
       "    </tr>\n",
       "    <tr>\n",
       "      <th>1</th>\n",
       "      <td>35440277</td>\n",
       "      <td>Brand-New Condo, 2 Blocks to Centennial Park</td>\n",
       "      <td>Entire apartment in Nashville</td>\n",
       "      <td>Entire</td>\n",
       "      <td>NaN</td>\n",
       "      <td>/rooms/35440277?check_in=2020-12-17&amp;check_out=...</td>\n",
       "      <td>4.64</td>\n",
       "      <td>14</td>\n",
       "      <td>4</td>\n",
       "      <td>2</td>\n",
       "      <td>1 bedroom</td>\n",
       "      <td>1 bath</td>\n",
       "      <td>2020-12-17</td>\n",
       "      <td>2020-12-20</td>\n",
       "      <td>$122</td>\n",
       "      <td>$58</td>\n",
       "      <td></td>\n",
       "      <td>$58</td>\n",
       "      <td>$329</td>\n",
       "    </tr>\n",
       "  </tbody>\n",
       "</table>\n",
       "</div>"
      ],
      "text/plain": [
       "         ID                                          name  \\\n",
       "0  46779266   NC5 The Joint!!  Downtown Nashville Studio!   \n",
       "1  35440277  Brand-New Condo, 2 Blocks to Centennial Park   \n",
       "\n",
       "                        category privacy superhost  \\\n",
       "0  Entire apartment in Nashville  Entire       NaN   \n",
       "1  Entire apartment in Nashville  Entire       NaN   \n",
       "\n",
       "                                                 url avg_stars review_count  \\\n",
       "0  /rooms/46779266?check_in=2020-12-17&check_out=...                          \n",
       "1  /rooms/35440277?check_in=2020-12-17&check_out=...      4.64           14   \n",
       "\n",
       "  guests beds    bedroom    bath    checkin   checkout previous_price  \\\n",
       "0      6    2     Studio  1 bath 2020-12-17 2020-12-20                  \n",
       "1      4    2  1 bedroom  1 bath 2020-12-17 2020-12-20           $122   \n",
       "\n",
       "  discounted not_discounted current_nightly total cost  \n",
       "0                       $55             $55      $245   \n",
       "1        $58                            $58      $329   "
      ]
     },
     "execution_count": 37,
     "metadata": {},
     "output_type": "execute_result"
    }
   ],
   "source": [
    "weekends = weekends[['ID', 'name', 'category', 'privacy', 'superhost', 'url', 'avg_stars', 'review_count', 'guests','beds', 'bedroom', 'bath', 'checkin', 'checkout', 'previous_price', 'discounted', 'not_discounted', 'current_nightly', 'total cost']]\n",
    "weekends.head(2)"
   ]
  },
  {
   "cell_type": "markdown",
   "metadata": {},
   "source": [
    "#### Check data types before performing calculations on prices"
   ]
  },
  {
   "cell_type": "code",
   "execution_count": 38,
   "metadata": {},
   "outputs": [
    {
     "data": {
      "text/plain": [
       "ID                         object\n",
       "name                       object\n",
       "category                   object\n",
       "privacy                    object\n",
       "superhost                  object\n",
       "url                        object\n",
       "avg_stars                  object\n",
       "review_count               object\n",
       "guests                     object\n",
       "beds                       object\n",
       "bedroom                    object\n",
       "bath                       object\n",
       "checkin            datetime64[ns]\n",
       "checkout           datetime64[ns]\n",
       "previous_price             object\n",
       "discounted                 object\n",
       "not_discounted             object\n",
       "current_nightly            object\n",
       "total cost                 object\n",
       "dtype: object"
      ]
     },
     "execution_count": 38,
     "metadata": {},
     "output_type": "execute_result"
    }
   ],
   "source": [
    "weekends.dtypes"
   ]
  },
  {
   "cell_type": "markdown",
   "metadata": {},
   "source": [
    "#### Remove extraneous characters from price columns and convert to integers"
   ]
  },
  {
   "cell_type": "code",
   "execution_count": 39,
   "metadata": {},
   "outputs": [],
   "source": [
    "weekends['current_nightly'] = weekends['current_nightly'].astype(str)\n",
    "\n",
    "weekends['current_nightly'] = weekends['current_nightly'].str.replace('$','')\n",
    "weekends['current_nightly'] = weekends['current_nightly'].str.replace(',','')\n",
    "weekends['current_nightly'] = weekends['current_nightly'].str.replace('nan', '0')\n",
    "\n",
    "weekends['current_nightly'] = weekends['current_nightly'].astype(int)\n",
    "\n",
    "#weekends.head()"
   ]
  },
  {
   "cell_type": "code",
   "execution_count": 40,
   "metadata": {},
   "outputs": [],
   "source": [
    "weekends['total cost'] = weekends['total cost'].astype(str)\n",
    "\n",
    "weekends['total cost'] = weekends['total cost'].str.replace('$','')\n",
    "weekends['total cost'] = weekends['total cost'].str.replace(',','')\n",
    "weekends['total cost'] = weekends['total cost'].str.replace(' total','')\n",
    "weekends['total cost'] = weekends['total cost'].str.replace('nan', '0')\n",
    "\n",
    "weekends['total cost'] = weekends['total cost'].astype(int)\n",
    "\n",
    "#weekends.head()"
   ]
  },
  {
   "cell_type": "code",
   "execution_count": 41,
   "metadata": {},
   "outputs": [],
   "source": [
    "weekends['previous_price'] = weekends['previous_price'].astype(str)\n",
    "\n",
    "weekends['previous_price'] = weekends['previous_price'].str.replace('$','')\n",
    "weekends['previous_price'] = weekends['previous_price'].str.replace(',','')\n",
    "weekends['previous_price'] = weekends['previous_price'].str.replace(' total','')\n",
    "weekends['previous_price'] = weekends['previous_price'].str.replace('nan', '0')\n",
    "\n",
    "#weekends.head()"
   ]
  },
  {
   "cell_type": "code",
   "execution_count": 42,
   "metadata": {},
   "outputs": [],
   "source": [
    "weekends['discounted'] = weekends['discounted'].astype(str)\n",
    "\n",
    "weekends['discounted'] = weekends['discounted'].str.replace('$','')\n",
    "weekends['discounted'] = weekends['discounted'].str.replace(',','')\n",
    "weekends['discounted'] = weekends['discounted'].str.replace(' total','')\n",
    "weekends['discounted'] = weekends['discounted'].str.replace('nan', '0')\n",
    "\n",
    "#weekends.head()"
   ]
  },
  {
   "cell_type": "code",
   "execution_count": 43,
   "metadata": {},
   "outputs": [],
   "source": [
    "weekends['not_discounted'] = weekends['not_discounted'].astype(str)\n",
    "\n",
    "weekends['not_discounted'] = weekends['not_discounted'].str.replace('$','')\n",
    "weekends['not_discounted'] = weekends['not_discounted'].str.replace(',','')\n",
    "weekends['not_discounted'] = weekends['not_discounted'].str.replace(' total','')\n",
    "weekends['not_discounted'] = weekends['not_discounted'].str.replace('nan', '0')\n",
    "\n",
    "#weekends.head()"
   ]
  },
  {
   "cell_type": "markdown",
   "metadata": {},
   "source": [
    "#### Calculate the room fee (nightly rate * # of nights staying) and the additional fees"
   ]
  },
  {
   "cell_type": "code",
   "execution_count": 44,
   "metadata": {
    "scrolled": true
   },
   "outputs": [],
   "source": [
    "weekends['room_fee'] = weekends['current_nightly'] * 3 \n",
    "#weekends.head()"
   ]
  },
  {
   "cell_type": "code",
   "execution_count": 45,
   "metadata": {},
   "outputs": [],
   "source": [
    "weekends['taxes_fees_cleaning'] = weekends['total cost'] - weekends['room_fee']\n",
    "#weekends.head()"
   ]
  },
  {
   "cell_type": "markdown",
   "metadata": {},
   "source": [
    "### Drop empty and duplicate rows"
   ]
  },
  {
   "cell_type": "code",
   "execution_count": 46,
   "metadata": {},
   "outputs": [
    {
     "data": {
      "text/plain": [
       "(64223, 21)"
      ]
     },
     "execution_count": 46,
     "metadata": {},
     "output_type": "execute_result"
    }
   ],
   "source": [
    "weekends.dropna(subset=['name', 'url'], inplace=True)\n",
    "weekends.shape"
   ]
  },
  {
   "cell_type": "code",
   "execution_count": 47,
   "metadata": {},
   "outputs": [
    {
     "data": {
      "text/plain": [
       "(58674, 21)"
      ]
     },
     "execution_count": 47,
     "metadata": {},
     "output_type": "execute_result"
    }
   ],
   "source": [
    "weekends.drop_duplicates(subset=['ID', 'checkin'], keep='first', inplace=True)\n",
    "weekends.shape"
   ]
  },
  {
   "cell_type": "markdown",
   "metadata": {},
   "source": [
    "### Calculate occupancy rate for each listing"
   ]
  },
  {
   "cell_type": "code",
   "execution_count": 48,
   "metadata": {},
   "outputs": [],
   "source": [
    "weekends['occupancy count'] = weekends.groupby('ID')['ID'].transform('count')"
   ]
  },
  {
   "cell_type": "code",
   "execution_count": 49,
   "metadata": {},
   "outputs": [],
   "source": [
    "weekends['occupancy rate'] = (26 - weekends['occupancy count']) / 26"
   ]
  },
  {
   "cell_type": "markdown",
   "metadata": {},
   "source": [
    "### Save to a csv"
   ]
  },
  {
   "cell_type": "code",
   "execution_count": 157,
   "metadata": {},
   "outputs": [],
   "source": [
    "weekends.to_csv('data_for_viz/weekends.csv')"
   ]
  }
 ],
 "metadata": {
  "kernelspec": {
   "display_name": "Python 3",
   "language": "python",
   "name": "python3"
  },
  "language_info": {
   "codemirror_mode": {
    "name": "ipython",
    "version": 3
   },
   "file_extension": ".py",
   "mimetype": "text/x-python",
   "name": "python",
   "nbconvert_exporter": "python",
   "pygments_lexer": "ipython3",
   "version": "3.8.3"
  }
 },
 "nbformat": 4,
 "nbformat_minor": 4
}
