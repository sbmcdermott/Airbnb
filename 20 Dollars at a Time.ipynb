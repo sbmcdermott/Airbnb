{
 "cells": [
  {
   "cell_type": "markdown",
   "metadata": {},
   "source": [
    "## Nashville Airbnb Webscraping "
   ]
  },
  {
   "cell_type": "markdown",
   "metadata": {},
   "source": [
    "### Import packages"
   ]
  },
  {
   "cell_type": "code",
   "execution_count": 8,
   "metadata": {},
   "outputs": [],
   "source": [
    "import requests\n",
    "from bs4 import BeautifulSoup  \n",
    "import pandas as pd"
   ]
  },
  {
   "cell_type": "markdown",
   "metadata": {},
   "source": [
    "### Let's scrape all the search results for listings in Nashville for this upcoming weekend that are under 40 dollars and save them to a file in the folder called search"
   ]
  },
  {
   "cell_type": "code",
   "execution_count": 24,
   "metadata": {},
   "outputs": [
    {
     "name": "stdout",
     "output_type": "stream",
     "text": [
      "URL: https://www.airbnb.com/s/Nashville--TN--United-States/homes?refinement_paths%5B%5D=%2Fhomes&tab_id=home_tab&checkin=2021-01-28&checkout=2021-01-31&search_type=filter_change&gps_lat=36.1005056&gps_lng=-86.7401728&price_max=40&source=structured_search_input_header&place_id=ChIJPZDrEzLsZIgRoNrpodC5P30\n",
      " \n",
      "File created with listings up to $40: weekday/ci2021-01-28co2021-01-31.csv\n"
     ]
    }
   ],
   "source": [
    "# Build the website_url for the first page of results\n",
    "\n",
    "# Input check in and check out dates\n",
    "checkin = '2021-01-28'\n",
    "checkout = '2021-01-31'\n",
    "\n",
    "price_max = 40\n",
    "count = ''\n",
    "    \n",
    "website_url = 'https://www.airbnb.com/s/Nashville--TN--United-States/homes?refinement_paths%5B%5D=%2Fhomes&tab_id=home_tab&checkin=' + str(checkin) + '&checkout=' + str(checkout) + '&search_type=filter_change&gps_lat=36.1005056&gps_lng=-86.7401728&price_max=' + str(price_max) + '&source=structured_search_input_header&place_id=ChIJPZDrEzLsZIgRoNrpodC5P30'\n",
    "        \n",
    "request = requests.get(website_url)\n",
    "bnb = BeautifulSoup(request.content, 'lxml')\n",
    "\n",
    "listing_count = bnb.find('div', attrs = {'class': '_1snxcqc'}).text\n",
    "length = listing_count.find(' stays')\n",
    "    \n",
    "count = listing_count[0:length]\n",
    "    \n",
    "print('URL: ' + website_url)\n",
    "\n",
    "urls = [website_url]\n",
    "names, night_cost, categories, suphost, list_urls, guests, total, reviews = [], [], [], [], [], [], [], []\n",
    "\n",
    "for i in range(1, 15):\n",
    "    url = website_url + '&items_offset=' + str(i * 20) + '&section_offset=3'\n",
    "    urls.append(url)\n",
    "    i = i+1\n",
    "\n",
    "url_len = len(urls) \n",
    "\n",
    "for j in range(0, url_len):\n",
    "    page = urls[j]\n",
    "    response2 = requests.get(page)\n",
    "    bnb2 = BeautifulSoup(response2.content, 'lxml')\n",
    "    listings2 = bnb2.find_all('div', attrs = {'class': '_8ssblpx'})\n",
    "    list_len = len(listings2)\n",
    "    \n",
    "    for num2 in range(0, list_len):\n",
    "        names.append(listings2[num2].find(\"div\", {\"class\":\"_bzh5lkq\"}).text) #name of Airbnb\n",
    "        night_cost.append(listings2[num2].find(\"div\", {\"class\":\"_1fwiw8gv\"}).text) # cost per night stay\n",
    "        categories.append(listings2[num2].find(\"div\", {\"class\":\"_1tanv1h\"}).text) # what type of rental is this (i.e. 'Entire Home in Nashville')\n",
    "        suphost.append(listings2[num2].find(\"div\", {\"class\":\"_1nz9l7j\"}).text) # Superhost status\n",
    "        list_urls.append(listings2[num2].find(\"div\", {\"class\":\"_8s3ctt\"}).find('a')['href']) # url for the listing\n",
    "        guests.append(listings2[num2].find(\"div\", {\"class\":\"_kqh46o\"}).text) # guests and BR/BA\n",
    "        reviews.append(listings2[num2].find(\"div\", {\"class\":\"_1bbeetd\"}).text) # review count and avg star rating\n",
    "        total.append(listings2[num2].find(\"div\", {\"class\":\"_vsjqit\"}).text) # total cost for trip \n",
    "\n",
    "dictionary = {'name': names, 'nightly cost': night_cost, 'category': categories, 'superhost': suphost, 'url': list_urls, 'guests_rental': guests, 'total cost': total, 'reviews': reviews}\n",
    "search_data = pd.DataFrame(dictionary)\n",
    "\n",
    "# Update file name\n",
    "filename = 'weekday/ci' + str(checkin) + 'co' + str(checkout) + '.csv'\n",
    "search_data.to_csv(filename, mode='a', index=False, header=True)\n",
    "\n",
    "print(' ')\n",
    "print('File created with listings up to $40: '+filename)"
   ]
  },
  {
   "cell_type": "markdown",
   "metadata": {},
   "source": [
    "### Let's scrape all of the listings that are 41 - 600 dollars and append the results to the file we created"
   ]
  },
  {
   "cell_type": "code",
   "execution_count": null,
   "metadata": {},
   "outputs": [],
   "source": [
    "# Build the website_url\n",
    "\n",
    "price_min = 41\n",
    "price_max = 60\n",
    "\n",
    "count = ''\n",
    "\n",
    "while price_max < 600: \n",
    "    \n",
    "    website_url = 'https://www.airbnb.com/s/Nashville--TN--United-States/homes?tab_id=home_tab&refinement_paths%5B%5D=%2Fhomes&checkin=' + str(checkin) + '&checkout=' + str(checkout) + '&source=structured_search_input_header&search_type=filter_change&gps_lat=36.097228799999996&gps_lng=-86.74344959999999&place_id=ChIJPZDrEzLsZIgRoNrpodC5P30&price_min=' + str(price_min) + '&price_max='+ str(price_max)\n",
    "        \n",
    "    request = requests.get(website_url)\n",
    "    bnb = BeautifulSoup(request.content, 'lxml')\n",
    "    \n",
    "    names, night_cost, categories, suphost, list_urls, guests, total, reviews = [], [], [], [], [], [], [], []\n",
    "\n",
    "    for i in range(1, 15):\n",
    "        url = website_url + '&items_offset=' + str(i * 20) + '&section_offset=3'\n",
    "        response2 = requests.get(url)\n",
    "        bnb2 = BeautifulSoup(response2.content, 'lxml')\n",
    "        listings2 = bnb2.find_all('div', attrs = {'class': '_8ssblpx'})\n",
    "        list_len = len(listings2)\n",
    "\n",
    "        for num2 in range(0, list_len):\n",
    "            names.append(listings2[num2].find(\"div\", {\"class\":\"_bzh5lkq\"}).text) #name of Airbnb\n",
    "            night_cost.append(listings2[num2].find(\"div\", {\"class\":\"_1fwiw8gv\"}).text) # cost per night stay\n",
    "            categories.append(listings2[num2].find(\"div\", {\"class\":\"_1tanv1h\"}).text) # what type of rental is this (i.e. 'Entire Home in Nashville')\n",
    "            suphost.append(listings2[num2].find(\"div\", {\"class\":\"_1nz9l7j\"}).text) # Superhost status\n",
    "            list_urls.append(listings2[num2].find(\"div\", {\"class\":\"_8s3ctt\"}).find('a')['href']) # url for the listing\n",
    "            guests.append(listings2[num2].find(\"div\", {\"class\":\"_kqh46o\"}).text) # guests and BR/BA\n",
    "            reviews.append(listings2[num2].find(\"div\", {\"class\":\"_1bbeetd\"}).text) # review count and avg star rating\n",
    "            total.append(listings2[num2].find(\"div\", {\"class\":\"_vsjqit\"}).text) # total cost for trip \n",
    "\n",
    "    dictionary = {'name': names, 'nightly cost': night_cost, 'category': categories, 'superhost': suphost, 'url': list_urls, 'guests_rental': guests, 'total cost': total, 'reviews': reviews}\n",
    "    search_data = pd.DataFrame(dictionary)\n",
    "\n",
    "    search_data.to_csv(filename , mode='a', index=False, header=False)\n",
    "    \n",
    "    price_min = price_min + 20\n",
    "    price_max = price_max + 20    \n",
    "    i = i+1  \n",
    "    \n",
    "print('$41 - $600 listings added to file: '+filename)"
   ]
  },
  {
   "cell_type": "markdown",
   "metadata": {},
   "source": [
    "### Now we can add high price listings that are 601 - 4600 dollars and append the results to the file "
   ]
  },
  {
   "cell_type": "code",
   "execution_count": null,
   "metadata": {},
   "outputs": [],
   "source": [
    "# Build the website_url\n",
    "\n",
    "price_min = 601\n",
    "price_max = 1600\n",
    "\n",
    "count = ''\n",
    "\n",
    "while price_max < 4601: \n",
    "    \n",
    "    website_url = 'https://www.airbnb.com/s/Nashville--TN--United-States/homes?tab_id=home_tab&refinement_paths%5B%5D=%2Fhomes&checkin=' + str(checkin) + '&checkout=' + str(checkout) + '&source=structured_search_input_header&search_type=filter_change&gps_lat=36.097228799999996&gps_lng=-86.74344959999999&place_id=ChIJPZDrEzLsZIgRoNrpodC5P30&price_min=' + str(price_min) + '&price_max='+ str(price_max)\n",
    "        \n",
    "    request = requests.get(website_url)\n",
    "    bnb = BeautifulSoup(request.content, 'lxml')\n",
    "    \n",
    "    names, night_cost, categories, suphost, list_urls, guests, total, reviews = [], [], [], [], [], [], [], []\n",
    "\n",
    "    for i in range(1, 15):\n",
    "        url = website_url + '&items_offset=' + str(i * 20) + '&section_offset=3'\n",
    "        response2 = requests.get(url)\n",
    "        bnb2 = BeautifulSoup(response2.content, 'lxml')\n",
    "        listings2 = bnb2.find_all('div', attrs = {'class': '_8ssblpx'})\n",
    "        list_len = len(listings2)\n",
    "\n",
    "        for num2 in range(0, list_len):\n",
    "            names.append(listings2[num2].find(\"div\", {\"class\":\"_bzh5lkq\"}).text) #name of Airbnb\n",
    "            night_cost.append(listings2[num2].find(\"div\", {\"class\":\"_1fwiw8gv\"}).text) # cost per night stay\n",
    "            categories.append(listings2[num2].find(\"div\", {\"class\":\"_1tanv1h\"}).text) # what type of rental is this (i.e. 'Entire Home in Nashville')\n",
    "            suphost.append(listings2[num2].find(\"div\", {\"class\":\"_1nz9l7j\"}).text) # Superhost status\n",
    "            list_urls.append(listings2[num2].find(\"div\", {\"class\":\"_8s3ctt\"}).find('a')['href']) # url for the listing\n",
    "            guests.append(listings2[num2].find(\"div\", {\"class\":\"_kqh46o\"}).text) # guests and BR/BA\n",
    "            reviews.append(listings2[num2].find(\"div\", {\"class\":\"_1bbeetd\"}).text) # review count and avg star rating\n",
    "            total.append(listings2[num2].find(\"div\", {\"class\":\"_vsjqit\"}).text) # total cost for trip \n",
    "\n",
    "    dictionary = {'name': names, 'nightly cost': night_cost, 'category': categories, 'superhost': suphost, 'url': list_urls, 'guests_rental': guests, 'total cost': total, 'reviews': reviews}\n",
    "    search_data = pd.DataFrame(dictionary)\n",
    "\n",
    "    search_data.to_csv(filename , mode='a', index=False, header=False)\n",
    "    \n",
    "    price_min = price_min + 1000\n",
    "    price_max = price_max + 1000    \n",
    "    i = i+1  \n",
    "    \n",
    "print('$601 - $4601 listings added to file: '+filename)"
   ]
  },
  {
   "cell_type": "code",
   "execution_count": null,
   "metadata": {},
   "outputs": [],
   "source": []
  }
 ],
 "metadata": {
  "kernelspec": {
   "display_name": "Python 3",
   "language": "python",
   "name": "python3"
  },
  "language_info": {
   "codemirror_mode": {
    "name": "ipython",
    "version": 3
   },
   "file_extension": ".py",
   "mimetype": "text/x-python",
   "name": "python",
   "nbconvert_exporter": "python",
   "pygments_lexer": "ipython3",
   "version": "3.8.3"
  }
 },
 "nbformat": 4,
 "nbformat_minor": 4
}
