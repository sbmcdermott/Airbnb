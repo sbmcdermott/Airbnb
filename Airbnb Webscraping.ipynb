{
 "cells": [
  {
   "cell_type": "markdown",
   "metadata": {},
   "source": [
    "## Let's Use Airbnb's API to get Data for Nashville Rentals"
   ]
  },
  {
   "cell_type": "code",
   "execution_count": 91,
   "metadata": {},
   "outputs": [],
   "source": [
    "import requests\n",
    "from bs4 import BeautifulSoup  \n",
    "import pandas as pd"
   ]
  },
  {
   "cell_type": "markdown",
   "metadata": {},
   "source": [
    "#### Make a request using the requests library"
   ]
  },
  {
   "cell_type": "code",
   "execution_count": 175,
   "metadata": {},
   "outputs": [
    {
     "data": {
      "text/plain": [
       "200"
      ]
     },
     "execution_count": 175,
     "metadata": {},
     "output_type": "execute_result"
    }
   ],
   "source": [
    "website_url = 'https://www.airbnb.com/s/East-Nashville--Nashville--TN--United-States/homes?refinement_paths%5B%5D=%2Fhomes&tab_id=home_tab&checkin=2020-12-18&checkout=2020-12-20&adults=10&search_type=filter_change&gps_lat=36.1005056&gps_lng=-86.7401728&price_max=510&place_id=ChIJQfjkuXtoZIgRnWBuVONAPJs'\n",
    "\n",
    "request = requests.get(website_url)\n",
    "\n",
    "request.status_code"
   ]
  },
  {
   "cell_type": "markdown",
   "metadata": {},
   "source": [
    "#### Use [Beautiful Soup](https://www.crummy.com/software/BeautifulSoup/bs4/doc/) package to extract data from html docs (and xml docs)"
   ]
  },
  {
   "cell_type": "code",
   "execution_count": 176,
   "metadata": {},
   "outputs": [
    {
     "name": "stdout",
     "output_type": "stream",
     "text": [
      "<title>Airbnb® | East Nashville, Nashville - Vacation Rentals &amp; Places to Stay - Tennessee, United States</title>\n"
     ]
    }
   ],
   "source": [
    "bnb = BeautifulSoup(request.content, 'lxml')\n",
    "print(bnb.title)"
   ]
  },
  {
   "cell_type": "code",
   "execution_count": 177,
   "metadata": {
    "scrolled": true
   },
   "outputs": [],
   "source": [
    "listings = bnb.find_all('div', attrs = {'class': '_8ssblpx'}) # listing level information"
   ]
  },
  {
   "cell_type": "code",
   "execution_count": 178,
   "metadata": {},
   "outputs": [
    {
     "data": {
      "text/plain": [
       "bs4.element.ResultSet"
      ]
     },
     "execution_count": 178,
     "metadata": {},
     "output_type": "execute_result"
    }
   ],
   "source": [
    "type(listings)"
   ]
  },
  {
   "cell_type": "code",
   "execution_count": 179,
   "metadata": {},
   "outputs": [
    {
     "data": {
      "text/plain": [
       "20"
      ]
     },
     "execution_count": 179,
     "metadata": {},
     "output_type": "execute_result"
    }
   ],
   "source": [
    "len(listings)"
   ]
  },
  {
   "cell_type": "markdown",
   "metadata": {},
   "source": [
    "#### Let's look at what can be scraped from the first page of listings"
   ]
  },
  {
   "cell_type": "code",
   "execution_count": 180,
   "metadata": {},
   "outputs": [
    {
     "data": {
      "text/plain": [
       "'12 guests · 4 bedrooms · 11 beds · 3.5 baths'"
      ]
     },
     "execution_count": 180,
     "metadata": {},
     "output_type": "execute_result"
    }
   ],
   "source": [
    "guest = bnb.find(\"div\", {\"class\":\"_kqh46o\"}).text # guests and BR/BA\n",
    "guest"
   ]
  },
  {
   "cell_type": "code",
   "execution_count": 181,
   "metadata": {},
   "outputs": [
    {
     "data": {
      "text/plain": [
       "'/rooms/40420743?adults=10&check_in=2020-12-18&check_out=2020-12-20&previous_page_section_name=1000&federated_search_id=93309177-8221-42d1-8da8-be23f48ca351'"
      ]
     },
     "execution_count": 181,
     "metadata": {},
     "output_type": "execute_result"
    }
   ],
   "source": [
    "url = bnb.find(\"div\", {\"class\":\"_1048zci\"}).find('a')['href'] # url for the listing\n",
    "url"
   ]
  },
  {
   "cell_type": "code",
   "execution_count": 182,
   "metadata": {},
   "outputs": [
    {
     "data": {
      "text/plain": [
       "'SUPERHOSTEntire house in NashvilleButterfly BNB~Modern Luxury~Giant Rooftop~9Min>DT12 guests · 4 bedrooms · 11 beds · 3.5 bathsWifi · Air conditioning · Kitchen · Free parkingNew lower priceRating 4.92 out of 5;4.9237 reviews\\xa0(37)Previous price:$591Discounted price:$356 / nightPrice:$1,212 totalShow details'"
      ]
     },
     "execution_count": 182,
     "metadata": {},
     "output_type": "execute_result"
    }
   ],
   "source": [
    "description = bnb.find(\"div\", {\"class\":\"_1048zci\"}).text # full description of rental \n",
    "description"
   ]
  },
  {
   "cell_type": "code",
   "execution_count": 183,
   "metadata": {},
   "outputs": [
    {
     "data": {
      "text/plain": [
       "'SUPERHOST'"
      ]
     },
     "execution_count": 183,
     "metadata": {},
     "output_type": "execute_result"
    }
   ],
   "source": [
    "superhost = bnb.find(\"div\", {\"class\":\"_1nz9l7j\"}).text # Superhost status\n",
    "superhost"
   ]
  },
  {
   "cell_type": "code",
   "execution_count": 184,
   "metadata": {},
   "outputs": [
    {
     "data": {
      "text/plain": [
       "'Entire house in Nashville'"
      ]
     },
     "execution_count": 184,
     "metadata": {},
     "output_type": "execute_result"
    }
   ],
   "source": [
    "category = bnb.find(\"div\", {\"class\":\"_1tanv1h\"}).text # what type of rental is this (i.e. 'Entire Home in Nashville')\n",
    "category"
   ]
  },
  {
   "cell_type": "code",
   "execution_count": 185,
   "metadata": {},
   "outputs": [
    {
     "data": {
      "text/plain": [
       "'Butterfly BNB~Modern Luxury~Giant Rooftop~9Min>DT'"
      ]
     },
     "execution_count": 185,
     "metadata": {},
     "output_type": "execute_result"
    }
   ],
   "source": [
    "name = bnb.find(\"div\", {\"class\":\"_bzh5lkq\"}).text #name of Airbnb\n",
    "name"
   ]
  },
  {
   "cell_type": "code",
   "execution_count": 186,
   "metadata": {},
   "outputs": [
    {
     "data": {
      "text/plain": [
       "'Previous price:$591Discounted price:$356 / night'"
      ]
     },
     "execution_count": 186,
     "metadata": {},
     "output_type": "execute_result"
    }
   ],
   "source": [
    "cost_night = bnb.find(\"div\", {\"class\":\"_1fwiw8gv\"}).text # cost per night stay\n",
    "cost_night"
   ]
  },
  {
   "cell_type": "code",
   "execution_count": 187,
   "metadata": {},
   "outputs": [
    {
     "data": {
      "text/plain": [
       "'Price:$1,212'"
      ]
     },
     "execution_count": 187,
     "metadata": {},
     "output_type": "execute_result"
    }
   ],
   "source": [
    "cost_total = bnb.find(\"div\", {\"class\":\"_vsjqit\"}).text\n",
    "length_cost = cost_total.find(' total')\n",
    "\n",
    "cost_total = cost_total[0:length_cost] # total cost for the trip \n",
    "cost_total"
   ]
  },
  {
   "cell_type": "code",
   "execution_count": 188,
   "metadata": {},
   "outputs": [
    {
     "name": "stdout",
     "output_type": "stream",
     "text": [
      "Rating 4.92 out of 5;4.9237 reviews (37)Previous price:$591Discounted price:$356 / nightPrice:$1,212 totalShow details\n"
     ]
    }
   ],
   "source": [
    "#rev = bnb.find(\"div\", {\"class\":\"_vaj62s\"}).text # this will break if there are no reviews for a listing \n",
    "rev = bnb.find(\"div\", {\"class\":\"_1bbeetd\"}).text\n",
    "print(rev)\n",
    "\n",
    "#length = rev.find(';')\n",
    "#stars = rev[0:length] # how many stars out of 5\n",
    "\n",
    "#length2 = rev.find('(')\n",
    "#reviews = rev[length2:] # how many reviews "
   ]
  },
  {
   "cell_type": "markdown",
   "metadata": {},
   "source": [
    "#### Let's put all of the listing information for the first page into a dataframe"
   ]
  },
  {
   "cell_type": "code",
   "execution_count": 189,
   "metadata": {},
   "outputs": [
    {
     "data": {
      "text/html": [
       "<div>\n",
       "<style scoped>\n",
       "    .dataframe tbody tr th:only-of-type {\n",
       "        vertical-align: middle;\n",
       "    }\n",
       "\n",
       "    .dataframe tbody tr th {\n",
       "        vertical-align: top;\n",
       "    }\n",
       "\n",
       "    .dataframe thead th {\n",
       "        text-align: right;\n",
       "    }\n",
       "</style>\n",
       "<table border=\"1\" class=\"dataframe\">\n",
       "  <thead>\n",
       "    <tr style=\"text-align: right;\">\n",
       "      <th></th>\n",
       "      <th>name</th>\n",
       "      <th>nightly cost</th>\n",
       "      <th>category</th>\n",
       "      <th>superhost</th>\n",
       "      <th>url</th>\n",
       "      <th>guests_rental</th>\n",
       "      <th>total cost</th>\n",
       "      <th>reviews</th>\n",
       "    </tr>\n",
       "  </thead>\n",
       "  <tbody>\n",
       "    <tr>\n",
       "      <th>0</th>\n",
       "      <td>Butterfly BNB~Modern Luxury~Giant Rooftop~9Min&gt;DT</td>\n",
       "      <td>Previous price:$591Discounted price:$356 / night</td>\n",
       "      <td>Entire house in Nashville</td>\n",
       "      <td>SUPERHOST</td>\n",
       "      <td>/rooms/40420743?adults=10&amp;check_in=2020-12-18&amp;...</td>\n",
       "      <td>12 guests · 4 bedrooms · 11 beds · 3.5 baths</td>\n",
       "      <td>Price:$1,212 totalShow details</td>\n",
       "      <td>Rating 4.92 out of 5;4.9237 reviews (37)Previo...</td>\n",
       "    </tr>\n",
       "    <tr>\n",
       "      <th>1</th>\n",
       "      <td>Explore Music City from a Sanctuary-like Urban...</td>\n",
       "      <td>Price:$349 / night</td>\n",
       "      <td>Entire house in Nashville</td>\n",
       "      <td>PLUS</td>\n",
       "      <td>/rooms/plus/27520811?adults=10&amp;check_in=2020-1...</td>\n",
       "      <td>10 guests · 4 bedrooms · 6 beds · 3 baths</td>\n",
       "      <td>Price:$968 totalShow details</td>\n",
       "      <td>Rating 5.0 out of 5;5.0112 reviews (112)Price:...</td>\n",
       "    </tr>\n",
       "    <tr>\n",
       "      <th>2</th>\n",
       "      <td>4BR from Thomas Rhett Video✦Patio/Deck/Fenced ...</td>\n",
       "      <td>Previous price:$500Discounted price:$365 / night</td>\n",
       "      <td>Entire house in Nashville</td>\n",
       "      <td>SUPERHOST</td>\n",
       "      <td>/rooms/14088893?adults=10&amp;check_in=2020-12-18&amp;...</td>\n",
       "      <td>12 guests · 4 bedrooms · 7 beds · 3 baths</td>\n",
       "      <td>Price:$947 totalShow details</td>\n",
       "      <td>Rating 4.96 out of 5;4.9649 reviews (49)Previo...</td>\n",
       "    </tr>\n",
       "    <tr>\n",
       "      <th>3</th>\n",
       "      <td>Newly Built Home Perfect for any Occasion!!!</td>\n",
       "      <td>Previous price:$319Discounted price:$244 / night</td>\n",
       "      <td>Entire house in Nashville</td>\n",
       "      <td></td>\n",
       "      <td>/rooms/45452826?adults=10&amp;check_in=2020-12-18&amp;...</td>\n",
       "      <td>10 guests · 4 bedrooms · 5 beds · 3 baths</td>\n",
       "      <td>Price:$757 totalShow details</td>\n",
       "      <td>Rating 4.67 out of 5;4.673 reviews (3)Previous...</td>\n",
       "    </tr>\n",
       "    <tr>\n",
       "      <th>4</th>\n",
       "      <td>East Nashville Home, walk to dining &amp; greenway</td>\n",
       "      <td>Price:$275 / night</td>\n",
       "      <td>Entire house in Nashville</td>\n",
       "      <td></td>\n",
       "      <td>/rooms/45609934?adults=10&amp;check_in=2020-12-18&amp;...</td>\n",
       "      <td>12 guests · 5 bedrooms · 8 beds · 3 baths</td>\n",
       "      <td>Price:$787 totalShow details</td>\n",
       "      <td>Price:$275 / nightPrice:$787 totalShow details</td>\n",
       "    </tr>\n",
       "  </tbody>\n",
       "</table>\n",
       "</div>"
      ],
      "text/plain": [
       "                                                name  \\\n",
       "0  Butterfly BNB~Modern Luxury~Giant Rooftop~9Min>DT   \n",
       "1  Explore Music City from a Sanctuary-like Urban...   \n",
       "2  4BR from Thomas Rhett Video✦Patio/Deck/Fenced ...   \n",
       "3       Newly Built Home Perfect for any Occasion!!!   \n",
       "4     East Nashville Home, walk to dining & greenway   \n",
       "\n",
       "                                       nightly cost  \\\n",
       "0  Previous price:$591Discounted price:$356 / night   \n",
       "1                                Price:$349 / night   \n",
       "2  Previous price:$500Discounted price:$365 / night   \n",
       "3  Previous price:$319Discounted price:$244 / night   \n",
       "4                                Price:$275 / night   \n",
       "\n",
       "                    category  superhost  \\\n",
       "0  Entire house in Nashville  SUPERHOST   \n",
       "1  Entire house in Nashville       PLUS   \n",
       "2  Entire house in Nashville  SUPERHOST   \n",
       "3  Entire house in Nashville              \n",
       "4  Entire house in Nashville              \n",
       "\n",
       "                                                 url  \\\n",
       "0  /rooms/40420743?adults=10&check_in=2020-12-18&...   \n",
       "1  /rooms/plus/27520811?adults=10&check_in=2020-1...   \n",
       "2  /rooms/14088893?adults=10&check_in=2020-12-18&...   \n",
       "3  /rooms/45452826?adults=10&check_in=2020-12-18&...   \n",
       "4  /rooms/45609934?adults=10&check_in=2020-12-18&...   \n",
       "\n",
       "                                  guests_rental  \\\n",
       "0  12 guests · 4 bedrooms · 11 beds · 3.5 baths   \n",
       "1     10 guests · 4 bedrooms · 6 beds · 3 baths   \n",
       "2     12 guests · 4 bedrooms · 7 beds · 3 baths   \n",
       "3     10 guests · 4 bedrooms · 5 beds · 3 baths   \n",
       "4     12 guests · 5 bedrooms · 8 beds · 3 baths   \n",
       "\n",
       "                       total cost  \\\n",
       "0  Price:$1,212 totalShow details   \n",
       "1    Price:$968 totalShow details   \n",
       "2    Price:$947 totalShow details   \n",
       "3    Price:$757 totalShow details   \n",
       "4    Price:$787 totalShow details   \n",
       "\n",
       "                                             reviews  \n",
       "0  Rating 4.92 out of 5;4.9237 reviews (37)Previo...  \n",
       "1  Rating 5.0 out of 5;5.0112 reviews (112)Price:...  \n",
       "2  Rating 4.96 out of 5;4.9649 reviews (49)Previo...  \n",
       "3  Rating 4.67 out of 5;4.673 reviews (3)Previous...  \n",
       "4     Price:$275 / nightPrice:$787 totalShow details  "
      ]
     },
     "execution_count": 189,
     "metadata": {},
     "output_type": "execute_result"
    }
   ],
   "source": [
    "names, night_cost, categories, suphost, urls, guests, total, reviews = [], [], [], [], [], [], [], []\n",
    "\n",
    "for num in range(0, 20): \n",
    "    names.append(listings[num].find(\"div\", {\"class\":\"_bzh5lkq\"}).text) #name of Airbnb\n",
    "    night_cost.append(listings[num].find(\"div\", {\"class\":\"_1fwiw8gv\"}).text) # cost per night stay\n",
    "    categories.append(listings[num].find(\"div\", {\"class\":\"_1tanv1h\"}).text) # what type of rental is this (i.e. 'Entire Home in Nashville')\n",
    "    suphost.append(listings[num].find(\"div\", {\"class\":\"_1nz9l7j\"}).text) # Superhost status\n",
    "    urls.append(listings[num].find(\"div\", {\"class\":\"_1048zci\"}).find('a')['href']) # url for the listing\n",
    "    guests.append(listings[num].find(\"div\", {\"class\":\"_kqh46o\"}).text) # guests and BR/BA\n",
    "    reviews.append(listings[num].find(\"div\", {\"class\":\"_1bbeetd\"}).text) # review count and avg star rating\n",
    "    total.append(listings[num].find(\"div\", {\"class\":\"_vsjqit\"}).text) # total cost for trip \n",
    "    \n",
    "dictionary = {'name': names, 'nightly cost': night_cost, 'category': categories, 'superhost': suphost, 'url': urls, 'guests_rental': guests, 'total cost': total, 'reviews': reviews}\n",
    "page_data = pd.DataFrame(dictionary)\n",
    "page_data.head()"
   ]
  },
  {
   "cell_type": "markdown",
   "metadata": {},
   "source": [
    "#### Iterate through the rest of the pages and pull the listing data"
   ]
  },
  {
   "cell_type": "markdown",
   "metadata": {},
   "source": [
    "#### Create a list of all of the pages for the search criteria "
   ]
  },
  {
   "cell_type": "code",
   "execution_count": 190,
   "metadata": {},
   "outputs": [
    {
     "data": {
      "text/html": [
       "<div>\n",
       "<style scoped>\n",
       "    .dataframe tbody tr th:only-of-type {\n",
       "        vertical-align: middle;\n",
       "    }\n",
       "\n",
       "    .dataframe tbody tr th {\n",
       "        vertical-align: top;\n",
       "    }\n",
       "\n",
       "    .dataframe thead th {\n",
       "        text-align: right;\n",
       "    }\n",
       "</style>\n",
       "<table border=\"1\" class=\"dataframe\">\n",
       "  <thead>\n",
       "    <tr style=\"text-align: right;\">\n",
       "      <th></th>\n",
       "      <th>name</th>\n",
       "      <th>nightly cost</th>\n",
       "      <th>category</th>\n",
       "      <th>superhost</th>\n",
       "      <th>url</th>\n",
       "      <th>guests_rental</th>\n",
       "      <th>total cost</th>\n",
       "      <th>reviews</th>\n",
       "    </tr>\n",
       "  </thead>\n",
       "  <tbody>\n",
       "    <tr>\n",
       "      <th>0</th>\n",
       "      <td>BRAND NEW HOME ★ HUGE ROOFTOP ★ LARGE 4BR</td>\n",
       "      <td>Price:$399 / night</td>\n",
       "      <td>Entire house in Nashville</td>\n",
       "      <td>SUPERHOST</td>\n",
       "      <td>/rooms/23825123?adults=10&amp;check_in=2020-12-18&amp;...</td>\n",
       "      <td>12 guests · 4 bedrooms · 7 beds · 2.5 baths</td>\n",
       "      <td>Price:$1,082 totalShow details</td>\n",
       "      <td>Rating 4.74 out of 5;4.7473 reviews (73)Price:...</td>\n",
       "    </tr>\n",
       "    <tr>\n",
       "      <th>1</th>\n",
       "      <td>SUPER CLEAN LUXURY HOME, ONSITE BBQ AND TAILGA...</td>\n",
       "      <td>Previous price:$263Discounted price:$185 / night</td>\n",
       "      <td>Entire townhouse in Nashville</td>\n",
       "      <td>SUPERHOST</td>\n",
       "      <td>/rooms/40539365?adults=10&amp;check_in=2020-12-18&amp;...</td>\n",
       "      <td>10 guests · 3 bedrooms · 6 beds · 3 baths</td>\n",
       "      <td>Price:$593 totalShow details</td>\n",
       "      <td>Rating 4.89 out of 5;4.8927 reviews (27)Previo...</td>\n",
       "    </tr>\n",
       "    <tr>\n",
       "      <th>2</th>\n",
       "      <td>Spacious Modern Resort in East Nashville</td>\n",
       "      <td>Price:$175 / night</td>\n",
       "      <td>Entire townhouse in Nashville</td>\n",
       "      <td></td>\n",
       "      <td>/rooms/45200659?adults=10&amp;check_in=2020-12-18&amp;...</td>\n",
       "      <td>14 guests · 4 bedrooms · 5 beds · 3.5 baths</td>\n",
       "      <td>Price:$794 totalShow details</td>\n",
       "      <td>Rating 4.67 out of 5;4.673 reviews (3)Price:$1...</td>\n",
       "    </tr>\n",
       "    <tr>\n",
       "      <th>3</th>\n",
       "      <td>GULCH GETAWAY! STUNNING VIEWS OF NASHVILLE! 20...</td>\n",
       "      <td>Previous price:$481Discounted price:$290 / night</td>\n",
       "      <td>Entire townhouse in Nashville</td>\n",
       "      <td></td>\n",
       "      <td>/rooms/31090078?adults=10&amp;check_in=2020-12-18&amp;...</td>\n",
       "      <td>10 guests · 3 bedrooms · 6 beds · 3.5 baths</td>\n",
       "      <td>Price:$889 totalShow details</td>\n",
       "      <td>Rating 4.89 out of 5;4.8953 reviews (53)Previo...</td>\n",
       "    </tr>\n",
       "    <tr>\n",
       "      <th>4</th>\n",
       "      <td>HT2 - Beautiful New Home in Five Points with 2...</td>\n",
       "      <td>Previous price:$536Discounted price:$430 / night</td>\n",
       "      <td>Entire house in Nashville</td>\n",
       "      <td></td>\n",
       "      <td>/rooms/45224489?adults=10&amp;check_in=2020-12-18&amp;...</td>\n",
       "      <td>12 guests · 5 bedrooms · 9 beds · 4 baths</td>\n",
       "      <td>Price:$1,381 totalShow details</td>\n",
       "      <td>Previous price:$536Discounted price:$430 / nig...</td>\n",
       "    </tr>\n",
       "    <tr>\n",
       "      <th>...</th>\n",
       "      <td>...</td>\n",
       "      <td>...</td>\n",
       "      <td>...</td>\n",
       "      <td>...</td>\n",
       "      <td>...</td>\n",
       "      <td>...</td>\n",
       "      <td>...</td>\n",
       "      <td>...</td>\n",
       "    </tr>\n",
       "    <tr>\n",
       "      <th>275</th>\n",
       "      <td>Unwind On The SANITIZED Rooftop in Luxury</td>\n",
       "      <td>Previous price:$488Discounted price:$426 / night</td>\n",
       "      <td>Entire house in Nashville</td>\n",
       "      <td>SUPERHOST</td>\n",
       "      <td>/rooms/16080524?adults=10&amp;check_in=2020-12-18&amp;...</td>\n",
       "      <td>10 guests · 3 bedrooms · 6 beds · 4 baths</td>\n",
       "      <td>Price:$1,199 totalShow details</td>\n",
       "      <td>Rating 4.92 out of 5;4.9263 reviews (63)Previo...</td>\n",
       "    </tr>\n",
       "    <tr>\n",
       "      <th>276</th>\n",
       "      <td>Brand  New Build / 2 Miles to Downtown</td>\n",
       "      <td>Price:$490 / night</td>\n",
       "      <td>Entire house in Nashville</td>\n",
       "      <td>SUPERHOST</td>\n",
       "      <td>/rooms/38693715?adults=10&amp;check_in=2020-12-18&amp;...</td>\n",
       "      <td>10 guests · 3 bedrooms · 5 beds · 4 baths</td>\n",
       "      <td>Price:$1,341 totalShow details</td>\n",
       "      <td>Rating 4.93 out of 5;4.9330 reviews (30)Price:...</td>\n",
       "    </tr>\n",
       "    <tr>\n",
       "      <th>277</th>\n",
       "      <td>Group listing for 2 units! 1 Mile from Broadway!</td>\n",
       "      <td>Price:$326 / night</td>\n",
       "      <td>Entire apartment in Nashville</td>\n",
       "      <td>SUPERHOST</td>\n",
       "      <td>/rooms/42973154?adults=10&amp;check_in=2020-12-18&amp;...</td>\n",
       "      <td>12 guests · 4 bedrooms · 6 beds · 2 baths</td>\n",
       "      <td>Price:$972 totalShow details</td>\n",
       "      <td>Price:$326 / nightPrice:$972 totalShow details</td>\n",
       "    </tr>\n",
       "    <tr>\n",
       "      <th>278</th>\n",
       "      <td>Nashville Modern Luxury - 5 minutes to Downtown!</td>\n",
       "      <td>Price:$450 / night</td>\n",
       "      <td>Entire house in Nashville</td>\n",
       "      <td></td>\n",
       "      <td>/rooms/18635166?adults=10&amp;check_in=2020-12-18&amp;...</td>\n",
       "      <td>10 guests · 3 bedrooms · 5 beds · 2 baths</td>\n",
       "      <td>Price:$1,141 totalShow details</td>\n",
       "      <td>Rating 5.0 out of 5;5.08 reviews (8)Price:$450...</td>\n",
       "    </tr>\n",
       "    <tr>\n",
       "      <th>279</th>\n",
       "      <td>Primitive Camp Site. 45 min west of Nashville</td>\n",
       "      <td>Price:$33 / night</td>\n",
       "      <td>Campsite in Nashville</td>\n",
       "      <td></td>\n",
       "      <td>/rooms/5500808?adults=10&amp;check_in=2020-12-18&amp;c...</td>\n",
       "      <td>12 guests · Studio · 0 beds · 0 baths</td>\n",
       "      <td>Price:$74 totalShow details</td>\n",
       "      <td>Rating 5.0 out of 5;5.012 reviews (12)Price:$3...</td>\n",
       "    </tr>\n",
       "  </tbody>\n",
       "</table>\n",
       "<p>280 rows × 8 columns</p>\n",
       "</div>"
      ],
      "text/plain": [
       "                                                  name  \\\n",
       "0            BRAND NEW HOME ★ HUGE ROOFTOP ★ LARGE 4BR   \n",
       "1    SUPER CLEAN LUXURY HOME, ONSITE BBQ AND TAILGA...   \n",
       "2             Spacious Modern Resort in East Nashville   \n",
       "3    GULCH GETAWAY! STUNNING VIEWS OF NASHVILLE! 20...   \n",
       "4    HT2 - Beautiful New Home in Five Points with 2...   \n",
       "..                                                 ...   \n",
       "275          Unwind On The SANITIZED Rooftop in Luxury   \n",
       "276             Brand  New Build / 2 Miles to Downtown   \n",
       "277   Group listing for 2 units! 1 Mile from Broadway!   \n",
       "278   Nashville Modern Luxury - 5 minutes to Downtown!   \n",
       "279      Primitive Camp Site. 45 min west of Nashville   \n",
       "\n",
       "                                         nightly cost  \\\n",
       "0                                  Price:$399 / night   \n",
       "1    Previous price:$263Discounted price:$185 / night   \n",
       "2                                  Price:$175 / night   \n",
       "3    Previous price:$481Discounted price:$290 / night   \n",
       "4    Previous price:$536Discounted price:$430 / night   \n",
       "..                                                ...   \n",
       "275  Previous price:$488Discounted price:$426 / night   \n",
       "276                                Price:$490 / night   \n",
       "277                                Price:$326 / night   \n",
       "278                                Price:$450 / night   \n",
       "279                                 Price:$33 / night   \n",
       "\n",
       "                          category  superhost  \\\n",
       "0        Entire house in Nashville  SUPERHOST   \n",
       "1    Entire townhouse in Nashville  SUPERHOST   \n",
       "2    Entire townhouse in Nashville              \n",
       "3    Entire townhouse in Nashville              \n",
       "4        Entire house in Nashville              \n",
       "..                             ...        ...   \n",
       "275      Entire house in Nashville  SUPERHOST   \n",
       "276      Entire house in Nashville  SUPERHOST   \n",
       "277  Entire apartment in Nashville  SUPERHOST   \n",
       "278      Entire house in Nashville              \n",
       "279          Campsite in Nashville              \n",
       "\n",
       "                                                   url  \\\n",
       "0    /rooms/23825123?adults=10&check_in=2020-12-18&...   \n",
       "1    /rooms/40539365?adults=10&check_in=2020-12-18&...   \n",
       "2    /rooms/45200659?adults=10&check_in=2020-12-18&...   \n",
       "3    /rooms/31090078?adults=10&check_in=2020-12-18&...   \n",
       "4    /rooms/45224489?adults=10&check_in=2020-12-18&...   \n",
       "..                                                 ...   \n",
       "275  /rooms/16080524?adults=10&check_in=2020-12-18&...   \n",
       "276  /rooms/38693715?adults=10&check_in=2020-12-18&...   \n",
       "277  /rooms/42973154?adults=10&check_in=2020-12-18&...   \n",
       "278  /rooms/18635166?adults=10&check_in=2020-12-18&...   \n",
       "279  /rooms/5500808?adults=10&check_in=2020-12-18&c...   \n",
       "\n",
       "                                   guests_rental  \\\n",
       "0    12 guests · 4 bedrooms · 7 beds · 2.5 baths   \n",
       "1      10 guests · 3 bedrooms · 6 beds · 3 baths   \n",
       "2    14 guests · 4 bedrooms · 5 beds · 3.5 baths   \n",
       "3    10 guests · 3 bedrooms · 6 beds · 3.5 baths   \n",
       "4      12 guests · 5 bedrooms · 9 beds · 4 baths   \n",
       "..                                           ...   \n",
       "275    10 guests · 3 bedrooms · 6 beds · 4 baths   \n",
       "276    10 guests · 3 bedrooms · 5 beds · 4 baths   \n",
       "277    12 guests · 4 bedrooms · 6 beds · 2 baths   \n",
       "278    10 guests · 3 bedrooms · 5 beds · 2 baths   \n",
       "279        12 guests · Studio · 0 beds · 0 baths   \n",
       "\n",
       "                         total cost  \\\n",
       "0    Price:$1,082 totalShow details   \n",
       "1      Price:$593 totalShow details   \n",
       "2      Price:$794 totalShow details   \n",
       "3      Price:$889 totalShow details   \n",
       "4    Price:$1,381 totalShow details   \n",
       "..                              ...   \n",
       "275  Price:$1,199 totalShow details   \n",
       "276  Price:$1,341 totalShow details   \n",
       "277    Price:$972 totalShow details   \n",
       "278  Price:$1,141 totalShow details   \n",
       "279     Price:$74 totalShow details   \n",
       "\n",
       "                                               reviews  \n",
       "0    Rating 4.74 out of 5;4.7473 reviews (73)Price:...  \n",
       "1    Rating 4.89 out of 5;4.8927 reviews (27)Previo...  \n",
       "2    Rating 4.67 out of 5;4.673 reviews (3)Price:$1...  \n",
       "3    Rating 4.89 out of 5;4.8953 reviews (53)Previo...  \n",
       "4    Previous price:$536Discounted price:$430 / nig...  \n",
       "..                                                 ...  \n",
       "275  Rating 4.92 out of 5;4.9263 reviews (63)Previo...  \n",
       "276  Rating 4.93 out of 5;4.9330 reviews (30)Price:...  \n",
       "277     Price:$326 / nightPrice:$972 totalShow details  \n",
       "278  Rating 5.0 out of 5;5.08 reviews (8)Price:$450...  \n",
       "279  Rating 5.0 out of 5;5.012 reviews (12)Price:$3...  \n",
       "\n",
       "[280 rows x 8 columns]"
      ]
     },
     "execution_count": 190,
     "metadata": {},
     "output_type": "execute_result"
    }
   ],
   "source": [
    "urls = []\n",
    "names, night_cost, categories, suphost, list_urls, guests, total, reviews = [], [], [], [], [], [], [], []\n",
    "\n",
    "for i in range(1, 15):\n",
    "    url = website_url + '&items_offset=' + str(i * 20) + '&section_offset=3'\n",
    "    urls.append(url)\n",
    "    i = i+1\n",
    "\n",
    "for j in range(0, 14):\n",
    "    page = urls[j]\n",
    "    response2 = requests.get(page)\n",
    "    bnb2 = BeautifulSoup(response2.content, 'lxml')\n",
    "    listings2 = bnb2.find_all('div', attrs = {'class': '_8ssblpx'})\n",
    "    \n",
    "    for num2 in range(0, 20): \n",
    "        names.append(listings2[num2].find(\"div\", {\"class\":\"_bzh5lkq\"}).text) #name of Airbnb\n",
    "        night_cost.append(listings2[num2].find(\"div\", {\"class\":\"_1fwiw8gv\"}).text) # cost per night stay\n",
    "        categories.append(listings2[num2].find(\"div\", {\"class\":\"_1tanv1h\"}).text) # what type of rental is this (i.e. 'Entire Home in Nashville')\n",
    "        suphost.append(listings2[num2].find(\"div\", {\"class\":\"_1nz9l7j\"}).text) # Superhost status\n",
    "        list_urls.append(listings2[num2].find(\"div\", {\"class\":\"_1048zci\"}).find('a')['href']) # url for the listing\n",
    "        guests.append(listings2[num2].find(\"div\", {\"class\":\"_kqh46o\"}).text) # guests and BR/BA\n",
    "        reviews.append(listings2[num2].find(\"div\", {\"class\":\"_1bbeetd\"}).text) # review count and avg star rating\n",
    "        total.append(listings2[num2].find(\"div\", {\"class\":\"_vsjqit\"}).text) # total cost for trip \n",
    "\n",
    "dictionary = {'name': names, 'nightly cost': night_cost, 'category': categories, 'superhost': suphost, 'url': list_urls, 'guests_rental': guests, 'total cost': total, 'reviews': reviews}\n",
    "search_data = pd.DataFrame(dictionary)\n",
    "\n",
    "search_data"
   ]
  },
  {
   "cell_type": "code",
   "execution_count": 191,
   "metadata": {},
   "outputs": [
    {
     "data": {
      "text/plain": [
       "(300, 8)"
      ]
     },
     "execution_count": 191,
     "metadata": {},
     "output_type": "execute_result"
    }
   ],
   "source": [
    "first_search = page_data.append(search_data)\n",
    "first_search.shape"
   ]
  },
  {
   "cell_type": "code",
   "execution_count": null,
   "metadata": {},
   "outputs": [],
   "source": []
  }
 ],
 "metadata": {
  "kernelspec": {
   "display_name": "Python 3",
   "language": "python",
   "name": "python3"
  },
  "language_info": {
   "codemirror_mode": {
    "name": "ipython",
    "version": 3
   },
   "file_extension": ".py",
   "mimetype": "text/x-python",
   "name": "python",
   "nbconvert_exporter": "python",
   "pygments_lexer": "ipython3",
   "version": "3.8.3"
  }
 },
 "nbformat": 4,
 "nbformat_minor": 4
}
